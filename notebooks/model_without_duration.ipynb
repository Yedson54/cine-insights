{
 "cells": [
  {
   "cell_type": "markdown",
   "metadata": {},
   "source": [
    "# Project Description (data and tasks)\n",
    "We are working with data from the TMDB box office, which describes a number of categorical features (eg. release_year, spoken_languages) and numeric features (eg. budget, runtime, homepage). Additionally we will be adding new hash features into our pipeline (eg.production companies, languages). We will use these features to predict the revenue of each movie in the test set. The challenge here is to predict the worldwide revenue for 4,398 (100 in practice) movies in the test file given various information about the movie. The tasks to be completed in phase 3 require adding the hash features of production countries, spoken languages, keywords, along with the cast and crew. We also plan to intergrate a decision tree regression model (xgboost) to help improve our score and accuracy."
   ]
  },
  {
   "cell_type": "markdown",
   "metadata": {},
   "source": [
    "# 1 Import and Init "
   ]
  },
  {
   "cell_type": "markdown",
   "metadata": {},
   "source": [
    "## 1.1 Python and Stuffs"
   ]
  },
  {
   "cell_type": "code",
   "execution_count": 4,
   "metadata": {},
   "outputs": [],
   "source": [
    "from sklearn.pipeline import Pipeline, FeatureUnion, make_pipeline\n",
    "from sklearn.compose import ColumnTransformer\n",
    "from sklearn.model_selection import train_test_split\n",
    "import seaborn as sns\n",
    "import numpy as np\n",
    "import pandas as pd\n",
    "from sklearn.model_selection import train_test_split  # sklearn.cross_validation in old versions\n",
    "from sklearn.preprocessing import StandardScaler, OneHotEncoder\n",
    "from sklearn.linear_model import LogisticRegression, LinearRegression\n",
    "from sklearn.impute import SimpleImputer\n",
    "from sklearn.base import BaseEstimator, TransformerMixin\n",
    "from time import time\n",
    "import xgboost as xgb\n",
    "from sklearn.metrics import mean_squared_error\n",
    "import random\n",
    "import pandas as pd\n",
    "import os"
   ]
  },
  {
   "cell_type": "code",
   "execution_count": 5,
   "metadata": {},
   "outputs": [],
   "source": [
    "seed=45\n",
    "random.seed(seed)\n",
    "np.random.seed(seed)"
   ]
  },
  {
   "cell_type": "markdown",
   "metadata": {},
   "source": [
    "## 1.2 Parameters \n"
   ]
  },
  {
   "cell_type": "code",
   "execution_count": 1,
   "metadata": {},
   "outputs": [
    {
     "name": "stdout",
     "output_type": "stream",
     "text": [
      "ls: cannot access '/home/onyxia/work/TMDb-Box-Office-Predicti/home/onyxia/work/TMDb-Box-Office-Prediction/Data/': No such file or directory\n"
     ]
    }
   ],
   "source": [
    "# Filesystem\n",
    "Data_dir = \"/home/onyxia/work/TMDb-Box-Office-Predicti/home/onyxia/work/TMDb-Box-Office-Prediction/Data/\"   #same level as course repo in the data directory\n",
    "Codes_dir = \"/home/onyxia/work/TMDb-Box-Office-Predicti/home/onyxia/work/TMDb-Box-Office-Prediction/Codes\" \n",
    "Outputs_dir=\"/home/onyxia/work/TMDb-Box-Office-Prediction/Outputs/\" \n",
    "csv_filename=\"TMDB_movie_dataset_v11\"\n",
    "      ##afficher le contenu du repertoire DATA_DIR\n",
    "!ls -l $Data_dir\n",
    "# Preprocessing andd load\n",
    "scale=0.2\n",
    "\n",
    "# Modele"
   ]
  },
  {
   "cell_type": "markdown",
   "metadata": {},
   "source": [
    "# 2 Load Data\n"
   ]
  },
  {
   "cell_type": "markdown",
   "metadata": {},
   "source": [
    "## 2.1 Retrive Data"
   ]
  },
  {
   "cell_type": "code",
   "execution_count": 6,
   "metadata": {},
   "outputs": [],
   "source": [
    "\n",
    "def load_data(in_path, name,n_display=1,show_info=False,sep=\",\",nrows=720000):\n",
    "    df = pd.read_csv(in_path,sep=\",\",nrows=nrows)\n",
    "    #df.set_index('id', inplace=True)\n",
    "    print(f\"{name}: shape is {df.shape}\")\n",
    "    if show_info==True:\n",
    "        print(df.info())\n",
    "    \n",
    "    display(df.head(n_display))\n",
    "    return df\n"
   ]
  },
  {
   "cell_type": "code",
   "execution_count": 8,
   "metadata": {},
   "outputs": [
    {
     "name": "stdout",
     "output_type": "stream",
     "text": [
      "Raw_Data: shape is (720000, 24)\n"
     ]
    },
    {
     "data": {
      "text/html": [
       "<div>\n",
       "<style scoped>\n",
       "    .dataframe tbody tr th:only-of-type {\n",
       "        vertical-align: middle;\n",
       "    }\n",
       "\n",
       "    .dataframe tbody tr th {\n",
       "        vertical-align: top;\n",
       "    }\n",
       "\n",
       "    .dataframe thead th {\n",
       "        text-align: right;\n",
       "    }\n",
       "</style>\n",
       "<table border=\"1\" class=\"dataframe\">\n",
       "  <thead>\n",
       "    <tr style=\"text-align: right;\">\n",
       "      <th></th>\n",
       "      <th>id</th>\n",
       "      <th>title</th>\n",
       "      <th>vote_average</th>\n",
       "      <th>vote_count</th>\n",
       "      <th>status</th>\n",
       "      <th>release_date</th>\n",
       "      <th>revenue</th>\n",
       "      <th>runtime</th>\n",
       "      <th>adult</th>\n",
       "      <th>backdrop_path</th>\n",
       "      <th>...</th>\n",
       "      <th>original_title</th>\n",
       "      <th>overview</th>\n",
       "      <th>popularity</th>\n",
       "      <th>poster_path</th>\n",
       "      <th>tagline</th>\n",
       "      <th>genres</th>\n",
       "      <th>production_companies</th>\n",
       "      <th>production_countries</th>\n",
       "      <th>spoken_languages</th>\n",
       "      <th>keywords</th>\n",
       "    </tr>\n",
       "  </thead>\n",
       "  <tbody>\n",
       "    <tr>\n",
       "      <th>0</th>\n",
       "      <td>27205</td>\n",
       "      <td>Inception</td>\n",
       "      <td>8.364</td>\n",
       "      <td>34495</td>\n",
       "      <td>Released</td>\n",
       "      <td>2010-07-15</td>\n",
       "      <td>825532764</td>\n",
       "      <td>148</td>\n",
       "      <td>False</td>\n",
       "      <td>/8ZTVqvKDQ8emSGUEMjsS4yHAwrp.jpg</td>\n",
       "      <td>...</td>\n",
       "      <td>Inception</td>\n",
       "      <td>Cobb, a skilled thief who commits corporate es...</td>\n",
       "      <td>83.952</td>\n",
       "      <td>/oYuLEt3zVCKq57qu2F8dT7NIa6f.jpg</td>\n",
       "      <td>Your mind is the scene of the crime.</td>\n",
       "      <td>Action, Science Fiction, Adventure</td>\n",
       "      <td>Legendary Pictures, Syncopy, Warner Bros. Pict...</td>\n",
       "      <td>United Kingdom, United States of America</td>\n",
       "      <td>English, French, Japanese, Swahili</td>\n",
       "      <td>rescue, mission, dream, airplane, paris, franc...</td>\n",
       "    </tr>\n",
       "  </tbody>\n",
       "</table>\n",
       "<p>1 rows × 24 columns</p>\n",
       "</div>"
      ],
      "text/plain": [
       "      id      title  vote_average  vote_count    status release_date  \\\n",
       "0  27205  Inception         8.364       34495  Released   2010-07-15   \n",
       "\n",
       "     revenue  runtime  adult                     backdrop_path  ...  \\\n",
       "0  825532764      148  False  /8ZTVqvKDQ8emSGUEMjsS4yHAwrp.jpg  ...   \n",
       "\n",
       "   original_title                                           overview  \\\n",
       "0       Inception  Cobb, a skilled thief who commits corporate es...   \n",
       "\n",
       "  popularity                       poster_path  \\\n",
       "0     83.952  /oYuLEt3zVCKq57qu2F8dT7NIa6f.jpg   \n",
       "\n",
       "                                tagline                              genres  \\\n",
       "0  Your mind is the scene of the crime.  Action, Science Fiction, Adventure   \n",
       "\n",
       "                                production_companies  \\\n",
       "0  Legendary Pictures, Syncopy, Warner Bros. Pict...   \n",
       "\n",
       "                       production_countries  \\\n",
       "0  United Kingdom, United States of America   \n",
       "\n",
       "                     spoken_languages  \\\n",
       "0  English, French, Japanese, Swahili   \n",
       "\n",
       "                                            keywords  \n",
       "0  rescue, mission, dream, airplane, paris, franc...  \n",
       "\n",
       "[1 rows x 24 columns]"
      ]
     },
     "metadata": {},
     "output_type": "display_data"
    }
   ],
   "source": [
    "Data_dir=\"/home/onyxia/work/TMDb-Box-Office-Prediction/Data/\"\n",
    "ds_name=\"Raw_Data\"\n",
    "Raw_df = load_data(os.path.join(Data_dir, f'{csv_filename}.csv'), ds_name)\n",
    "\n"
   ]
  },
  {
   "cell_type": "code",
   "execution_count": 9,
   "metadata": {},
   "outputs": [],
   "source": [
    "Raw_df = Raw_df.rename(columns={'keywords': 'Keywords'})\n"
   ]
  },
  {
   "cell_type": "code",
   "execution_count": 10,
   "metadata": {},
   "outputs": [
    {
     "data": {
      "text/plain": [
       "'rescue, mission, dream, airplane, paris, france, virtual reality, kidnapping, philosophy, spy, allegory, manipulation, car crash, heist, memory, architecture, los angeles, california, dream world, subconscious'"
      ]
     },
     "execution_count": 10,
     "metadata": {},
     "output_type": "execute_result"
    }
   ],
   "source": [
    "Raw_df.Keywords[0]\n",
    "#\"[{'name': 'Original Film', 'id': 333}, {'name': 'Monarch Pictures', 'id': 966}, {'name': 'Metro-Goldwyn-Mayer (MGM)', 'id': 8411}]\""
   ]
  },
  {
   "cell_type": "code",
   "execution_count": 11,
   "metadata": {},
   "outputs": [
    {
     "data": {
      "text/plain": [
       "Index(['id', 'title', 'vote_average', 'vote_count', 'status', 'release_date',\n",
       "       'revenue', 'runtime', 'adult', 'backdrop_path', 'budget', 'homepage',\n",
       "       'imdb_id', 'original_language', 'original_title', 'overview',\n",
       "       'popularity', 'poster_path', 'tagline', 'genres',\n",
       "       'production_companies', 'production_countries', 'spoken_languages',\n",
       "       'Keywords'],\n",
       "      dtype='object')"
      ]
     },
     "execution_count": 11,
     "metadata": {},
     "output_type": "execute_result"
    }
   ],
   "source": [
    "columns=Raw_df.columns\n",
    "columns\n"
   ]
  },
  {
   "cell_type": "code",
   "execution_count": 12,
   "metadata": {},
   "outputs": [],
   "source": [
    "cols_to_drop=[\"title\",\"vote_average\",\"vote_count\",\"runtime\",\"adult\",\"backdrop_path\",\"original_title\",\"overview\",\"tagline\",\"original_title\"]"
   ]
  },
  {
   "cell_type": "code",
   "execution_count": 13,
   "metadata": {},
   "outputs": [],
   "source": [
    "def get_col_to_keep(all_columns=columns,cols_to_drop=cols_to_drop):\n",
    "    \n",
    "    return list(set(all_columns).difference(set(cols_to_drop)))"
   ]
  },
  {
   "cell_type": "code",
   "execution_count": 14,
   "metadata": {},
   "outputs": [
    {
     "data": {
      "text/plain": [
       "['popularity',\n",
       " 'imdb_id',\n",
       " 'genres',\n",
       " 'production_companies',\n",
       " 'original_language',\n",
       " 'revenue',\n",
       " 'Keywords',\n",
       " 'id',\n",
       " 'homepage',\n",
       " 'release_date',\n",
       " 'budget',\n",
       " 'status',\n",
       " 'poster_path',\n",
       " 'spoken_languages',\n",
       " 'production_countries']"
      ]
     },
     "execution_count": 14,
     "metadata": {},
     "output_type": "execute_result"
    }
   ],
   "source": [
    "cols_to_keep=get_col_to_keep()\n",
    "cols_to_keep"
   ]
  },
  {
   "cell_type": "code",
   "execution_count": 16,
   "metadata": {},
   "outputs": [],
   "source": [
    "work_df=Raw_df[cols_to_keep].copy()"
   ]
  },
  {
   "cell_type": "code",
   "execution_count": 17,
   "metadata": {},
   "outputs": [
    {
     "name": "stdout",
     "output_type": "stream",
     "text": [
      "dataset Work_df                 : [    720,000, 15]\n"
     ]
    }
   ],
   "source": [
    "ds_name = 'Work_df'\n",
    "print(f'dataset {ds_name:24}: [ {work_df.shape[0]:10,}, {work_df.shape[1]}]')"
   ]
  },
  {
   "cell_type": "markdown",
   "metadata": {},
   "source": [
    "# 3 Descriptive Statistique\n"
   ]
  },
  {
   "cell_type": "code",
   "execution_count": 19,
   "metadata": {},
   "outputs": [
    {
     "name": "stdout",
     "output_type": "stream",
     "text": [
      "<class 'pandas.core.frame.DataFrame'>\n",
      "RangeIndex: 720000 entries, 0 to 719999\n",
      "Data columns (total 15 columns):\n",
      " #   Column                Non-Null Count   Dtype  \n",
      "---  ------                --------------   -----  \n",
      " 0   popularity            720000 non-null  float64\n",
      " 1   imdb_id               425659 non-null  object \n",
      " 2   genres                476525 non-null  object \n",
      " 3   production_companies  371007 non-null  object \n",
      " 4   original_language     720000 non-null  object \n",
      " 5   revenue               720000 non-null  int64  \n",
      " 6   Keywords              233628 non-null  object \n",
      " 7   id                    720000 non-null  int64  \n",
      " 8   homepage              82893 non-null   object \n",
      " 9   release_date          627085 non-null  object \n",
      " 10  budget                720000 non-null  int64  \n",
      " 11  status                720000 non-null  object \n",
      " 12  poster_path           535867 non-null  object \n",
      " 13  spoken_languages      461512 non-null  object \n",
      " 14  production_countries  442271 non-null  object \n",
      "dtypes: float64(1), int64(3), object(11)\n",
      "memory usage: 82.4+ MB\n"
     ]
    }
   ],
   "source": [
    "work_df.info()"
   ]
  },
  {
   "cell_type": "code",
   "execution_count": 20,
   "metadata": {},
   "outputs": [
    {
     "data": {
      "text/html": [
       "<div>\n",
       "<style scoped>\n",
       "    .dataframe tbody tr th:only-of-type {\n",
       "        vertical-align: middle;\n",
       "    }\n",
       "\n",
       "    .dataframe tbody tr th {\n",
       "        vertical-align: top;\n",
       "    }\n",
       "\n",
       "    .dataframe thead th {\n",
       "        text-align: right;\n",
       "    }\n",
       "</style>\n",
       "<table border=\"1\" class=\"dataframe\">\n",
       "  <thead>\n",
       "    <tr style=\"text-align: right;\">\n",
       "      <th></th>\n",
       "      <th>popularity</th>\n",
       "      <th>revenue</th>\n",
       "      <th>id</th>\n",
       "      <th>budget</th>\n",
       "    </tr>\n",
       "  </thead>\n",
       "  <tbody>\n",
       "    <tr>\n",
       "      <th>count</th>\n",
       "      <td>720000.000000</td>\n",
       "      <td>7.200000e+05</td>\n",
       "      <td>7.200000e+05</td>\n",
       "      <td>7.200000e+05</td>\n",
       "    </tr>\n",
       "    <tr>\n",
       "      <th>mean</th>\n",
       "      <td>1.585407</td>\n",
       "      <td>1.035537e+06</td>\n",
       "      <td>7.158026e+05</td>\n",
       "      <td>3.985571e+05</td>\n",
       "    </tr>\n",
       "    <tr>\n",
       "      <th>std</th>\n",
       "      <td>9.496412</td>\n",
       "      <td>2.155208e+07</td>\n",
       "      <td>3.975829e+05</td>\n",
       "      <td>5.916915e+06</td>\n",
       "    </tr>\n",
       "    <tr>\n",
       "      <th>min</th>\n",
       "      <td>0.000000</td>\n",
       "      <td>-1.200000e+01</td>\n",
       "      <td>2.000000e+00</td>\n",
       "      <td>0.000000e+00</td>\n",
       "    </tr>\n",
       "    <tr>\n",
       "      <th>25%</th>\n",
       "      <td>0.600000</td>\n",
       "      <td>0.000000e+00</td>\n",
       "      <td>3.850095e+05</td>\n",
       "      <td>0.000000e+00</td>\n",
       "    </tr>\n",
       "    <tr>\n",
       "      <th>50%</th>\n",
       "      <td>0.600000</td>\n",
       "      <td>0.000000e+00</td>\n",
       "      <td>8.305680e+05</td>\n",
       "      <td>0.000000e+00</td>\n",
       "    </tr>\n",
       "    <tr>\n",
       "      <th>75%</th>\n",
       "      <td>1.149000</td>\n",
       "      <td>0.000000e+00</td>\n",
       "      <td>1.076050e+06</td>\n",
       "      <td>0.000000e+00</td>\n",
       "    </tr>\n",
       "    <tr>\n",
       "      <th>max</th>\n",
       "      <td>2994.357000</td>\n",
       "      <td>3.000000e+09</td>\n",
       "      <td>1.271173e+06</td>\n",
       "      <td>9.000000e+08</td>\n",
       "    </tr>\n",
       "  </tbody>\n",
       "</table>\n",
       "</div>"
      ],
      "text/plain": [
       "          popularity       revenue            id        budget\n",
       "count  720000.000000  7.200000e+05  7.200000e+05  7.200000e+05\n",
       "mean        1.585407  1.035537e+06  7.158026e+05  3.985571e+05\n",
       "std         9.496412  2.155208e+07  3.975829e+05  5.916915e+06\n",
       "min         0.000000 -1.200000e+01  2.000000e+00  0.000000e+00\n",
       "25%         0.600000  0.000000e+00  3.850095e+05  0.000000e+00\n",
       "50%         0.600000  0.000000e+00  8.305680e+05  0.000000e+00\n",
       "75%         1.149000  0.000000e+00  1.076050e+06  0.000000e+00\n",
       "max      2994.357000  3.000000e+09  1.271173e+06  9.000000e+08"
      ]
     },
     "execution_count": 20,
     "metadata": {},
     "output_type": "execute_result"
    }
   ],
   "source": [
    "work_df.describe() #only  numerical features"
   ]
  },
  {
   "cell_type": "code",
   "execution_count": 21,
   "metadata": {},
   "outputs": [],
   "source": [
    "# convertir les revenu negatifs\n",
    "work_df.revenue=work_df.revenue.apply(abs)"
   ]
  },
  {
   "cell_type": "code",
   "execution_count": 22,
   "metadata": {},
   "outputs": [
    {
     "data": {
      "text/html": [
       "<div>\n",
       "<style scoped>\n",
       "    .dataframe tbody tr th:only-of-type {\n",
       "        vertical-align: middle;\n",
       "    }\n",
       "\n",
       "    .dataframe tbody tr th {\n",
       "        vertical-align: top;\n",
       "    }\n",
       "\n",
       "    .dataframe thead th {\n",
       "        text-align: right;\n",
       "    }\n",
       "</style>\n",
       "<table border=\"1\" class=\"dataframe\">\n",
       "  <thead>\n",
       "    <tr style=\"text-align: right;\">\n",
       "      <th></th>\n",
       "      <th>popularity</th>\n",
       "      <th>revenue</th>\n",
       "      <th>id</th>\n",
       "      <th>budget</th>\n",
       "    </tr>\n",
       "  </thead>\n",
       "  <tbody>\n",
       "    <tr>\n",
       "      <th>count</th>\n",
       "      <td>720000.000000</td>\n",
       "      <td>7.200000e+05</td>\n",
       "      <td>7.200000e+05</td>\n",
       "      <td>7.200000e+05</td>\n",
       "    </tr>\n",
       "    <tr>\n",
       "      <th>mean</th>\n",
       "      <td>1.585407</td>\n",
       "      <td>1.035537e+06</td>\n",
       "      <td>7.158026e+05</td>\n",
       "      <td>3.985571e+05</td>\n",
       "    </tr>\n",
       "    <tr>\n",
       "      <th>std</th>\n",
       "      <td>9.496412</td>\n",
       "      <td>2.155208e+07</td>\n",
       "      <td>3.975829e+05</td>\n",
       "      <td>5.916915e+06</td>\n",
       "    </tr>\n",
       "    <tr>\n",
       "      <th>min</th>\n",
       "      <td>0.000000</td>\n",
       "      <td>0.000000e+00</td>\n",
       "      <td>2.000000e+00</td>\n",
       "      <td>0.000000e+00</td>\n",
       "    </tr>\n",
       "    <tr>\n",
       "      <th>25%</th>\n",
       "      <td>0.600000</td>\n",
       "      <td>0.000000e+00</td>\n",
       "      <td>3.850095e+05</td>\n",
       "      <td>0.000000e+00</td>\n",
       "    </tr>\n",
       "    <tr>\n",
       "      <th>50%</th>\n",
       "      <td>0.600000</td>\n",
       "      <td>0.000000e+00</td>\n",
       "      <td>8.305680e+05</td>\n",
       "      <td>0.000000e+00</td>\n",
       "    </tr>\n",
       "    <tr>\n",
       "      <th>75%</th>\n",
       "      <td>1.149000</td>\n",
       "      <td>0.000000e+00</td>\n",
       "      <td>1.076050e+06</td>\n",
       "      <td>0.000000e+00</td>\n",
       "    </tr>\n",
       "    <tr>\n",
       "      <th>max</th>\n",
       "      <td>2994.357000</td>\n",
       "      <td>3.000000e+09</td>\n",
       "      <td>1.271173e+06</td>\n",
       "      <td>9.000000e+08</td>\n",
       "    </tr>\n",
       "  </tbody>\n",
       "</table>\n",
       "</div>"
      ],
      "text/plain": [
       "          popularity       revenue            id        budget\n",
       "count  720000.000000  7.200000e+05  7.200000e+05  7.200000e+05\n",
       "mean        1.585407  1.035537e+06  7.158026e+05  3.985571e+05\n",
       "std         9.496412  2.155208e+07  3.975829e+05  5.916915e+06\n",
       "min         0.000000  0.000000e+00  2.000000e+00  0.000000e+00\n",
       "25%         0.600000  0.000000e+00  3.850095e+05  0.000000e+00\n",
       "50%         0.600000  0.000000e+00  8.305680e+05  0.000000e+00\n",
       "75%         1.149000  0.000000e+00  1.076050e+06  0.000000e+00\n",
       "max      2994.357000  3.000000e+09  1.271173e+06  9.000000e+08"
      ]
     },
     "execution_count": 22,
     "metadata": {},
     "output_type": "execute_result"
    }
   ],
   "source": [
    "work_df.describe() #only 3 numerical features"
   ]
  },
  {
   "cell_type": "code",
   "execution_count": 23,
   "metadata": {},
   "outputs": [
    {
     "data": {
      "text/plain": [
       "<seaborn.axisgrid.JointGrid at 0x7f3a114c0950>"
      ]
     },
     "execution_count": 23,
     "metadata": {},
     "output_type": "execute_result"
    },
    {
     "data": {
      "image/png": "[encoded data removed]",
      "text/plain": [
       "<Figure size 1500x1500 with 3 Axes>"
      ]
     },
     "metadata": {},
     "output_type": "display_data"
    }
   ],
   "source": [
    "work_df['logRevenue']=np.log1p(work_df['revenue'])\n",
    "work_df['logBudget']=np.log1p(work_df['budget'])\n",
    "sns.jointplot(x=\"logBudget\", y=\"logRevenue\", data=work_df, height=15, ratio=5, color=\"b\", kind='hex')\n"
   ]
  },
  {
   "cell_type": "code",
   "execution_count": 25,
   "metadata": {},
   "outputs": [],
   "source": [
    "#convertir les revevue et les budgets\n",
    "\n",
    "def convertator(df=work_df,size=100000,columns=['revenue','budget']):\n",
    "    n=len(columns)\n",
    "    for i in range(n):\n",
    "        \n",
    "        df[columns[i]]=df[columns[i]]/size\n",
    "    return df \n"
   ]
  },
  {
   "cell_type": "code",
   "execution_count": 26,
   "metadata": {},
   "outputs": [],
   "source": [
    "df_work=convertator().copy()"
   ]
  },
  {
   "cell_type": "code",
   "execution_count": 27,
   "metadata": {},
   "outputs": [
    {
     "data": {
      "text/plain": [
       "<seaborn.axisgrid.JointGrid at 0x7f3b66b49410>"
      ]
     },
     "execution_count": 27,
     "metadata": {},
     "output_type": "execute_result"
    },
    {
     "data": {
      "image/png": "[encoded data removed]",
      "text/plain": [
       "<Figure size 1500x1500 with 3 Axes>"
      ]
     },
     "metadata": {},
     "output_type": "display_data"
    }
   ],
   "source": [
    "#df_work['logRevenue']=np.log1p(df_work['revenue'])\n",
    "#df_work['logBudget']=np.log1p(df_work['budget'])\n",
    "sns.jointplot(x=\"budget\", y=\"revenue\", data=df_work, height=15, ratio=5, color=\"b\", kind='hex')\n"
   ]
  },
  {
   "cell_type": "markdown",
   "metadata": {},
   "source": [
    "### Distribution of the target column "
   ]
  },
  {
   "cell_type": "code",
   "execution_count": 28,
   "metadata": {},
   "outputs": [
    {
     "data": {
      "image/png": "[encoded data removed]",
      "text/plain": [
       "<Figure size 640x480 with 1 Axes>"
      ]
     },
     "metadata": {},
     "output_type": "display_data"
    }
   ],
   "source": [
    "# necessary imports\n",
    "%matplotlib inline\n",
    "import matplotlib.pyplot as plt\n",
    "import numpy as np\n",
    "import seaborn as sns; sns.set()\n",
    "df_work['revenue'].astype(float).plot.hist(bins=10)\n",
    "plt.xlabel(\"Revenue in Billions of $\")\n",
    "plt.ylabel(\"Frequency\")\n",
    "plt.title(\"Boxoffice revenue in $Billions\")\n",
    "plt.grid()\n"
   ]
  },
  {
   "cell_type": "code",
   "execution_count": 29,
   "metadata": {},
   "outputs": [
    {
     "data": {
      "text/plain": [
       "(18796,)"
      ]
     },
     "execution_count": 29,
     "metadata": {},
     "output_type": "execute_result"
    }
   ],
   "source": [
    "df_work.revenue[df_work.revenue>0].shape"
   ]
  },
  {
   "cell_type": "code",
   "execution_count": 30,
   "metadata": {},
   "outputs": [
    {
     "data": {
      "text/plain": [
       "(42631,)"
      ]
     },
     "execution_count": 30,
     "metadata": {},
     "output_type": "execute_result"
    }
   ],
   "source": [
    "df_work.revenue[df_work.budget>0].shape"
   ]
  },
  {
   "cell_type": "code",
   "execution_count": 31,
   "metadata": {},
   "outputs": [],
   "source": [
    "# Ne garder que les films dont les revenu sont disponilble\n",
    "final_work_df=df_work[(df_work.budget>0) & (df_work.revenue>0)].copy()"
   ]
  },
  {
   "cell_type": "code",
   "execution_count": 32,
   "metadata": {},
   "outputs": [
    {
     "data": {
      "image/png": "[encoded data removed]",
      "text/plain": [
       "<Figure size 640x480 with 1 Axes>"
      ]
     },
     "metadata": {},
     "output_type": "display_data"
    }
   ],
   "source": [
    "# necessary imports\n",
    "%matplotlib inline\n",
    "import matplotlib.pyplot as plt\n",
    "import numpy as np\n",
    "import seaborn as sns; sns.set()\n",
    "final_work_df['revenue'].astype(float).plot.hist(bins=10)\n",
    "plt.xlabel(\"Revenue in Billions of $\")\n",
    "plt.ylabel(\"Frequency\")\n",
    "plt.title(\"Boxoffice revenue in $Billions\")\n",
    "plt.grid()\n"
   ]
  },
  {
   "cell_type": "code",
   "execution_count": 33,
   "metadata": {},
   "outputs": [],
   "source": [
    "def fillnan(column_,df=final_work_df,mode_=\"median\"):\n",
    "      df[column_].fillna(mode_,inplace=True)\n",
    "      print(\"well done\")"
   ]
  },
  {
   "cell_type": "code",
   "execution_count": 34,
   "metadata": {},
   "outputs": [
    {
     "name": "stdout",
     "output_type": "stream",
     "text": [
      "well done\n",
      "well done\n"
     ]
    },
    {
     "name": "stderr",
     "output_type": "stream",
     "text": [
      "/tmp/ipykernel_210388/3375539410.py:2: FutureWarning: A value is trying to be set on a copy of a DataFrame or Series through chained assignment using an inplace method.\n",
      "The behavior will change in pandas 3.0. This inplace method will never work because the intermediate object on which we are setting values always behaves as a copy.\n",
      "\n",
      "For example, when doing 'df[col].method(value, inplace=True)', try using 'df.method({col: value}, inplace=True)' or df[col] = df[col].method(value) instead, to perform the operation inplace on the original object.\n",
      "\n",
      "\n",
      "  df[column_].fillna(mode_,inplace=True)\n"
     ]
    }
   ],
   "source": [
    "#final_work_df['popularity'].final_work_df('median')\n",
    "fillnan(\"budget\")\n",
    "fillnan(\"popularity\")\n",
    "\n"
   ]
  },
  {
   "cell_type": "code",
   "execution_count": 35,
   "metadata": {},
   "outputs": [
    {
     "name": "stderr",
     "output_type": "stream",
     "text": [
      "/tmp/ipykernel_210388/111727333.py:5: UserWarning: \n",
      "\n",
      "`distplot` is a deprecated function and will be removed in seaborn v0.14.0.\n",
      "\n",
      "Please adapt your code to use either `displot` (a figure-level function with\n",
      "similar flexibility) or `histplot` (an axes-level function for histograms).\n",
      "\n",
      "For a guide to updating your code to use the new functions, please see\n",
      "https://gist.github.com/mwaskom/de44147ed2974457ad6372750bbe5751\n",
      "\n",
      "  sns.distplot(final_work_df['revenue'] )\n"
     ]
    },
    {
     "data": {
      "image/png": "[encoded data removed]",
      "text/plain": [
       "<Figure size 640x480 with 1 Axes>"
      ]
     },
     "metadata": {},
     "output_type": "display_data"
    }
   ],
   "source": [
    "%matplotlib inline\n",
    "import matplotlib.pyplot as plt\n",
    "import numpy as np\n",
    "import seaborn as sns; sns.set()\n",
    "sns.distplot(final_work_df['revenue'] )\n",
    "plt.xlabel(\"Revenue in Billions of $\")\n",
    "plt.ylabel(\"Frequency\")\n",
    "plt.title(\"Boxoffice revenue in $Billions\")\n",
    "plt.grid()\n"
   ]
  },
  {
   "cell_type": "markdown",
   "metadata": {},
   "source": [
    "#### Take log of target variable (revenue)\n",
    "Because revenue variable is skewed, let's calculate log of it.\n",
    "\n"
   ]
  },
  {
   "cell_type": "code",
   "execution_count": 36,
   "metadata": {},
   "outputs": [
    {
     "name": "stderr",
     "output_type": "stream",
     "text": [
      "/tmp/ipykernel_210388/610950083.py:2: UserWarning: \n",
      "\n",
      "`distplot` is a deprecated function and will be removed in seaborn v0.14.0.\n",
      "\n",
      "Please adapt your code to use either `displot` (a figure-level function with\n",
      "similar flexibility) or `histplot` (an axes-level function for histograms).\n",
      "\n",
      "For a guide to updating your code to use the new functions, please see\n",
      "https://gist.github.com/mwaskom/de44147ed2974457ad6372750bbe5751\n",
      "\n",
      "  sns.distplot(final_work_df['logRevenue'] )\n"
     ]
    },
    {
     "data": {
      "text/plain": [
       "Text(0.5, 1.0, 'log Boxoffice revenue in $Billions')"
      ]
     },
     "execution_count": 36,
     "metadata": {},
     "output_type": "execute_result"
    },
    {
     "data": {
      "image/png": "[encoded data removed]",
      "text/plain": [
       "<Figure size 640x480 with 1 Axes>"
      ]
     },
     "metadata": {},
     "output_type": "display_data"
    }
   ],
   "source": [
    "final_work_df['logRevenue'] = np.log1p(final_work_df['revenue'])\n",
    "sns.distplot(final_work_df['logRevenue'] )\n",
    "plt.grid()\n",
    "plt.xlabel(\"log(Revenue in $Billions)\")\n",
    "plt.ylabel(\"Frequency\")\n",
    "plt.title(\"log Boxoffice revenue in $Billions\")\n"
   ]
  },
  {
   "cell_type": "code",
   "execution_count": 132,
   "metadata": {},
   "outputs": [
    {
     "data": {
      "image/png": "[encoded data removed]",
      "text/plain": [
       "<Figure size 511.111x500 with 1 Axes>"
      ]
     },
     "metadata": {},
     "output_type": "display_data"
    }
   ],
   "source": [
    "#Run cells below before running completely the preprocessing\n",
    "with sns.axes_style(style='ticks'):\n",
    "    g = sns.catplot(x=\"release_date\",y= \"revenue\", data=df_train, kind=\"box\")\n",
    "    g.set_axis_labels(\"Release Month\", \"Revenue\");\n",
    "    "
   ]
  },
  {
   "cell_type": "code",
   "execution_count": 40,
   "metadata": {},
   "outputs": [],
   "source": [
    "colonnes_objects = df_train.select_dtypes(include=['object']).columns.tolist()\n"
   ]
  },
  {
   "cell_type": "code",
   "execution_count": 130,
   "metadata": {},
   "outputs": [
    {
     "data": {
      "image/png": "[encoded data removed]",
      "text/plain": [
       "<Figure size 511.111x500 with 1 Axes>"
      ]
     },
     "metadata": {},
     "output_type": "display_data"
    }
   ],
   "source": [
    "#Run cells below before running completely the preprocessing\n",
    "g=sns.catplot(x=\"has_homepage\", y=\"revenue\", data=df_train);\n",
    "g.set_axis_labels(\"Has Homepage? 0=no,1=yes\", \"Revenue\");"
   ]
  },
  {
   "cell_type": "code",
   "execution_count": 32,
   "metadata": {},
   "outputs": [
    {
     "data": {
      "text/plain": [
       "<Axes: >"
      ]
     },
     "execution_count": 32,
     "metadata": {},
     "output_type": "execute_result"
    },
    {
     "data": {
      "image/png": "[encoded data removed]",
      "text/plain": [
       "<Figure size 640x480 with 2 Axes>"
      ]
     },
     "metadata": {},
     "output_type": "display_data"
    }
   ],
   "source": [
    "colonnes_numeriques = df_train.select_dtypes(include=['int', 'float']).columns.tolist()\n",
    "num_df_train=df_train[colonnes_numeriques]\n",
    "corr=num_df_train.corr()\n",
    "cmap = sns.diverging_palette(220, 10, as_cmap=True)\n",
    "sns.heatmap(corr, cmap=cmap, vmax=.5, square=True, linewidths=.5)"
   ]
  },
  {
   "cell_type": "markdown",
   "metadata": {},
   "source": [
    "#  4 Preprocessing\n"
   ]
  },
  {
   "cell_type": "markdown",
   "metadata": {},
   "source": [
    "##  4.1 Fill NaN Update and/or Convert in power 6 some column values \n",
    "for instance updating the budget of Beethoven movie "
   ]
  },
  {
   "cell_type": "raw",
   "metadata": {},
   "source": []
  },
  {
   "cell_type": "markdown",
   "metadata": {},
   "source": [
    "\n"
   ]
  },
  {
   "cell_type": "markdown",
   "metadata": {},
   "source": [
    "## 4.2 Clean categorical features\n"
   ]
  },
  {
   "cell_type": "code",
   "execution_count": 37,
   "metadata": {},
   "outputs": [],
   "source": [
    "\n",
    "categorical = [ 'production_companies',\n",
    "                'production_countries', 'spoken_languages', 'Keywords']\n"
   ]
  },
  {
   "cell_type": "markdown",
   "metadata": {},
   "source": [
    "## 4.3 Encoding\n",
    "Genre,Belongs_to_Collection and Homepage Binarization"
   ]
  },
  {
   "cell_type": "markdown",
   "metadata": {},
   "source": [
    "## 4.3.2 One Encoding"
   ]
  },
  {
   "cell_type": "code",
   "execution_count": 38,
   "metadata": {},
   "outputs": [
    {
     "data": {
      "text/plain": [
       "'Adventure, Drama, Science Fiction'"
      ]
     },
     "execution_count": 38,
     "metadata": {},
     "output_type": "execute_result"
    }
   ],
   "source": [
    "final_work_df.genres[1]"
   ]
  },
  {
   "cell_type": "markdown",
   "metadata": {},
   "source": [
    "### 4.3.2.1 Slight transfomation on \"genres\" variable"
   ]
  },
  {
   "cell_type": "code",
   "execution_count": 39,
   "metadata": {},
   "outputs": [],
   "source": [
    "\n",
    "def gender_preprocessing(df):\n",
    "    # set a liste containing all movie genders \n",
    "    X_all_genres = df['genres'].str.split(', ', expand=True)\n",
    "    # Convertir chaque genre en colonnes binaires\n",
    "    X_all_genres = pd.get_dummies(X_all_genres.apply(lambda x: pd.Series(x).str.strip()), prefix='', prefix_sep='').groupby(level=0, axis=1).sum()\n",
    "    \n",
    "    # Renommer les colonnes binaires pour correspondre aux noms de colonnes du premier code\n",
    "    X_all_genres.columns = ['genre_' + col.replace(' ', '_') for col in X_all_genres.columns]\n",
    "    # Ajouter les colonnes binaires encodées en one-hot au DataFrame complet\n",
    "    X_all = pd.concat([df, X_all_genres], axis=1)\n",
    "\n",
    "    return X_all\n"
   ]
  },
  {
   "cell_type": "code",
   "execution_count": 40,
   "metadata": {},
   "outputs": [
    {
     "name": "stderr",
     "output_type": "stream",
     "text": [
      "/tmp/ipykernel_210388/1908571225.py:5: FutureWarning: DataFrame.groupby with axis=1 is deprecated. Do `frame.T.groupby(...)` without axis instead.\n",
      "  X_all_genres = pd.get_dummies(X_all_genres.apply(lambda x: pd.Series(x).str.strip()), prefix='', prefix_sep='').groupby(level=0, axis=1).sum()\n"
     ]
    }
   ],
   "source": [
    "final_DF_work=gender_preprocessing(final_work_df)"
   ]
  },
  {
   "cell_type": "code",
   "execution_count": 112,
   "metadata": {},
   "outputs": [
    {
     "data": {
      "text/html": [
       "<div>\n",
       "<style scoped>\n",
       "    .dataframe tbody tr th:only-of-type {\n",
       "        vertical-align: middle;\n",
       "    }\n",
       "\n",
       "    .dataframe tbody tr th {\n",
       "        vertical-align: top;\n",
       "    }\n",
       "\n",
       "    .dataframe thead th {\n",
       "        text-align: right;\n",
       "    }\n",
       "</style>\n",
       "<table border=\"1\" class=\"dataframe\">\n",
       "  <thead>\n",
       "    <tr style=\"text-align: right;\">\n",
       "      <th></th>\n",
       "      <th>genres</th>\n",
       "      <th>original_language</th>\n",
       "      <th>Keywords</th>\n",
       "      <th>spoken_languages</th>\n",
       "      <th>homepage</th>\n",
       "      <th>popularity</th>\n",
       "      <th>production_countries</th>\n",
       "      <th>production_companies</th>\n",
       "      <th>release_date</th>\n",
       "      <th>poster_path</th>\n",
       "      <th>...</th>\n",
       "      <th>genre_History</th>\n",
       "      <th>genre_Horror</th>\n",
       "      <th>genre_Music</th>\n",
       "      <th>genre_Mystery</th>\n",
       "      <th>genre_Romance</th>\n",
       "      <th>genre_Science_Fiction</th>\n",
       "      <th>genre_TV_Movie</th>\n",
       "      <th>genre_Thriller</th>\n",
       "      <th>genre_War</th>\n",
       "      <th>genre_Western</th>\n",
       "    </tr>\n",
       "  </thead>\n",
       "  <tbody>\n",
       "    <tr>\n",
       "      <th>0</th>\n",
       "      <td>Action, Science Fiction, Adventure</td>\n",
       "      <td>en</td>\n",
       "      <td>rescue, mission, dream, airplane, paris, franc...</td>\n",
       "      <td>English, French, Japanese, Swahili</td>\n",
       "      <td>https://www.warnerbros.com/movies/inception</td>\n",
       "      <td>83.952</td>\n",
       "      <td>United Kingdom, United States of America</td>\n",
       "      <td>Legendary Pictures, Syncopy, Warner Bros. Pict...</td>\n",
       "      <td>2010-07-15</td>\n",
       "      <td>/oYuLEt3zVCKq57qu2F8dT7NIa6f.jpg</td>\n",
       "      <td>...</td>\n",
       "      <td>0</td>\n",
       "      <td>0</td>\n",
       "      <td>0</td>\n",
       "      <td>0</td>\n",
       "      <td>0</td>\n",
       "      <td>1</td>\n",
       "      <td>0</td>\n",
       "      <td>0</td>\n",
       "      <td>0</td>\n",
       "      <td>0</td>\n",
       "    </tr>\n",
       "    <tr>\n",
       "      <th>1</th>\n",
       "      <td>Adventure, Drama, Science Fiction</td>\n",
       "      <td>en</td>\n",
       "      <td>rescue, future, spacecraft, race against time,...</td>\n",
       "      <td>English</td>\n",
       "      <td>http://www.interstellarmovie.net/</td>\n",
       "      <td>140.241</td>\n",
       "      <td>United Kingdom, United States of America</td>\n",
       "      <td>Legendary Pictures, Syncopy, Lynda Obst Produc...</td>\n",
       "      <td>2014-11-05</td>\n",
       "      <td>/gEU2QniE6E77NI6lCU6MxlNBvIx.jpg</td>\n",
       "      <td>...</td>\n",
       "      <td>0</td>\n",
       "      <td>0</td>\n",
       "      <td>0</td>\n",
       "      <td>0</td>\n",
       "      <td>0</td>\n",
       "      <td>1</td>\n",
       "      <td>0</td>\n",
       "      <td>0</td>\n",
       "      <td>0</td>\n",
       "      <td>0</td>\n",
       "    </tr>\n",
       "  </tbody>\n",
       "</table>\n",
       "<p>2 rows × 36 columns</p>\n",
       "</div>"
      ],
      "text/plain": [
       "                               genres original_language  \\\n",
       "0  Action, Science Fiction, Adventure                en   \n",
       "1   Adventure, Drama, Science Fiction                en   \n",
       "\n",
       "                                            Keywords  \\\n",
       "0  rescue, mission, dream, airplane, paris, franc...   \n",
       "1  rescue, future, spacecraft, race against time,...   \n",
       "\n",
       "                     spoken_languages  \\\n",
       "0  English, French, Japanese, Swahili   \n",
       "1                             English   \n",
       "\n",
       "                                      homepage  popularity  \\\n",
       "0  https://www.warnerbros.com/movies/inception      83.952   \n",
       "1            http://www.interstellarmovie.net/     140.241   \n",
       "\n",
       "                       production_countries  \\\n",
       "0  United Kingdom, United States of America   \n",
       "1  United Kingdom, United States of America   \n",
       "\n",
       "                                production_companies release_date  \\\n",
       "0  Legendary Pictures, Syncopy, Warner Bros. Pict...   2010-07-15   \n",
       "1  Legendary Pictures, Syncopy, Lynda Obst Produc...   2014-11-05   \n",
       "\n",
       "                        poster_path  ...  genre_History  genre_Horror  \\\n",
       "0  /oYuLEt3zVCKq57qu2F8dT7NIa6f.jpg  ...              0             0   \n",
       "1  /gEU2QniE6E77NI6lCU6MxlNBvIx.jpg  ...              0             0   \n",
       "\n",
       "  genre_Music  genre_Mystery genre_Romance  genre_Science_Fiction  \\\n",
       "0           0              0             0                      1   \n",
       "1           0              0             0                      1   \n",
       "\n",
       "   genre_TV_Movie  genre_Thriller  genre_War  genre_Western  \n",
       "0               0               0          0              0  \n",
       "1               0               0          0              0  \n",
       "\n",
       "[2 rows x 36 columns]"
      ]
     },
     "execution_count": 112,
     "metadata": {},
     "output_type": "execute_result"
    }
   ],
   "source": [
    "final_DF_work.head(2)"
   ]
  },
  {
   "cell_type": "code",
   "execution_count": 41,
   "metadata": {},
   "outputs": [],
   "source": [
    "def shuffle_split(df=final_DF_work,scale=0.25,target = \"revenue\"):   \n",
    "\n",
    "    X = df.drop(target, axis=1)\n",
    "    y = df[target]\n",
    "\n",
    "    X_train, X_remind, y_train, y_remind = train_test_split(X, y, train_size=(1-scale), random_state=42)\n",
    "    X_val, X_test,  y_val, y_test = train_test_split(X_remind, y_remind, test_size=0.8, random_state=42)\n",
    "    # 0.8 = 80% des donnes restant por le jeu de test et les 20% pour la validation\n",
    "\n",
    "    print(\"(x.shape, y.shape )\",\"\\n\")\n",
    "    print ( \" Pour le train :\", X_train.shape, y_train.shape,\"\\n\" )\n",
    "    print ( \" Pour le test :\" ,X_test.shape, y_test.shape,\"\\n\" )\n",
    "    print ( \" Pour la validation :\", X_val.shape, y_val.shape,\"\\n\" )\n",
    "\n",
    "    return (X_train, y_train), ( X_test, y_test),( X_val, y_val)\n"
   ]
  },
  {
   "cell_type": "code",
   "execution_count": 42,
   "metadata": {},
   "outputs": [
    {
     "name": "stdout",
     "output_type": "stream",
     "text": [
      "(x.shape, y.shape ) \n",
      "\n",
      " Pour le train : (9465, 35) (9465,) \n",
      "\n",
      " Pour le test : (2525, 35) (2525,) \n",
      "\n",
      " Pour la validation : (631, 35) (631,) \n",
      "\n"
     ]
    }
   ],
   "source": [
    "    (X_train, y_train), ( X_test, y_test),( X_valid, y_valid)=shuffle_split()"
   ]
  },
  {
   "cell_type": "code",
   "execution_count": 43,
   "metadata": {},
   "outputs": [
    {
     "data": {
      "text/plain": [
       "Index(['popularity', 'imdb_id', 'genres', 'production_companies',\n",
       "       'original_language', 'Keywords', 'id', 'homepage', 'release_date',\n",
       "       'budget', 'status', 'poster_path', 'spoken_languages',\n",
       "       'production_countries', 'logRevenue', 'logBudget', 'genre_Action',\n",
       "       'genre_Adventure', 'genre_Animation', 'genre_Comedy', 'genre_Crime',\n",
       "       'genre_Documentary', 'genre_Drama', 'genre_Family', 'genre_Fantasy',\n",
       "       'genre_History', 'genre_Horror', 'genre_Music', 'genre_Mystery',\n",
       "       'genre_Romance', 'genre_Science_Fiction', 'genre_TV_Movie',\n",
       "       'genre_Thriller', 'genre_War', 'genre_Western'],\n",
       "      dtype='object')"
      ]
     },
     "execution_count": 43,
     "metadata": {},
     "output_type": "execute_result"
    }
   ],
   "source": [
    "X_train.columns"
   ]
  },
  {
   "cell_type": "code",
   "execution_count": 44,
   "metadata": {},
   "outputs": [],
   "source": [
    "# Binarization of \"homepagee, \"released\"\n",
    "\n",
    "X_train['has_homepage'] = 1\n",
    "X_train.loc[pd.isnull(X_train['homepage']) ,\"has_homepage\"] = 0\n",
    "X_test['has_homepage'] = 1\n",
    "X_test.loc[pd.isnull(X_test['homepage']) ,\"has_homepage\"] = 0\n",
    "X_valid['has_homepage'] = 1\n",
    "X_valid.loc[pd.isnull(X_valid['homepage']) ,\"has_homepage\"] = 0\n",
    "\n",
    "\n",
    "X_train['released'] = 1\n",
    "X_train.loc[pd.isnull(X_train['status']) ,\"released\"] = 0\n",
    "X_test['released'] = 1\n",
    "X_test.loc[pd.isnull(X_test['status']) ,\"released\"] = 0\n",
    "X_valid['released'] = 1\n",
    "X_valid.loc[pd.isnull(X_valid['status']) ,\"released\"] = 0\n"
   ]
  },
  {
   "cell_type": "markdown",
   "metadata": {},
   "source": [
    "Let's get a count of how many production countries are involved in a production"
   ]
  },
  {
   "cell_type": "code",
   "execution_count": 45,
   "metadata": {},
   "outputs": [
    {
     "data": {
      "text/plain": [
       "'United States of America'"
      ]
     },
     "execution_count": 45,
     "metadata": {},
     "output_type": "execute_result"
    }
   ],
   "source": [
    "X_train.production_countries.iloc[45]"
   ]
  },
  {
   "cell_type": "code",
   "execution_count": 46,
   "metadata": {},
   "outputs": [],
   "source": [
    "\n",
    "# Définir la fonction count_strings\n",
    "def count_strings(s):\n",
    "    \"\"\"\n",
    "    Cette fonction compte le nombre de sous-chaînes séparées par des virgules dans une chaîne donnée.\n",
    "    \n",
    "    Args:\n",
    "    - s (str): La chaîne de caractères à analyser.\n",
    "    \n",
    "    Returns:\n",
    "    - int: Le nombre de sous-chaînes, ou NaN si la chaîne est nulle.\n",
    "    \"\"\"\n",
    "    # Vérifier si la chaîne est nulle\n",
    "    if pd.isna(s):\n",
    "        return np.nan\n",
    "    \n",
    "    # Diviser la chaîne en fonction des virgules et compter le nombre de sous-chaînes obtenues\n",
    "    return len(s.split(','))\n",
    "\n"
   ]
  },
  {
   "cell_type": "code",
   "execution_count": 47,
   "metadata": {},
   "outputs": [],
   "source": [
    "# Appliquer la fonction count_strings à la colonne 'genres' du DataFrame\n",
    "X_train['production_countries_count'] = X_train['production_countries'].apply(count_strings)\n",
    "X_test['production_countries_count'] = X_test['production_countries'].apply(count_strings)\n",
    "X_valid['production_countries_count'] = X_valid['production_countries'].apply(count_strings)\n"
   ]
  },
  {
   "cell_type": "code",
   "execution_count": 48,
   "metadata": {},
   "outputs": [
    {
     "data": {
      "text/plain": [
       "Index(['popularity', 'imdb_id', 'genres', 'production_companies',\n",
       "       'original_language', 'Keywords', 'id', 'homepage', 'release_date',\n",
       "       'budget', 'status', 'poster_path', 'spoken_languages',\n",
       "       'production_countries', 'logRevenue', 'logBudget', 'genre_Action',\n",
       "       'genre_Adventure', 'genre_Animation', 'genre_Comedy', 'genre_Crime',\n",
       "       'genre_Documentary', 'genre_Drama', 'genre_Family', 'genre_Fantasy',\n",
       "       'genre_History', 'genre_Horror', 'genre_Music', 'genre_Mystery',\n",
       "       'genre_Romance', 'genre_Science_Fiction', 'genre_TV_Movie',\n",
       "       'genre_Thriller', 'genre_War', 'genre_Western', 'has_homepage',\n",
       "       'released', 'production_countries_count'],\n",
       "      dtype='object')"
      ]
     },
     "execution_count": 48,
     "metadata": {},
     "output_type": "execute_result"
    }
   ],
   "source": [
    "X_train.columns"
   ]
  },
  {
   "cell_type": "markdown",
   "metadata": {},
   "source": [
    "### Production Companies"
   ]
  },
  {
   "cell_type": "code",
   "execution_count": 49,
   "metadata": {},
   "outputs": [
    {
     "data": {
      "text/plain": [
       "2640              France, United Kingdom\n",
       "3013    Canada, United States of America\n",
       "Name: production_countries, dtype: object"
      ]
     },
     "execution_count": 49,
     "metadata": {},
     "output_type": "execute_result"
    }
   ],
   "source": [
    "X_train.production_countries.iloc[:2]"
   ]
  },
  {
   "cell_type": "code",
   "execution_count": 50,
   "metadata": {},
   "outputs": [],
   "source": [
    "# Appliquer la fonction count_strings aux  colonnes 'production_companies_count' et\"spoken_languages_count\" du DataFrame\n",
    "\n",
    "# take counts of each\n",
    "X_train['production_companies_count'] = X_train['production_companies'].apply(count_strings)\n",
    "X_train['spoken_languages_count'] = X_train['spoken_languages'].apply(count_strings)\n",
    "\n",
    "X_test['production_companies_count'] = X_test['production_companies'].apply(count_strings)\n",
    "X_test['spoken_languages_count'] = X_test['spoken_languages'].apply(count_strings)\n",
    "\n",
    "X_valid['production_companies_count'] = X_valid['production_companies'].apply(count_strings)\n",
    "X_valid['spoken_languages_count'] = X_valid['spoken_languages'].apply(count_strings)"
   ]
  },
  {
   "cell_type": "code",
   "execution_count": 51,
   "metadata": {},
   "outputs": [
    {
     "data": {
      "text/plain": [
       "(9465,)"
      ]
     },
     "execution_count": 51,
     "metadata": {},
     "output_type": "execute_result"
    }
   ],
   "source": [
    "X_train.production_companies_count.shape"
   ]
  },
  {
   "cell_type": "markdown",
   "metadata": {},
   "source": [
    "## Keywords, cast, crew"
   ]
  },
  {
   "cell_type": "code",
   "execution_count": 52,
   "metadata": {},
   "outputs": [],
   "source": [
    "# number of keywords\n",
    "X_train['keyword_count'] = X_train['Keywords'].apply(count_strings)\n",
    "X_test['keyword_count'] = X_test['Keywords'].apply(count_strings)\n",
    "X_valid['keyword_count'] = X_valid['Keywords'].apply(count_strings)"
   ]
  },
  {
   "cell_type": "code",
   "execution_count": 127,
   "metadata": {},
   "outputs": [
    {
     "data": {
      "text/plain": [
       "Index(['genres', 'original_language', 'Keywords', 'spoken_languages',\n",
       "       'homepage', 'popularity', 'production_countries',\n",
       "       'production_companies', 'release_date', 'poster_path', 'id', 'status',\n",
       "       'budget', 'imdb_id', 'logRevenue', 'logBudget', 'genre_Action',\n",
       "       'genre_Adventure', 'genre_Animation', 'genre_Comedy', 'genre_Crime',\n",
       "       'genre_Documentary', 'genre_Drama', 'genre_Family', 'genre_Fantasy',\n",
       "       'genre_History', 'genre_Horror', 'genre_Music', 'genre_Mystery',\n",
       "       'genre_Romance', 'genre_Science_Fiction', 'genre_TV_Movie',\n",
       "       'genre_Thriller', 'genre_War', 'genre_Western', 'has_homepage',\n",
       "       'released', 'production_countries_count', 'production_companies_count',\n",
       "       'spoken_languages_count', 'keyword_count'],\n",
       "      dtype='object')"
      ]
     },
     "execution_count": 127,
     "metadata": {},
     "output_type": "execute_result"
    }
   ],
   "source": [
    "X_train.columns"
   ]
  },
  {
   "cell_type": "raw",
   "metadata": {},
   "source": [
    "# count of crew\n",
    "X_train['crew_count'] = X_train['crew'].apply(lambda x : len(x))\n",
    "X_test['crew_count'] = X_test['crew'].apply(lambda x : len(x))\n",
    "X_valid['crew_count'] = X_valid['crew'].apply(lambda x : len(x))\n"
   ]
  },
  {
   "cell_type": "raw",
   "metadata": {},
   "source": [
    "# count of cast members\n",
    "X_train['cast_count'] = X_train['cast'].apply(lambda x : len(x))\n",
    "X_test['cast_count'] = X_test['cast'].apply(lambda x : len(x))\n",
    "X_valid['cast_count'] = X_valid['cast'].apply(lambda x : len(x))\n"
   ]
  },
  {
   "cell_type": "markdown",
   "metadata": {},
   "source": [
    "## Fixing Release Date\n",
    "    \"la date de sortie prévue ou de la date de publication d'un produit ou d'un service.\""
   ]
  },
  {
   "cell_type": "raw",
   "metadata": {},
   "source": [
    "X_train.release_date.isnull().sum(),X_train.shape[0]"
   ]
  },
  {
   "cell_type": "code",
   "execution_count": 53,
   "metadata": {},
   "outputs": [
    {
     "data": {
      "text/plain": [
       "(8.811410459587956, 8.752475247524753, 8.55784469096672)"
      ]
     },
     "execution_count": 53,
     "metadata": {},
     "output_type": "execute_result"
    }
   ],
   "source": [
    "X_train.release_date.isnull().sum()*100/X_train.shape[0],X_test.release_date.isnull().sum()*100/X_test.shape[0],X_valid.release_date.isnull().sum()*100/X_valid.shape[0]\n",
    "\n"
   ]
  },
  {
   "cell_type": "code",
   "execution_count": 54,
   "metadata": {},
   "outputs": [],
   "source": [
    "#autour de 9% , je décide alors de les (les valeurs nulles de la colonne release) supprimer\n",
    "train_x,train_y=X_train[X_train.release_date.isnull()==False],y_train[X_train.release_date.isnull()==False]\n",
    "test_x,test_y=X_test[X_test.release_date.isnull()==False],y_test[X_test.release_date.isnull()==False]\n",
    "val_x,val_y=X_valid[X_valid.release_date.isnull()==False],y_valid[X_valid.release_date.isnull()==False]"
   ]
  },
  {
   "cell_type": "code",
   "execution_count": 55,
   "metadata": {},
   "outputs": [
    {
     "data": {
      "text/plain": [
       "(0, 0, 0)"
      ]
     },
     "execution_count": 55,
     "metadata": {},
     "output_type": "execute_result"
    }
   ],
   "source": [
    "train_x.release_date.isnull().sum(),test_x.release_date.isnull().sum(),val_x.release_date.isnull().sum()\n"
   ]
  },
  {
   "cell_type": "raw",
   "metadata": {},
   "source": [
    "#un alternative au lizu de supprimer toutes lignes n'ayanyt de valeurs pour la colonne relase data\n",
    "# fill the one null value with a random date\n",
    "X_train['release_date'] = X_train['release_date'].fillna('7/14/07')\n",
    "X_test['release_date'] = X_test['release_date'].fillna('7/14/07')\n",
    "X_valid['release_date'] = X_valid['release_date'].fillna('7/14/07')\n",
    "\n"
   ]
  },
  {
   "cell_type": "raw",
   "metadata": {},
   "source": []
  },
  {
   "cell_type": "code",
   "execution_count": 56,
   "metadata": {},
   "outputs": [],
   "source": [
    "xtn,ytn=train_x.copy(),train_y.copy()  # xtn = x train\n",
    "xts,yts=test_x.copy(),test_y.copy()     \n",
    "xv,yv=val_x.copy(),val_y.copy()"
   ]
  },
  {
   "cell_type": "code",
   "execution_count": 57,
   "metadata": {},
   "outputs": [],
   "source": [
    "train_index=xtn.release_date.index\n",
    "test_index=xts.release_date.index\n",
    "validation_index=xv.release_date.index"
   ]
  },
  {
   "cell_type": "code",
   "execution_count": 58,
   "metadata": {},
   "outputs": [
    {
     "data": {
      "text/plain": [
       "('2011-12-26', '12')"
      ]
     },
     "execution_count": 58,
     "metadata": {},
     "output_type": "execute_result"
    }
   ],
   "source": [
    "xtn.release_date[train_index[0]],xtn.release_date[train_index[0]][5:7]\n"
   ]
  },
  {
   "cell_type": "code",
   "execution_count": 59,
   "metadata": {},
   "outputs": [],
   "source": [
    "#import re # extraire l'année à 4 chiffres à partir d'une chaîne représentant une date\n",
    "def datefix(x): # run year fix, then date fix\n",
    "    \n",
    "    r = x[:4]\n",
    "    return int(r)\n"
   ]
  },
  {
   "cell_type": "code",
   "execution_count": 60,
   "metadata": {},
   "outputs": [
    {
     "data": {
      "text/plain": [
       "('2011-12-26', 2011)"
      ]
     },
     "execution_count": 60,
     "metadata": {},
     "output_type": "execute_result"
    }
   ],
   "source": [
    "x=xtn.release_date[train_index[0]]\n",
    "x,datefix(x)"
   ]
  },
  {
   "cell_type": "code",
   "execution_count": 61,
   "metadata": {},
   "outputs": [],
   "source": [
    "# Train\n",
    "xtn['release_year'] = xtn['release_date'].apply(lambda x: datefix(x))\n",
    "\n",
    "\n",
    "# Test\n",
    "xts['release_year'] = xts['release_date'].apply(lambda x: datefix(x))\n",
    "\n",
    "# Validation\n",
    "\n",
    "xv['release_year'] = xv['release_date'].apply(lambda x: datefix(x))"
   ]
  },
  {
   "cell_type": "code",
   "execution_count": 62,
   "metadata": {},
   "outputs": [],
   "source": [
    "#import re # extraire l'année à 4 chiffres à partir d'une chaîne représentant une date\n",
    "def datefix_month(x): # run year fix, then date fix\n",
    "    \n",
    "    r = x[5:7]\n",
    "    return int(r)\n"
   ]
  },
  {
   "cell_type": "code",
   "execution_count": 63,
   "metadata": {},
   "outputs": [],
   "source": [
    " # set to datetime ,then  month of release date \n",
    "\n",
    " ## Train\n",
    "xtn['release_month']=xtn[\"release_date\"].apply(lambda x: datefix_month(x))\n",
    "\n",
    "## Test\n",
    "\n",
    "xts['release_month']=xts[\"release_date\"].apply(lambda x: datefix_month(x)) \n",
    "\n",
    "## Validation\n",
    "\n",
    "xv['release_month']=xv[\"release_date\"].apply(lambda x: datefix_month(x))\n"
   ]
  },
  {
   "cell_type": "code",
   "execution_count": 64,
   "metadata": {},
   "outputs": [
    {
     "data": {
      "text/plain": [
       "Index(['popularity', 'imdb_id', 'genres', 'production_companies',\n",
       "       'original_language', 'Keywords', 'id', 'homepage', 'release_date',\n",
       "       'budget', 'status', 'poster_path', 'spoken_languages',\n",
       "       'production_countries', 'logRevenue', 'logBudget', 'genre_Action',\n",
       "       'genre_Adventure', 'genre_Animation', 'genre_Comedy', 'genre_Crime',\n",
       "       'genre_Documentary', 'genre_Drama', 'genre_Family', 'genre_Fantasy',\n",
       "       'genre_History', 'genre_Horror', 'genre_Music', 'genre_Mystery',\n",
       "       'genre_Romance', 'genre_Science_Fiction', 'genre_TV_Movie',\n",
       "       'genre_Thriller', 'genre_War', 'genre_Western', 'has_homepage',\n",
       "       'released', 'production_countries_count', 'production_companies_count',\n",
       "       'spoken_languages_count', 'keyword_count', 'release_year',\n",
       "       'release_month'],\n",
       "      dtype='object')"
      ]
     },
     "execution_count": 64,
     "metadata": {},
     "output_type": "execute_result"
    }
   ],
   "source": [
    "xtn.columns"
   ]
  },
  {
   "cell_type": "code",
   "execution_count": 65,
   "metadata": {},
   "outputs": [
    {
     "data": {
      "text/plain": [
       "((8631, 43), 8631)"
      ]
     },
     "execution_count": 65,
     "metadata": {},
     "output_type": "execute_result"
    }
   ],
   "source": [
    "xtn.shape,ytn.shape[0]"
   ]
  },
  {
   "cell_type": "code",
   "execution_count": 66,
   "metadata": {},
   "outputs": [],
   "source": [
    "part1=['Keywords', 'spoken_languages',\n",
    "       'homepage', 'production_countries',\n",
    "       'production_companies', 'release_date', 'poster_path', 'id', 'status']\n",
    "part2=['imdb_id', 'logRevenue', 'logBudget',\"released\"]\n",
    "col_to_drop=set(part1+part2)\n",
    "final_col_to_keep=list(set(xtn.columns).difference(col_to_drop))"
   ]
  },
  {
   "cell_type": "code",
   "execution_count": 67,
   "metadata": {},
   "outputs": [],
   "source": [
    "## apply Log function to features durint the preprocessing\n",
    "class Log1pTransformer(BaseEstimator, TransformerMixin):\n",
    "    def __init__(self, features=None):\n",
    "        self.features = features\n",
    "        \n",
    "    def fit(self, X, y=None):\n",
    "        return self\n",
    "    \n",
    "    def transform(self, X):\n",
    "        return np.log1p(X)"
   ]
  },
  {
   "cell_type": "markdown",
   "metadata": {},
   "source": [
    "# Pipeline"
   ]
  },
  {
   "cell_type": "markdown",
   "metadata": {},
   "source": [
    "<img src=\"images/Pipeline2.png\">\n"
   ]
  },
  {
   "cell_type": "raw",
   "metadata": {},
   "source": [
    "Pipeline: C'est un outil puissant de scikit-learn qui permet de chaîner plusieurs étapes \n",
    "de traitement des données ensemble de manière séquentielle\n"
   ]
  },
  {
   "cell_type": "code",
   "execution_count": 68,
   "metadata": {},
   "outputs": [],
   "source": [
    "# Séquence à rechercher\n",
    "sequence = 'genre_'\n",
    "\n",
    "# Filtrer les éléments de la liste qui commencent par la séquence\n",
    "genre_column_names = [element for element in final_col_to_keep if element.startswith(sequence)]"
   ]
  },
  {
   "cell_type": "code",
   "execution_count": 69,
   "metadata": {},
   "outputs": [
    {
     "data": {
      "text/plain": [
       "{'budget',\n",
       " 'genres',\n",
       " 'has_homepage',\n",
       " 'keyword_count',\n",
       " 'original_language',\n",
       " 'popularity',\n",
       " 'production_companies_count',\n",
       " 'production_countries_count',\n",
       " 'release_month',\n",
       " 'release_year',\n",
       " 'spoken_languages_count'}"
      ]
     },
     "execution_count": 69,
     "metadata": {},
     "output_type": "execute_result"
    }
   ],
   "source": [
    "set(final_col_to_keep).difference(set(genre_column_names))"
   ]
  },
  {
   "cell_type": "code",
   "execution_count": 70,
   "metadata": {},
   "outputs": [],
   "source": [
    "from sklearn.feature_extraction.text import HashingVectorizer\n",
    "\n",
    "log_num_feats = [\"budget\", \"popularity\"]\n",
    "#num_feats = [\"Duration\"] # non requis, à explorer ultérieurement\n",
    "#date_feats = ['release_date' , \"release_month\"]\n",
    "#cat_feats = ['belongs_to_collection', 'has_homepage', 'released']\n",
    "cat_feats = [ 'has_homepage','release_month','release_year']\n",
    "\n",
    "encode_feats = genre_column_names\n",
    "\n",
    "hash_feats = ['production_countries_count', 'production_companies_count', 'spoken_languages_count','keyword_count']\n",
    "\n",
    "#hash_feats = ['production_countries_count', 'production_companies_count', 'spoken_languages_count',\n",
    "             #'keyword_count', 'cast_count', 'crew_count']\n",
    "\n",
    "log_pipe = Pipeline([\n",
    "    ('imputer', SimpleImputer(missing_values=np.nan, strategy='median')),\n",
    "    ('logger', Log1pTransformer()),\n",
    "    ('scaler', StandardScaler()) # peut-être supprimé plus tard - juste un test\n",
    "])\n",
    "\n",
    "num_pipeline = Pipeline([\n",
    "    ('imputer', SimpleImputer(strategy='median')),\n",
    "    ('scaler', StandardScaler())\n",
    "])\n",
    "\n",
    "date_pipeline = Pipeline([\n",
    "    ('imputer', SimpleImputer(missing_values=np.nan, strategy='median'))\n",
    "])\n",
    "\n",
    "cat_pipeline = Pipeline([\n",
    "    ('imputer', SimpleImputer(strategy='most_frequent')),\n",
    "    #  ('ohe', OneHotEncoder(sparse=False, handle_unknown=\"ignore\"))\n",
    "])\n",
    "\n",
    "encode_pipeline = Pipeline([\n",
    "    ('imputer', SimpleImputer(strategy='most_frequent')),\n",
    "])\n",
    "\n",
    "hash_pipe = Pipeline([\n",
    "    ('imputer', SimpleImputer(strategy='most_frequent'))\n",
    "])\n",
    "\n",
    "data_pipeline = ColumnTransformer([\n",
    "    # nom, pipeline, caractéristiques\n",
    "    ('log_num_feats', log_pipe, log_num_feats),\n",
    "    \n",
    "    ('cat_feats', cat_pipeline, cat_feats),\n",
    "    ('encode_feats', encode_pipeline, encode_feats),\n",
    "    ('hash_feats', hash_pipe, hash_feats)\n",
    "], remainder='drop', # passthrough ou drop?\n",
    "n_jobs=-1)\n",
    "\n",
    "#('numerical_feats', num_pipeline, num_feats),"
   ]
  },
  {
   "cell_type": "code",
   "execution_count": 72,
   "metadata": {},
   "outputs": [],
   "source": [
    "col=log_num_feats+cat_feats+encode_feats+hash_feats #+num_feats"
   ]
  },
  {
   "cell_type": "code",
   "execution_count": 73,
   "metadata": {},
   "outputs": [
    {
     "data": {
      "text/plain": [
       "budget                           0\n",
       "popularity                       0\n",
       "has_homepage                     0\n",
       "release_month                    0\n",
       "release_year                     0\n",
       "genre_Thriller                   0\n",
       "genre_TV_Movie                   0\n",
       "genre_Comedy                     0\n",
       "genre_Adventure                  0\n",
       "genre_War                        0\n",
       "genre_Music                      0\n",
       "genre_Horror                     0\n",
       "genre_History                    0\n",
       "genre_Action                     0\n",
       "genre_Drama                      0\n",
       "genre_Family                     0\n",
       "genre_Science_Fiction            0\n",
       "genre_Fantasy                    0\n",
       "genre_Romance                    0\n",
       "genre_Western                    0\n",
       "genre_Crime                      0\n",
       "genre_Animation                  0\n",
       "genre_Documentary                0\n",
       "genre_Mystery                    0\n",
       "production_countries_count     565\n",
       "production_companies_count     643\n",
       "spoken_languages_count         454\n",
       "keyword_count                 1295\n",
       "dtype: int64"
      ]
     },
     "execution_count": 73,
     "metadata": {},
     "output_type": "execute_result"
    }
   ],
   "source": [
    "xtn[col].isna().sum()"
   ]
  },
  {
   "cell_type": "code",
   "execution_count": 74,
   "metadata": {},
   "outputs": [],
   "source": [
    "xtn = xtn[col].fillna(xtn[col].median())\n",
    "xts = xts[col].fillna(xts[col].median())\n",
    "xv = xv[col].fillna(xv[col].median())\n"
   ]
  },
  {
   "cell_type": "code",
   "execution_count": 142,
   "metadata": {},
   "outputs": [],
   "source": [
    "#X_train[\"release_date\"] = pd.to_datetime(X_train[\"release_date\"], format='%m/%d/%y')"
   ]
  },
  {
   "cell_type": "code",
   "execution_count": 217,
   "metadata": {},
   "outputs": [],
   "source": []
  },
  {
   "cell_type": "code",
   "execution_count": 75,
   "metadata": {},
   "outputs": [],
   "source": [
    "xtn1=xtn[col].copy()\n",
    "xv1=xv[col].copy()\n",
    "xts1=xts[col].copy()"
   ]
  },
  {
   "cell_type": "code",
   "execution_count": 76,
   "metadata": {},
   "outputs": [],
   "source": [
    "df_train_processed = data_pipeline.fit_transform(xtn)\n",
    "df_test_processed = data_pipeline.fit_transform(xts1)\n",
    "df_val_processed = data_pipeline.fit_transform(xv1)"
   ]
  },
  {
   "cell_type": "code",
   "execution_count": 77,
   "metadata": {},
   "outputs": [],
   "source": [
    "from sklearn.preprocessing import MinMaxScaler\n",
    "import numpy as np\n",
    "\n",
    "from sklearn.preprocessing import StandardScaler\n",
    "\n",
    "def normalize_y(y_train):\n",
    "    # Créer un objet StandardScaler\n",
    "    scaler = StandardScaler()\n",
    "\n",
    "    # Adapter et transformer les données de y_train\n",
    "    y_train_normalized = scaler.fit_transform(np.array(y_train).reshape(-1, 1))\n",
    "\n",
    "    # Récupérer la moyenne et l'écart type\n",
    "    mean_normalized = scaler.mean_\n",
    "    std_dev_normalized = scaler.scale_\n",
    "\n",
    "    return y_train_normalized, mean_normalized, std_dev_normalized"
   ]
  },
  {
   "cell_type": "code",
   "execution_count": 78,
   "metadata": {},
   "outputs": [],
   "source": [
    "y_train_processed,y_train_mean,y_train_std = normalize_y(np.log1p(ytn))\n",
    "y_test_processed,y_test_mean,y_test_std  = normalize_y(np.log1p(yts))\n",
    "y_val_processed,y_val_mean,y_val_std  = normalize_y(np.log1p(yv))"
   ]
  },
  {
   "cell_type": "markdown",
   "metadata": {},
   "source": [
    "# Modeling"
   ]
  },
  {
   "cell_type": "code",
   "execution_count": 79,
   "metadata": {},
   "outputs": [],
   "source": [
    "from sklearn.linear_model import LinearRegression\n",
    "from sklearn.neighbors import KNeighborsRegressor\n",
    "models = {'linear': LinearRegression(),\n",
    "         'kn': KNeighborsRegressor()}"
   ]
  },
  {
   "cell_type": "code",
   "execution_count": 80,
   "metadata": {},
   "outputs": [],
   "source": [
    "def mean_absolute_percentage_error(y_test, y_pred): \n",
    "    y_test, y_pred = np.array(y_test), np.array(y_pred)\n",
    "    return np.mean(np.abs((y_test - y_pred) / y_test)) * 100\n",
    "results = pd.DataFrame(columns=[\"ExpID\", \"Train RMSLE\", \"Test RMSLE\",\"Dollars Over\", \"Train Time(s)\", \"Experiment description\"])\n",
    "def rmsle(y, y_pred):\n",
    "    return np.sqrt(mean_squared_error(y, y_pred))\n",
    "\n",
    "def get_results(model, X, y, X_test, y_test, name='model_name', desc='experiment'):\n",
    "    start = time()\n",
    "    model.fit(X, y)\n",
    "    y_pred = model.predict(X)\n",
    "    train_rmsle = np.sqrt(((y_pred-y)**2).mean())\n",
    "    y_pred_test = model.predict(X_test)\n",
    "    test_rmsle = np.sqrt(((y_pred_test-y_test)**2).mean())\n",
    "    dollarsover= test_rmsle*1000000000\n",
    "    train_time = np.round(time() - start, 4)\n",
    "    results.loc[results.shape[0]+1] = [name, np.round(train_rmsle,2), np.round(test_rmsle,2),np.round(dollarsover), train_time, desc]\n",
    "    "
   ]
  },
  {
   "cell_type": "code",
   "execution_count": 81,
   "metadata": {},
   "outputs": [
    {
     "data": {
      "text/html": [
       "<div>\n",
       "<style scoped>\n",
       "    .dataframe tbody tr th:only-of-type {\n",
       "        vertical-align: middle;\n",
       "    }\n",
       "\n",
       "    .dataframe tbody tr th {\n",
       "        vertical-align: top;\n",
       "    }\n",
       "\n",
       "    .dataframe thead th {\n",
       "        text-align: right;\n",
       "    }\n",
       "</style>\n",
       "<table border=\"1\" class=\"dataframe\">\n",
       "  <thead>\n",
       "    <tr style=\"text-align: right;\">\n",
       "      <th></th>\n",
       "      <th>ExpID</th>\n",
       "      <th>Train RMSLE</th>\n",
       "      <th>Test RMSLE</th>\n",
       "      <th>Dollars Over</th>\n",
       "      <th>Train Time(s)</th>\n",
       "      <th>Experiment description</th>\n",
       "    </tr>\n",
       "  </thead>\n",
       "  <tbody>\n",
       "    <tr>\n",
       "      <th>1</th>\n",
       "      <td>Initial Search</td>\n",
       "      <td>0.49</td>\n",
       "      <td>0.48</td>\n",
       "      <td>481863168.0</td>\n",
       "      <td>0.0729</td>\n",
       "      <td>Untuned linear</td>\n",
       "    </tr>\n",
       "    <tr>\n",
       "      <th>2</th>\n",
       "      <td>Initial Search</td>\n",
       "      <td>0.50</td>\n",
       "      <td>0.60</td>\n",
       "      <td>601628256.0</td>\n",
       "      <td>0.2289</td>\n",
       "      <td>Untuned kn</td>\n",
       "    </tr>\n",
       "  </tbody>\n",
       "</table>\n",
       "</div>"
      ],
      "text/plain": [
       "            ExpID  Train RMSLE  Test RMSLE  Dollars Over  Train Time(s)  \\\n",
       "1  Initial Search         0.49        0.48   481863168.0         0.0729   \n",
       "2  Initial Search         0.50        0.60   601628256.0         0.2289   \n",
       "\n",
       "  Experiment description  \n",
       "1         Untuned linear  \n",
       "2             Untuned kn  "
      ]
     },
     "metadata": {},
     "output_type": "display_data"
    }
   ],
   "source": [
    "for name, model in models.items():\n",
    "    get_results(model, df_train_processed, y_train_processed, df_test_processed, y_test_processed, 'Initial Search', 'Untuned ' + name)\n",
    "\n",
    "display(results)"
   ]
  },
  {
   "cell_type": "code",
   "execution_count": 82,
   "metadata": {},
   "outputs": [
    {
     "data": {
      "text/html": [
       "<div>\n",
       "<style scoped>\n",
       "    .dataframe tbody tr th:only-of-type {\n",
       "        vertical-align: middle;\n",
       "    }\n",
       "\n",
       "    .dataframe tbody tr th {\n",
       "        vertical-align: top;\n",
       "    }\n",
       "\n",
       "    .dataframe thead th {\n",
       "        text-align: right;\n",
       "    }\n",
       "</style>\n",
       "<table border=\"1\" class=\"dataframe\">\n",
       "  <thead>\n",
       "    <tr style=\"text-align: right;\">\n",
       "      <th></th>\n",
       "      <th>ExpID</th>\n",
       "      <th>Train RMSLE</th>\n",
       "      <th>Test RMSLE</th>\n",
       "      <th>Dollars Over</th>\n",
       "      <th>Train Time(s)</th>\n",
       "      <th>Experiment description</th>\n",
       "    </tr>\n",
       "  </thead>\n",
       "  <tbody>\n",
       "    <tr>\n",
       "      <th>1</th>\n",
       "      <td>Initial Search</td>\n",
       "      <td>0.49</td>\n",
       "      <td>0.48</td>\n",
       "      <td>481863168.0</td>\n",
       "      <td>0.0729</td>\n",
       "      <td>Untuned linear</td>\n",
       "    </tr>\n",
       "    <tr>\n",
       "      <th>2</th>\n",
       "      <td>Initial Search</td>\n",
       "      <td>0.50</td>\n",
       "      <td>0.60</td>\n",
       "      <td>601628256.0</td>\n",
       "      <td>0.2289</td>\n",
       "      <td>Untuned kn</td>\n",
       "    </tr>\n",
       "    <tr>\n",
       "      <th>3</th>\n",
       "      <td>Initial Search</td>\n",
       "      <td>0.49</td>\n",
       "      <td>0.48</td>\n",
       "      <td>481863168.0</td>\n",
       "      <td>0.0202</td>\n",
       "      <td>Untuned linear</td>\n",
       "    </tr>\n",
       "    <tr>\n",
       "      <th>4</th>\n",
       "      <td>Initial Search</td>\n",
       "      <td>0.50</td>\n",
       "      <td>0.60</td>\n",
       "      <td>601628256.0</td>\n",
       "      <td>0.2473</td>\n",
       "      <td>Untuned kn</td>\n",
       "    </tr>\n",
       "  </tbody>\n",
       "</table>\n",
       "</div>"
      ],
      "text/plain": [
       "            ExpID  Train RMSLE  Test RMSLE  Dollars Over  Train Time(s)  \\\n",
       "1  Initial Search         0.49        0.48   481863168.0         0.0729   \n",
       "2  Initial Search         0.50        0.60   601628256.0         0.2289   \n",
       "3  Initial Search         0.49        0.48   481863168.0         0.0202   \n",
       "4  Initial Search         0.50        0.60   601628256.0         0.2473   \n",
       "\n",
       "  Experiment description  \n",
       "1         Untuned linear  \n",
       "2             Untuned kn  \n",
       "3         Untuned linear  \n",
       "4             Untuned kn  "
      ]
     },
     "metadata": {},
     "output_type": "display_data"
    }
   ],
   "source": [
    "for name, model in models.items():\n",
    "    get_results(model, df_train_processed, y_train_processed, df_test_processed, y_test_processed, 'Initial Search', 'Untuned ' + name)\n",
    "\n",
    "display(results)"
   ]
  },
  {
   "cell_type": "code",
   "execution_count": 83,
   "metadata": {},
   "outputs": [],
   "source": [
    "from sklearn.metrics import make_scorer\n",
    "# define custom scorer\n",
    "def rmsle(y_true, y_pred):\n",
    "    #rmsle = np.sqrt(((np.log1p(y_true)-np.log1p(y_pred))**2).mean())\n",
    "    rmsle = np.sqrt((y_true-y_pred)**2).mean()\n",
    "    return rmsle\n",
    "\n",
    "scorer = make_scorer(rmsle)\n"
   ]
  },
  {
   "cell_type": "markdown",
   "metadata": {},
   "source": [
    "# Evaluation, reporting and analysis"
   ]
  },
  {
   "cell_type": "code",
   "execution_count": 84,
   "metadata": {},
   "outputs": [
    {
     "name": "stdout",
     "output_type": "stream",
     "text": [
      "Fitting 2 folds for each of 162 candidates, totalling 324 fits\n"
     ]
    },
    {
     "name": "stderr",
     "output_type": "stream",
     "text": [
      "/home/onyxia/work/TMDb-Box-Office-Prediction/Codes/ENV_mise_en_prod/lib/python3.11/site-packages/xgboost/core.py:160: UserWarning: [15:59:39] WARNING: /workspace/src/learner.cc:742: \n",
      "Parameters: { \"silent\" } are not used.\n",
      "\n",
      "  warnings.warn(smsg, UserWarning)\n",
      "/home/onyxia/work/TMDb-Box-Office-Prediction/Codes/ENV_mise_en_prod/lib/python3.11/site-packages/xgboost/core.py:160: UserWarning: [15:59:39] WARNING: /workspace/src/learner.cc:742: \n",
      "Parameters: { \"silent\" } are not used.\n",
      "\n",
      "  warnings.warn(smsg, UserWarning)\n",
      "/home/onyxia/work/TMDb-Box-Office-Prediction/Codes/ENV_mise_en_prod/lib/python3.11/site-packages/xgboost/core.py:160: UserWarning: [15:59:39] WARNING: /workspace/src/learner.cc:742: \n",
      "Parameters: { \"silent\" } are not used.\n",
      "\n",
      "  warnings.warn(smsg, UserWarning)\n",
      "/home/onyxia/work/TMDb-Box-Office-Prediction/Codes/ENV_mise_en_prod/lib/python3.11/site-packages/xgboost/core.py:160: UserWarning: [15:59:39] WARNING: /workspace/src/learner.cc:742: \n",
      "Parameters: { \"silent\" } are not used.\n",
      "\n",
      "  warnings.warn(smsg, UserWarning)\n",
      "/home/onyxia/work/TMDb-Box-Office-Prediction/Codes/ENV_mise_en_prod/lib/python3.11/site-packages/xgboost/core.py:160: UserWarning: [15:59:39] WARNING: /workspace/src/learner.cc:742: \n",
      "Parameters: { \"silent\" } are not used.\n",
      "\n",
      "  warnings.warn(smsg, UserWarning)\n",
      "/home/onyxia/work/TMDb-Box-Office-Prediction/Codes/ENV_mise_en_prod/lib/python3.11/site-packages/xgboost/core.py:160: UserWarning: [15:59:39] WARNING: /workspace/src/learner.cc:742: \n",
      "Parameters: { \"silent\" } are not used.\n",
      "\n",
      "  warnings.warn(smsg, UserWarning)\n",
      "/home/onyxia/work/TMDb-Box-Office-Prediction/Codes/ENV_mise_en_prod/lib/python3.11/site-packages/xgboost/core.py:160: UserWarning: [15:59:39] WARNING: /workspace/src/learner.cc:742: \n",
      "Parameters: { \"silent\" } are not used.\n",
      "\n",
      "  warnings.warn(smsg, UserWarning)\n",
      "/home/onyxia/work/TMDb-Box-Office-Prediction/Codes/ENV_mise_en_prod/lib/python3.11/site-packages/xgboost/core.py:160: UserWarning: [15:59:39] WARNING: /workspace/src/learner.cc:742: \n",
      "Parameters: { \"silent\" } are not used.\n",
      "\n",
      "  warnings.warn(smsg, UserWarning)\n",
      "/home/onyxia/work/TMDb-Box-Office-Prediction/Codes/ENV_mise_en_prod/lib/python3.11/site-packages/xgboost/core.py:160: UserWarning: [15:59:39] WARNING: /workspace/src/learner.cc:742: \n",
      "Parameters: { \"silent\" } are not used.\n",
      "\n",
      "  warnings.warn(smsg, UserWarning)\n",
      "/home/onyxia/work/TMDb-Box-Office-Prediction/Codes/ENV_mise_en_prod/lib/python3.11/site-packages/xgboost/core.py:160: UserWarning: [15:59:39] WARNING: /workspace/src/learner.cc:742: \n",
      "Parameters: { \"silent\" } are not used.\n",
      "\n",
      "  warnings.warn(smsg, UserWarning)\n",
      "/home/onyxia/work/TMDb-Box-Office-Prediction/Codes/ENV_mise_en_prod/lib/python3.11/site-packages/xgboost/core.py:160: UserWarning: [15:59:39] WARNING: /workspace/src/learner.cc:742: \n",
      "Parameters: { \"silent\" } are not used.\n",
      "\n",
      "  warnings.warn(smsg, UserWarning)\n",
      "/home/onyxia/work/TMDb-Box-Office-Prediction/Codes/ENV_mise_en_prod/lib/python3.11/site-packages/xgboost/core.py:160: UserWarning: [15:59:39] WARNING: /workspace/src/learner.cc:742: \n",
      "Parameters: { \"silent\" } are not used.\n",
      "\n",
      "  warnings.warn(smsg, UserWarning)\n",
      "/home/onyxia/work/TMDb-Box-Office-Prediction/Codes/ENV_mise_en_prod/lib/python3.11/site-packages/xgboost/core.py:160: UserWarning: [15:59:39] WARNING: /workspace/src/learner.cc:742: \n",
      "Parameters: { \"silent\" } are not used.\n",
      "\n",
      "  warnings.warn(smsg, UserWarning)\n",
      "/home/onyxia/work/TMDb-Box-Office-Prediction/Codes/ENV_mise_en_prod/lib/python3.11/site-packages/xgboost/core.py:160: UserWarning: [15:59:39] WARNING: /workspace/src/learner.cc:742: \n",
      "Parameters: { \"silent\" } are not used.\n",
      "\n",
      "  warnings.warn(smsg, UserWarning)\n",
      "/home/onyxia/work/TMDb-Box-Office-Prediction/Codes/ENV_mise_en_prod/lib/python3.11/site-packages/xgboost/core.py:160: UserWarning: [15:59:39] WARNING: /workspace/src/learner.cc:742: \n",
      "Parameters: { \"silent\" } are not used.\n",
      "\n",
      "  warnings.warn(smsg, UserWarning)\n",
      "/home/onyxia/work/TMDb-Box-Office-Prediction/Codes/ENV_mise_en_prod/lib/python3.11/site-packages/xgboost/core.py:160: UserWarning: [15:59:39] WARNING: /workspace/src/learner.cc:742: \n",
      "Parameters: { \"silent\" } are not used.\n",
      "\n",
      "  warnings.warn(smsg, UserWarning)\n",
      "/home/onyxia/work/TMDb-Box-Office-Prediction/Codes/ENV_mise_en_prod/lib/python3.11/site-packages/xgboost/core.py:160: UserWarning: [15:59:39] WARNING: /workspace/src/learner.cc:742: \n",
      "Parameters: { \"silent\" } are not used.\n",
      "\n",
      "  warnings.warn(smsg, UserWarning)\n",
      "/home/onyxia/work/TMDb-Box-Office-Prediction/Codes/ENV_mise_en_prod/lib/python3.11/site-packages/xgboost/core.py:160: UserWarning: [15:59:39] WARNING: /workspace/src/learner.cc:742: \n",
      "Parameters: { \"silent\" } are not used.\n",
      "\n",
      "  warnings.warn(smsg, UserWarning)\n",
      "/home/onyxia/work/TMDb-Box-Office-Prediction/Codes/ENV_mise_en_prod/lib/python3.11/site-packages/xgboost/core.py:160: UserWarning: [15:59:40] WARNING: /workspace/src/learner.cc:742: \n",
      "Parameters: { \"silent\" } are not used.\n",
      "\n",
      "  warnings.warn(smsg, UserWarning)\n",
      "/home/onyxia/work/TMDb-Box-Office-Prediction/Codes/ENV_mise_en_prod/lib/python3.11/site-packages/xgboost/core.py:160: UserWarning: [15:59:40] WARNING: /workspace/src/learner.cc:742: \n",
      "Parameters: { \"silent\" } are not used.\n",
      "\n",
      "  warnings.warn(smsg, UserWarning)\n",
      "/home/onyxia/work/TMDb-Box-Office-Prediction/Codes/ENV_mise_en_prod/lib/python3.11/site-packages/xgboost/core.py:160: UserWarning: [15:59:40] WARNING: /workspace/src/learner.cc:742: \n",
      "Parameters: { \"silent\" } are not used.\n",
      "\n",
      "  warnings.warn(smsg, UserWarning)\n",
      "/home/onyxia/work/TMDb-Box-Office-Prediction/Codes/ENV_mise_en_prod/lib/python3.11/site-packages/xgboost/core.py:160: UserWarning: [15:59:40] WARNING: /workspace/src/learner.cc:742: \n",
      "Parameters: { \"silent\" } are not used.\n",
      "\n",
      "  warnings.warn(smsg, UserWarning)\n",
      "/home/onyxia/work/TMDb-Box-Office-Prediction/Codes/ENV_mise_en_prod/lib/python3.11/site-packages/xgboost/core.py:160: UserWarning: [15:59:40] WARNING: /workspace/src/learner.cc:742: \n",
      "Parameters: { \"silent\" } are not used.\n",
      "\n",
      "  warnings.warn(smsg, UserWarning)\n",
      "/home/onyxia/work/TMDb-Box-Office-Prediction/Codes/ENV_mise_en_prod/lib/python3.11/site-packages/xgboost/core.py:160: UserWarning: [15:59:40] WARNING: /workspace/src/learner.cc:742: \n",
      "Parameters: { \"silent\" } are not used.\n",
      "\n",
      "  warnings.warn(smsg, UserWarning)\n",
      "/home/onyxia/work/TMDb-Box-Office-Prediction/Codes/ENV_mise_en_prod/lib/python3.11/site-packages/xgboost/core.py:160: UserWarning: [15:59:40] WARNING: /workspace/src/learner.cc:742: \n",
      "Parameters: { \"silent\" } are not used.\n",
      "\n",
      "  warnings.warn(smsg, UserWarning)\n",
      "/home/onyxia/work/TMDb-Box-Office-Prediction/Codes/ENV_mise_en_prod/lib/python3.11/site-packages/xgboost/core.py:160: UserWarning: [15:59:40] WARNING: /workspace/src/learner.cc:742: \n",
      "Parameters: { \"silent\" } are not used.\n",
      "\n",
      "  warnings.warn(smsg, UserWarning)\n",
      "/home/onyxia/work/TMDb-Box-Office-Prediction/Codes/ENV_mise_en_prod/lib/python3.11/site-packages/xgboost/core.py:160: UserWarning: [15:59:40] WARNING: /workspace/src/learner.cc:742: \n",
      "Parameters: { \"silent\" } are not used.\n",
      "\n",
      "  warnings.warn(smsg, UserWarning)\n",
      "/home/onyxia/work/TMDb-Box-Office-Prediction/Codes/ENV_mise_en_prod/lib/python3.11/site-packages/xgboost/core.py:160: UserWarning: [15:59:40] WARNING: /workspace/src/learner.cc:742: \n",
      "Parameters: { \"silent\" } are not used.\n",
      "\n",
      "  warnings.warn(smsg, UserWarning)\n",
      "/home/onyxia/work/TMDb-Box-Office-Prediction/Codes/ENV_mise_en_prod/lib/python3.11/site-packages/xgboost/core.py:160: UserWarning: [15:59:40] WARNING: /workspace/src/learner.cc:742: \n",
      "Parameters: { \"silent\" } are not used.\n",
      "\n",
      "  warnings.warn(smsg, UserWarning)\n",
      "/home/onyxia/work/TMDb-Box-Office-Prediction/Codes/ENV_mise_en_prod/lib/python3.11/site-packages/xgboost/core.py:160: UserWarning: [15:59:40] WARNING: /workspace/src/learner.cc:742: \n",
      "Parameters: { \"silent\" } are not used.\n",
      "\n",
      "  warnings.warn(smsg, UserWarning)\n",
      "/home/onyxia/work/TMDb-Box-Office-Prediction/Codes/ENV_mise_en_prod/lib/python3.11/site-packages/xgboost/core.py:160: UserWarning: [15:59:40] WARNING: /workspace/src/learner.cc:742: \n",
      "Parameters: { \"silent\" } are not used.\n",
      "\n",
      "  warnings.warn(smsg, UserWarning)\n",
      "/home/onyxia/work/TMDb-Box-Office-Prediction/Codes/ENV_mise_en_prod/lib/python3.11/site-packages/xgboost/core.py:160: UserWarning: [15:59:40] WARNING: /workspace/src/learner.cc:742: \n",
      "Parameters: { \"silent\" } are not used.\n",
      "\n",
      "  warnings.warn(smsg, UserWarning)\n",
      "/home/onyxia/work/TMDb-Box-Office-Prediction/Codes/ENV_mise_en_prod/lib/python3.11/site-packages/xgboost/core.py:160: UserWarning: [15:59:40] WARNING: /workspace/src/learner.cc:742: \n",
      "Parameters: { \"silent\" } are not used.\n",
      "\n",
      "  warnings.warn(smsg, UserWarning)\n",
      "/home/onyxia/work/TMDb-Box-Office-Prediction/Codes/ENV_mise_en_prod/lib/python3.11/site-packages/xgboost/core.py:160: UserWarning: [15:59:40] WARNING: /workspace/src/learner.cc:742: \n",
      "Parameters: { \"silent\" } are not used.\n",
      "\n",
      "  warnings.warn(smsg, UserWarning)\n",
      "/home/onyxia/work/TMDb-Box-Office-Prediction/Codes/ENV_mise_en_prod/lib/python3.11/site-packages/xgboost/core.py:160: UserWarning: [15:59:40] WARNING: /workspace/src/learner.cc:742: \n",
      "Parameters: { \"silent\" } are not used.\n",
      "\n",
      "  warnings.warn(smsg, UserWarning)\n",
      "/home/onyxia/work/TMDb-Box-Office-Prediction/Codes/ENV_mise_en_prod/lib/python3.11/site-packages/xgboost/core.py:160: UserWarning: [15:59:40] WARNING: /workspace/src/learner.cc:742: \n",
      "Parameters: { \"silent\" } are not used.\n",
      "\n",
      "  warnings.warn(smsg, UserWarning)\n",
      "/home/onyxia/work/TMDb-Box-Office-Prediction/Codes/ENV_mise_en_prod/lib/python3.11/site-packages/xgboost/core.py:160: UserWarning: [15:59:40] WARNING: /workspace/src/learner.cc:742: \n",
      "Parameters: { \"silent\" } are not used.\n",
      "\n",
      "  warnings.warn(smsg, UserWarning)\n",
      "/home/onyxia/work/TMDb-Box-Office-Prediction/Codes/ENV_mise_en_prod/lib/python3.11/site-packages/xgboost/core.py:160: UserWarning: [15:59:40] WARNING: /workspace/src/learner.cc:742: \n",
      "Parameters: { \"silent\" } are not used.\n",
      "\n",
      "  warnings.warn(smsg, UserWarning)\n",
      "/home/onyxia/work/TMDb-Box-Office-Prediction/Codes/ENV_mise_en_prod/lib/python3.11/site-packages/xgboost/core.py:160: UserWarning: [15:59:40] WARNING: /workspace/src/learner.cc:742: \n",
      "Parameters: { \"silent\" } are not used.\n",
      "\n",
      "  warnings.warn(smsg, UserWarning)\n",
      "/home/onyxia/work/TMDb-Box-Office-Prediction/Codes/ENV_mise_en_prod/lib/python3.11/site-packages/xgboost/core.py:160: UserWarning: [15:59:40] WARNING: /workspace/src/learner.cc:742: \n",
      "Parameters: { \"silent\" } are not used.\n",
      "\n",
      "  warnings.warn(smsg, UserWarning)\n",
      "/home/onyxia/work/TMDb-Box-Office-Prediction/Codes/ENV_mise_en_prod/lib/python3.11/site-packages/xgboost/core.py:160: UserWarning: [15:59:40] WARNING: /workspace/src/learner.cc:742: \n",
      "Parameters: { \"silent\" } are not used.\n",
      "\n",
      "  warnings.warn(smsg, UserWarning)\n",
      "/home/onyxia/work/TMDb-Box-Office-Prediction/Codes/ENV_mise_en_prod/lib/python3.11/site-packages/xgboost/core.py:160: UserWarning: [15:59:40] WARNING: /workspace/src/learner.cc:742: \n",
      "Parameters: { \"silent\" } are not used.\n",
      "\n",
      "  warnings.warn(smsg, UserWarning)\n"
     ]
    },
    {
     "name": "stderr",
     "output_type": "stream",
     "text": [
      "/home/onyxia/work/TMDb-Box-Office-Prediction/Codes/ENV_mise_en_prod/lib/python3.11/site-packages/xgboost/core.py:160: UserWarning: [15:59:40] WARNING: /workspace/src/learner.cc:742: \n",
      "Parameters: { \"silent\" } are not used.\n",
      "\n",
      "  warnings.warn(smsg, UserWarning)\n",
      "/home/onyxia/work/TMDb-Box-Office-Prediction/Codes/ENV_mise_en_prod/lib/python3.11/site-packages/xgboost/core.py:160: UserWarning: [15:59:40] WARNING: /workspace/src/learner.cc:742: \n",
      "Parameters: { \"silent\" } are not used.\n",
      "\n",
      "  warnings.warn(smsg, UserWarning)\n",
      "/home/onyxia/work/TMDb-Box-Office-Prediction/Codes/ENV_mise_en_prod/lib/python3.11/site-packages/xgboost/core.py:160: UserWarning: [15:59:40] WARNING: /workspace/src/learner.cc:742: \n",
      "Parameters: { \"silent\" } are not used.\n",
      "\n",
      "  warnings.warn(smsg, UserWarning)\n",
      "/home/onyxia/work/TMDb-Box-Office-Prediction/Codes/ENV_mise_en_prod/lib/python3.11/site-packages/xgboost/core.py:160: UserWarning: [15:59:40] WARNING: /workspace/src/learner.cc:742: \n",
      "Parameters: { \"silent\" } are not used.\n",
      "\n",
      "  warnings.warn(smsg, UserWarning)\n",
      "/home/onyxia/work/TMDb-Box-Office-Prediction/Codes/ENV_mise_en_prod/lib/python3.11/site-packages/xgboost/core.py:160: UserWarning: [15:59:40] WARNING: /workspace/src/learner.cc:742: \n",
      "Parameters: { \"silent\" } are not used.\n",
      "\n",
      "  warnings.warn(smsg, UserWarning)\n",
      "/home/onyxia/work/TMDb-Box-Office-Prediction/Codes/ENV_mise_en_prod/lib/python3.11/site-packages/xgboost/core.py:160: UserWarning: [15:59:40] WARNING: /workspace/src/learner.cc:742: \n",
      "Parameters: { \"silent\" } are not used.\n",
      "\n",
      "  warnings.warn(smsg, UserWarning)\n",
      "/home/onyxia/work/TMDb-Box-Office-Prediction/Codes/ENV_mise_en_prod/lib/python3.11/site-packages/xgboost/core.py:160: UserWarning: [15:59:40] WARNING: /workspace/src/learner.cc:742: \n",
      "Parameters: { \"silent\" } are not used.\n",
      "\n",
      "  warnings.warn(smsg, UserWarning)\n",
      "/home/onyxia/work/TMDb-Box-Office-Prediction/Codes/ENV_mise_en_prod/lib/python3.11/site-packages/xgboost/core.py:160: UserWarning: [15:59:40] WARNING: /workspace/src/learner.cc:742: \n",
      "Parameters: { \"silent\" } are not used.\n",
      "\n",
      "  warnings.warn(smsg, UserWarning)\n",
      "/home/onyxia/work/TMDb-Box-Office-Prediction/Codes/ENV_mise_en_prod/lib/python3.11/site-packages/xgboost/core.py:160: UserWarning: [15:59:40] WARNING: /workspace/src/learner.cc:742: \n",
      "Parameters: { \"silent\" } are not used.\n",
      "\n",
      "  warnings.warn(smsg, UserWarning)\n",
      "/home/onyxia/work/TMDb-Box-Office-Prediction/Codes/ENV_mise_en_prod/lib/python3.11/site-packages/xgboost/core.py:160: UserWarning: [15:59:40] WARNING: /workspace/src/learner.cc:742: \n",
      "Parameters: { \"silent\" } are not used.\n",
      "\n",
      "  warnings.warn(smsg, UserWarning)\n",
      "/home/onyxia/work/TMDb-Box-Office-Prediction/Codes/ENV_mise_en_prod/lib/python3.11/site-packages/xgboost/core.py:160: UserWarning: [15:59:40] WARNING: /workspace/src/learner.cc:742: \n",
      "Parameters: { \"silent\" } are not used.\n",
      "\n",
      "  warnings.warn(smsg, UserWarning)\n",
      "/home/onyxia/work/TMDb-Box-Office-Prediction/Codes/ENV_mise_en_prod/lib/python3.11/site-packages/xgboost/core.py:160: UserWarning: [15:59:40] WARNING: /workspace/src/learner.cc:742: \n",
      "Parameters: { \"silent\" } are not used.\n",
      "\n",
      "  warnings.warn(smsg, UserWarning)\n",
      "/home/onyxia/work/TMDb-Box-Office-Prediction/Codes/ENV_mise_en_prod/lib/python3.11/site-packages/xgboost/core.py:160: UserWarning: [15:59:40] WARNING: /workspace/src/learner.cc:742: \n",
      "Parameters: { \"silent\" } are not used.\n",
      "\n",
      "  warnings.warn(smsg, UserWarning)\n",
      "/home/onyxia/work/TMDb-Box-Office-Prediction/Codes/ENV_mise_en_prod/lib/python3.11/site-packages/xgboost/core.py:160: UserWarning: [15:59:40] WARNING: /workspace/src/learner.cc:742: \n",
      "Parameters: { \"silent\" } are not used.\n",
      "\n",
      "  warnings.warn(smsg, UserWarning)\n",
      "/home/onyxia/work/TMDb-Box-Office-Prediction/Codes/ENV_mise_en_prod/lib/python3.11/site-packages/xgboost/core.py:160: UserWarning: [15:59:40] WARNING: /workspace/src/learner.cc:742: \n",
      "Parameters: { \"silent\" } are not used.\n",
      "\n",
      "  warnings.warn(smsg, UserWarning)\n",
      "/home/onyxia/work/TMDb-Box-Office-Prediction/Codes/ENV_mise_en_prod/lib/python3.11/site-packages/xgboost/core.py:160: UserWarning: [15:59:40] WARNING: /workspace/src/learner.cc:742: \n",
      "Parameters: { \"silent\" } are not used.\n",
      "\n",
      "  warnings.warn(smsg, UserWarning)\n",
      "/home/onyxia/work/TMDb-Box-Office-Prediction/Codes/ENV_mise_en_prod/lib/python3.11/site-packages/xgboost/core.py:160: UserWarning: [15:59:40] WARNING: /workspace/src/learner.cc:742: \n",
      "Parameters: { \"silent\" } are not used.\n",
      "\n",
      "  warnings.warn(smsg, UserWarning)\n",
      "/home/onyxia/work/TMDb-Box-Office-Prediction/Codes/ENV_mise_en_prod/lib/python3.11/site-packages/xgboost/core.py:160: UserWarning: [15:59:40] WARNING: /workspace/src/learner.cc:742: \n",
      "Parameters: { \"silent\" } are not used.\n",
      "\n",
      "  warnings.warn(smsg, UserWarning)\n",
      "/home/onyxia/work/TMDb-Box-Office-Prediction/Codes/ENV_mise_en_prod/lib/python3.11/site-packages/xgboost/core.py:160: UserWarning: [15:59:41] WARNING: /workspace/src/learner.cc:742: \n",
      "Parameters: { \"silent\" } are not used.\n",
      "\n",
      "  warnings.warn(smsg, UserWarning)\n",
      "/home/onyxia/work/TMDb-Box-Office-Prediction/Codes/ENV_mise_en_prod/lib/python3.11/site-packages/xgboost/core.py:160: UserWarning: [15:59:41] WARNING: /workspace/src/learner.cc:742: \n",
      "Parameters: { \"silent\" } are not used.\n",
      "\n",
      "  warnings.warn(smsg, UserWarning)\n",
      "/home/onyxia/work/TMDb-Box-Office-Prediction/Codes/ENV_mise_en_prod/lib/python3.11/site-packages/xgboost/core.py:160: UserWarning: [15:59:41] WARNING: /workspace/src/learner.cc:742: \n",
      "Parameters: { \"silent\" } are not used.\n",
      "\n",
      "  warnings.warn(smsg, UserWarning)\n",
      "/home/onyxia/work/TMDb-Box-Office-Prediction/Codes/ENV_mise_en_prod/lib/python3.11/site-packages/xgboost/core.py:160: UserWarning: [15:59:41] WARNING: /workspace/src/learner.cc:742: \n",
      "Parameters: { \"silent\" } are not used.\n",
      "\n",
      "  warnings.warn(smsg, UserWarning)\n",
      "/home/onyxia/work/TMDb-Box-Office-Prediction/Codes/ENV_mise_en_prod/lib/python3.11/site-packages/xgboost/core.py:160: UserWarning: [15:59:41] WARNING: /workspace/src/learner.cc:742: \n",
      "Parameters: { \"silent\" } are not used.\n",
      "\n",
      "  warnings.warn(smsg, UserWarning)\n",
      "/home/onyxia/work/TMDb-Box-Office-Prediction/Codes/ENV_mise_en_prod/lib/python3.11/site-packages/xgboost/core.py:160: UserWarning: [15:59:41] WARNING: /workspace/src/learner.cc:742: \n",
      "Parameters: { \"silent\" } are not used.\n",
      "\n",
      "  warnings.warn(smsg, UserWarning)\n",
      "/home/onyxia/work/TMDb-Box-Office-Prediction/Codes/ENV_mise_en_prod/lib/python3.11/site-packages/xgboost/core.py:160: UserWarning: [15:59:41] WARNING: /workspace/src/learner.cc:742: \n",
      "Parameters: { \"silent\" } are not used.\n",
      "\n",
      "  warnings.warn(smsg, UserWarning)\n",
      "/home/onyxia/work/TMDb-Box-Office-Prediction/Codes/ENV_mise_en_prod/lib/python3.11/site-packages/xgboost/core.py:160: UserWarning: [15:59:41] WARNING: /workspace/src/learner.cc:742: \n",
      "Parameters: { \"silent\" } are not used.\n",
      "\n",
      "  warnings.warn(smsg, UserWarning)\n",
      "/home/onyxia/work/TMDb-Box-Office-Prediction/Codes/ENV_mise_en_prod/lib/python3.11/site-packages/xgboost/core.py:160: UserWarning: [15:59:41] WARNING: /workspace/src/learner.cc:742: \n",
      "Parameters: { \"silent\" } are not used.\n",
      "\n",
      "  warnings.warn(smsg, UserWarning)\n",
      "/home/onyxia/work/TMDb-Box-Office-Prediction/Codes/ENV_mise_en_prod/lib/python3.11/site-packages/xgboost/core.py:160: UserWarning: [15:59:41] WARNING: /workspace/src/learner.cc:742: \n",
      "Parameters: { \"silent\" } are not used.\n",
      "\n",
      "  warnings.warn(smsg, UserWarning)\n",
      "/home/onyxia/work/TMDb-Box-Office-Prediction/Codes/ENV_mise_en_prod/lib/python3.11/site-packages/xgboost/core.py:160: UserWarning: [15:59:41] WARNING: /workspace/src/learner.cc:742: \n",
      "Parameters: { \"silent\" } are not used.\n",
      "\n",
      "  warnings.warn(smsg, UserWarning)\n",
      "/home/onyxia/work/TMDb-Box-Office-Prediction/Codes/ENV_mise_en_prod/lib/python3.11/site-packages/xgboost/core.py:160: UserWarning: [15:59:41] WARNING: /workspace/src/learner.cc:742: \n",
      "Parameters: { \"silent\" } are not used.\n",
      "\n",
      "  warnings.warn(smsg, UserWarning)\n",
      "/home/onyxia/work/TMDb-Box-Office-Prediction/Codes/ENV_mise_en_prod/lib/python3.11/site-packages/xgboost/core.py:160: UserWarning: [15:59:41] WARNING: /workspace/src/learner.cc:742: \n",
      "Parameters: { \"silent\" } are not used.\n",
      "\n",
      "  warnings.warn(smsg, UserWarning)\n",
      "/home/onyxia/work/TMDb-Box-Office-Prediction/Codes/ENV_mise_en_prod/lib/python3.11/site-packages/xgboost/core.py:160: UserWarning: [15:59:41] WARNING: /workspace/src/learner.cc:742: \n",
      "Parameters: { \"silent\" } are not used.\n",
      "\n",
      "  warnings.warn(smsg, UserWarning)\n",
      "/home/onyxia/work/TMDb-Box-Office-Prediction/Codes/ENV_mise_en_prod/lib/python3.11/site-packages/xgboost/core.py:160: UserWarning: [15:59:41] WARNING: /workspace/src/learner.cc:742: \n",
      "Parameters: { \"silent\" } are not used.\n",
      "\n",
      "  warnings.warn(smsg, UserWarning)\n",
      "/home/onyxia/work/TMDb-Box-Office-Prediction/Codes/ENV_mise_en_prod/lib/python3.11/site-packages/xgboost/core.py:160: UserWarning: [15:59:42] WARNING: /workspace/src/learner.cc:742: \n",
      "Parameters: { \"silent\" } are not used.\n",
      "\n",
      "  warnings.warn(smsg, UserWarning)\n",
      "/home/onyxia/work/TMDb-Box-Office-Prediction/Codes/ENV_mise_en_prod/lib/python3.11/site-packages/xgboost/core.py:160: UserWarning: [15:59:42] WARNING: /workspace/src/learner.cc:742: \n",
      "Parameters: { \"silent\" } are not used.\n",
      "\n",
      "  warnings.warn(smsg, UserWarning)\n",
      "/home/onyxia/work/TMDb-Box-Office-Prediction/Codes/ENV_mise_en_prod/lib/python3.11/site-packages/xgboost/core.py:160: UserWarning: [15:59:42] WARNING: /workspace/src/learner.cc:742: \n",
      "Parameters: { \"silent\" } are not used.\n",
      "\n",
      "  warnings.warn(smsg, UserWarning)\n",
      "/home/onyxia/work/TMDb-Box-Office-Prediction/Codes/ENV_mise_en_prod/lib/python3.11/site-packages/xgboost/core.py:160: UserWarning: [15:59:42] WARNING: /workspace/src/learner.cc:742: \n",
      "Parameters: { \"silent\" } are not used.\n",
      "\n",
      "  warnings.warn(smsg, UserWarning)\n",
      "/home/onyxia/work/TMDb-Box-Office-Prediction/Codes/ENV_mise_en_prod/lib/python3.11/site-packages/xgboost/core.py:160: UserWarning: [15:59:42] WARNING: /workspace/src/learner.cc:742: \n",
      "Parameters: { \"silent\" } are not used.\n",
      "\n",
      "  warnings.warn(smsg, UserWarning)\n",
      "/home/onyxia/work/TMDb-Box-Office-Prediction/Codes/ENV_mise_en_prod/lib/python3.11/site-packages/xgboost/core.py:160: UserWarning: [15:59:42] WARNING: /workspace/src/learner.cc:742: \n",
      "Parameters: { \"silent\" } are not used.\n",
      "\n",
      "  warnings.warn(smsg, UserWarning)\n",
      "/home/onyxia/work/TMDb-Box-Office-Prediction/Codes/ENV_mise_en_prod/lib/python3.11/site-packages/xgboost/core.py:160: UserWarning: [15:59:42] WARNING: /workspace/src/learner.cc:742: \n",
      "Parameters: { \"silent\" } are not used.\n",
      "\n",
      "  warnings.warn(smsg, UserWarning)\n",
      "/home/onyxia/work/TMDb-Box-Office-Prediction/Codes/ENV_mise_en_prod/lib/python3.11/site-packages/xgboost/core.py:160: UserWarning: [15:59:42] WARNING: /workspace/src/learner.cc:742: \n",
      "Parameters: { \"silent\" } are not used.\n",
      "\n",
      "  warnings.warn(smsg, UserWarning)\n",
      "/home/onyxia/work/TMDb-Box-Office-Prediction/Codes/ENV_mise_en_prod/lib/python3.11/site-packages/xgboost/core.py:160: UserWarning: [15:59:42] WARNING: /workspace/src/learner.cc:742: \n",
      "Parameters: { \"silent\" } are not used.\n",
      "\n",
      "  warnings.warn(smsg, UserWarning)\n",
      "/home/onyxia/work/TMDb-Box-Office-Prediction/Codes/ENV_mise_en_prod/lib/python3.11/site-packages/xgboost/core.py:160: UserWarning: [15:59:42] WARNING: /workspace/src/learner.cc:742: \n",
      "Parameters: { \"silent\" } are not used.\n",
      "\n",
      "  warnings.warn(smsg, UserWarning)\n",
      "/home/onyxia/work/TMDb-Box-Office-Prediction/Codes/ENV_mise_en_prod/lib/python3.11/site-packages/xgboost/core.py:160: UserWarning: [15:59:42] WARNING: /workspace/src/learner.cc:742: \n",
      "Parameters: { \"silent\" } are not used.\n",
      "\n",
      "  warnings.warn(smsg, UserWarning)\n",
      "/home/onyxia/work/TMDb-Box-Office-Prediction/Codes/ENV_mise_en_prod/lib/python3.11/site-packages/xgboost/core.py:160: UserWarning: [15:59:42] WARNING: /workspace/src/learner.cc:742: \n",
      "Parameters: { \"silent\" } are not used.\n",
      "\n",
      "  warnings.warn(smsg, UserWarning)\n",
      "/home/onyxia/work/TMDb-Box-Office-Prediction/Codes/ENV_mise_en_prod/lib/python3.11/site-packages/xgboost/core.py:160: UserWarning: [15:59:42] WARNING: /workspace/src/learner.cc:742: \n",
      "Parameters: { \"silent\" } are not used.\n",
      "\n",
      "  warnings.warn(smsg, UserWarning)\n",
      "/home/onyxia/work/TMDb-Box-Office-Prediction/Codes/ENV_mise_en_prod/lib/python3.11/site-packages/xgboost/core.py:160: UserWarning: [15:59:42] WARNING: /workspace/src/learner.cc:742: \n",
      "Parameters: { \"silent\" } are not used.\n",
      "\n",
      "  warnings.warn(smsg, UserWarning)\n",
      "/home/onyxia/work/TMDb-Box-Office-Prediction/Codes/ENV_mise_en_prod/lib/python3.11/site-packages/xgboost/core.py:160: UserWarning: [15:59:42] WARNING: /workspace/src/learner.cc:742: \n",
      "Parameters: { \"silent\" } are not used.\n",
      "\n",
      "  warnings.warn(smsg, UserWarning)\n",
      "/home/onyxia/work/TMDb-Box-Office-Prediction/Codes/ENV_mise_en_prod/lib/python3.11/site-packages/xgboost/core.py:160: UserWarning: [15:59:42] WARNING: /workspace/src/learner.cc:742: \n",
      "Parameters: { \"silent\" } are not used.\n",
      "\n",
      "  warnings.warn(smsg, UserWarning)\n",
      "/home/onyxia/work/TMDb-Box-Office-Prediction/Codes/ENV_mise_en_prod/lib/python3.11/site-packages/xgboost/core.py:160: UserWarning: [15:59:42] WARNING: /workspace/src/learner.cc:742: \n",
      "Parameters: { \"silent\" } are not used.\n",
      "\n",
      "  warnings.warn(smsg, UserWarning)\n",
      "/home/onyxia/work/TMDb-Box-Office-Prediction/Codes/ENV_mise_en_prod/lib/python3.11/site-packages/xgboost/core.py:160: UserWarning: [15:59:42] WARNING: /workspace/src/learner.cc:742: \n",
      "Parameters: { \"silent\" } are not used.\n",
      "\n",
      "  warnings.warn(smsg, UserWarning)\n",
      "/home/onyxia/work/TMDb-Box-Office-Prediction/Codes/ENV_mise_en_prod/lib/python3.11/site-packages/xgboost/core.py:160: UserWarning: [15:59:42] WARNING: /workspace/src/learner.cc:742: \n",
      "Parameters: { \"silent\" } are not used.\n",
      "\n",
      "  warnings.warn(smsg, UserWarning)\n",
      "/home/onyxia/work/TMDb-Box-Office-Prediction/Codes/ENV_mise_en_prod/lib/python3.11/site-packages/xgboost/core.py:160: UserWarning: [15:59:42] WARNING: /workspace/src/learner.cc:742: \n",
      "Parameters: { \"silent\" } are not used.\n",
      "\n",
      "  warnings.warn(smsg, UserWarning)\n",
      "/home/onyxia/work/TMDb-Box-Office-Prediction/Codes/ENV_mise_en_prod/lib/python3.11/site-packages/xgboost/core.py:160: UserWarning: [15:59:42] WARNING: /workspace/src/learner.cc:742: \n",
      "Parameters: { \"silent\" } are not used.\n",
      "\n",
      "  warnings.warn(smsg, UserWarning)\n",
      "/home/onyxia/work/TMDb-Box-Office-Prediction/Codes/ENV_mise_en_prod/lib/python3.11/site-packages/xgboost/core.py:160: UserWarning: [15:59:43] WARNING: /workspace/src/learner.cc:742: \n",
      "Parameters: { \"silent\" } are not used.\n",
      "\n",
      "  warnings.warn(smsg, UserWarning)\n",
      "/home/onyxia/work/TMDb-Box-Office-Prediction/Codes/ENV_mise_en_prod/lib/python3.11/site-packages/xgboost/core.py:160: UserWarning: [15:59:43] WARNING: /workspace/src/learner.cc:742: \n",
      "Parameters: { \"silent\" } are not used.\n",
      "\n",
      "  warnings.warn(smsg, UserWarning)\n",
      "/home/onyxia/work/TMDb-Box-Office-Prediction/Codes/ENV_mise_en_prod/lib/python3.11/site-packages/xgboost/core.py:160: UserWarning: [15:59:43] WARNING: /workspace/src/learner.cc:742: \n",
      "Parameters: { \"silent\" } are not used.\n",
      "\n",
      "  warnings.warn(smsg, UserWarning)\n",
      "/home/onyxia/work/TMDb-Box-Office-Prediction/Codes/ENV_mise_en_prod/lib/python3.11/site-packages/xgboost/core.py:160: UserWarning: [15:59:43] WARNING: /workspace/src/learner.cc:742: \n",
      "Parameters: { \"silent\" } are not used.\n",
      "\n",
      "  warnings.warn(smsg, UserWarning)\n",
      "/home/onyxia/work/TMDb-Box-Office-Prediction/Codes/ENV_mise_en_prod/lib/python3.11/site-packages/xgboost/core.py:160: UserWarning: [15:59:43] WARNING: /workspace/src/learner.cc:742: \n",
      "Parameters: { \"silent\" } are not used.\n",
      "\n",
      "  warnings.warn(smsg, UserWarning)\n",
      "/home/onyxia/work/TMDb-Box-Office-Prediction/Codes/ENV_mise_en_prod/lib/python3.11/site-packages/xgboost/core.py:160: UserWarning: [15:59:43] WARNING: /workspace/src/learner.cc:742: \n",
      "Parameters: { \"silent\" } are not used.\n",
      "\n",
      "  warnings.warn(smsg, UserWarning)\n",
      "/home/onyxia/work/TMDb-Box-Office-Prediction/Codes/ENV_mise_en_prod/lib/python3.11/site-packages/xgboost/core.py:160: UserWarning: [15:59:43] WARNING: /workspace/src/learner.cc:742: \n",
      "Parameters: { \"silent\" } are not used.\n",
      "\n",
      "  warnings.warn(smsg, UserWarning)\n",
      "/home/onyxia/work/TMDb-Box-Office-Prediction/Codes/ENV_mise_en_prod/lib/python3.11/site-packages/xgboost/core.py:160: UserWarning: [15:59:43] WARNING: /workspace/src/learner.cc:742: \n",
      "Parameters: { \"silent\" } are not used.\n",
      "\n",
      "  warnings.warn(smsg, UserWarning)\n",
      "/home/onyxia/work/TMDb-Box-Office-Prediction/Codes/ENV_mise_en_prod/lib/python3.11/site-packages/xgboost/core.py:160: UserWarning: [15:59:43] WARNING: /workspace/src/learner.cc:742: \n",
      "Parameters: { \"silent\" } are not used.\n",
      "\n",
      "  warnings.warn(smsg, UserWarning)\n",
      "/home/onyxia/work/TMDb-Box-Office-Prediction/Codes/ENV_mise_en_prod/lib/python3.11/site-packages/xgboost/core.py:160: UserWarning: [15:59:43] WARNING: /workspace/src/learner.cc:742: \n",
      "Parameters: { \"silent\" } are not used.\n",
      "\n",
      "  warnings.warn(smsg, UserWarning)\n",
      "/home/onyxia/work/TMDb-Box-Office-Prediction/Codes/ENV_mise_en_prod/lib/python3.11/site-packages/xgboost/core.py:160: UserWarning: [15:59:43] WARNING: /workspace/src/learner.cc:742: \n",
      "Parameters: { \"silent\" } are not used.\n",
      "\n",
      "  warnings.warn(smsg, UserWarning)\n",
      "/home/onyxia/work/TMDb-Box-Office-Prediction/Codes/ENV_mise_en_prod/lib/python3.11/site-packages/xgboost/core.py:160: UserWarning: [15:59:43] WARNING: /workspace/src/learner.cc:742: \n",
      "Parameters: { \"silent\" } are not used.\n",
      "\n",
      "  warnings.warn(smsg, UserWarning)\n",
      "/home/onyxia/work/TMDb-Box-Office-Prediction/Codes/ENV_mise_en_prod/lib/python3.11/site-packages/xgboost/core.py:160: UserWarning: [15:59:43] WARNING: /workspace/src/learner.cc:742: \n",
      "Parameters: { \"silent\" } are not used.\n",
      "\n",
      "  warnings.warn(smsg, UserWarning)\n",
      "/home/onyxia/work/TMDb-Box-Office-Prediction/Codes/ENV_mise_en_prod/lib/python3.11/site-packages/xgboost/core.py:160: UserWarning: [15:59:43] WARNING: /workspace/src/learner.cc:742: \n",
      "Parameters: { \"silent\" } are not used.\n",
      "\n",
      "  warnings.warn(smsg, UserWarning)\n",
      "/home/onyxia/work/TMDb-Box-Office-Prediction/Codes/ENV_mise_en_prod/lib/python3.11/site-packages/xgboost/core.py:160: UserWarning: [15:59:43] WARNING: /workspace/src/learner.cc:742: \n",
      "Parameters: { \"silent\" } are not used.\n",
      "\n",
      "  warnings.warn(smsg, UserWarning)\n",
      "/home/onyxia/work/TMDb-Box-Office-Prediction/Codes/ENV_mise_en_prod/lib/python3.11/site-packages/xgboost/core.py:160: UserWarning: [15:59:43] WARNING: /workspace/src/learner.cc:742: \n",
      "Parameters: { \"silent\" } are not used.\n",
      "\n",
      "  warnings.warn(smsg, UserWarning)\n",
      "/home/onyxia/work/TMDb-Box-Office-Prediction/Codes/ENV_mise_en_prod/lib/python3.11/site-packages/xgboost/core.py:160: UserWarning: [15:59:43] WARNING: /workspace/src/learner.cc:742: \n",
      "Parameters: { \"silent\" } are not used.\n",
      "\n",
      "  warnings.warn(smsg, UserWarning)\n",
      "/home/onyxia/work/TMDb-Box-Office-Prediction/Codes/ENV_mise_en_prod/lib/python3.11/site-packages/xgboost/core.py:160: UserWarning: [15:59:43] WARNING: /workspace/src/learner.cc:742: \n",
      "Parameters: { \"silent\" } are not used.\n",
      "\n",
      "  warnings.warn(smsg, UserWarning)\n",
      "/home/onyxia/work/TMDb-Box-Office-Prediction/Codes/ENV_mise_en_prod/lib/python3.11/site-packages/xgboost/core.py:160: UserWarning: [15:59:43] WARNING: /workspace/src/learner.cc:742: \n",
      "Parameters: { \"silent\" } are not used.\n",
      "\n",
      "  warnings.warn(smsg, UserWarning)\n",
      "/home/onyxia/work/TMDb-Box-Office-Prediction/Codes/ENV_mise_en_prod/lib/python3.11/site-packages/xgboost/core.py:160: UserWarning: [15:59:43] WARNING: /workspace/src/learner.cc:742: \n",
      "Parameters: { \"silent\" } are not used.\n",
      "\n",
      "  warnings.warn(smsg, UserWarning)\n",
      "/home/onyxia/work/TMDb-Box-Office-Prediction/Codes/ENV_mise_en_prod/lib/python3.11/site-packages/xgboost/core.py:160: UserWarning: [15:59:43] WARNING: /workspace/src/learner.cc:742: \n",
      "Parameters: { \"silent\" } are not used.\n",
      "\n",
      "  warnings.warn(smsg, UserWarning)\n",
      "/home/onyxia/work/TMDb-Box-Office-Prediction/Codes/ENV_mise_en_prod/lib/python3.11/site-packages/xgboost/core.py:160: UserWarning: [15:59:43] WARNING: /workspace/src/learner.cc:742: \n",
      "Parameters: { \"silent\" } are not used.\n",
      "\n",
      "  warnings.warn(smsg, UserWarning)\n",
      "/home/onyxia/work/TMDb-Box-Office-Prediction/Codes/ENV_mise_en_prod/lib/python3.11/site-packages/xgboost/core.py:160: UserWarning: [15:59:43] WARNING: /workspace/src/learner.cc:742: \n",
      "Parameters: { \"silent\" } are not used.\n",
      "\n",
      "  warnings.warn(smsg, UserWarning)\n",
      "/home/onyxia/work/TMDb-Box-Office-Prediction/Codes/ENV_mise_en_prod/lib/python3.11/site-packages/xgboost/core.py:160: UserWarning: [15:59:43] WARNING: /workspace/src/learner.cc:742: \n",
      "Parameters: { \"silent\" } are not used.\n",
      "\n",
      "  warnings.warn(smsg, UserWarning)\n",
      "/home/onyxia/work/TMDb-Box-Office-Prediction/Codes/ENV_mise_en_prod/lib/python3.11/site-packages/xgboost/core.py:160: UserWarning: [15:59:44] WARNING: /workspace/src/learner.cc:742: \n",
      "Parameters: { \"silent\" } are not used.\n",
      "\n",
      "  warnings.warn(smsg, UserWarning)\n",
      "/home/onyxia/work/TMDb-Box-Office-Prediction/Codes/ENV_mise_en_prod/lib/python3.11/site-packages/xgboost/core.py:160: UserWarning: [15:59:44] WARNING: /workspace/src/learner.cc:742: \n",
      "Parameters: { \"silent\" } are not used.\n",
      "\n",
      "  warnings.warn(smsg, UserWarning)\n",
      "/home/onyxia/work/TMDb-Box-Office-Prediction/Codes/ENV_mise_en_prod/lib/python3.11/site-packages/xgboost/core.py:160: UserWarning: [15:59:44] WARNING: /workspace/src/learner.cc:742: \n",
      "Parameters: { \"silent\" } are not used.\n",
      "\n",
      "  warnings.warn(smsg, UserWarning)\n",
      "/home/onyxia/work/TMDb-Box-Office-Prediction/Codes/ENV_mise_en_prod/lib/python3.11/site-packages/xgboost/core.py:160: UserWarning: [15:59:44] WARNING: /workspace/src/learner.cc:742: \n",
      "Parameters: { \"silent\" } are not used.\n",
      "\n",
      "  warnings.warn(smsg, UserWarning)\n",
      "/home/onyxia/work/TMDb-Box-Office-Prediction/Codes/ENV_mise_en_prod/lib/python3.11/site-packages/xgboost/core.py:160: UserWarning: [15:59:44] WARNING: /workspace/src/learner.cc:742: \n",
      "Parameters: { \"silent\" } are not used.\n",
      "\n",
      "  warnings.warn(smsg, UserWarning)\n",
      "/home/onyxia/work/TMDb-Box-Office-Prediction/Codes/ENV_mise_en_prod/lib/python3.11/site-packages/xgboost/core.py:160: UserWarning: [15:59:44] WARNING: /workspace/src/learner.cc:742: \n",
      "Parameters: { \"silent\" } are not used.\n",
      "\n",
      "  warnings.warn(smsg, UserWarning)\n",
      "/home/onyxia/work/TMDb-Box-Office-Prediction/Codes/ENV_mise_en_prod/lib/python3.11/site-packages/xgboost/core.py:160: UserWarning: [15:59:44] WARNING: /workspace/src/learner.cc:742: \n",
      "Parameters: { \"silent\" } are not used.\n",
      "\n",
      "  warnings.warn(smsg, UserWarning)\n",
      "/home/onyxia/work/TMDb-Box-Office-Prediction/Codes/ENV_mise_en_prod/lib/python3.11/site-packages/xgboost/core.py:160: UserWarning: [15:59:44] WARNING: /workspace/src/learner.cc:742: \n",
      "Parameters: { \"silent\" } are not used.\n",
      "\n",
      "  warnings.warn(smsg, UserWarning)\n",
      "/home/onyxia/work/TMDb-Box-Office-Prediction/Codes/ENV_mise_en_prod/lib/python3.11/site-packages/xgboost/core.py:160: UserWarning: [15:59:44] WARNING: /workspace/src/learner.cc:742: \n",
      "Parameters: { \"silent\" } are not used.\n",
      "\n",
      "  warnings.warn(smsg, UserWarning)\n",
      "/home/onyxia/work/TMDb-Box-Office-Prediction/Codes/ENV_mise_en_prod/lib/python3.11/site-packages/xgboost/core.py:160: UserWarning: [15:59:44] WARNING: /workspace/src/learner.cc:742: \n",
      "Parameters: { \"silent\" } are not used.\n",
      "\n",
      "  warnings.warn(smsg, UserWarning)\n",
      "/home/onyxia/work/TMDb-Box-Office-Prediction/Codes/ENV_mise_en_prod/lib/python3.11/site-packages/xgboost/core.py:160: UserWarning: [15:59:44] WARNING: /workspace/src/learner.cc:742: \n",
      "Parameters: { \"silent\" } are not used.\n",
      "\n",
      "  warnings.warn(smsg, UserWarning)\n",
      "/home/onyxia/work/TMDb-Box-Office-Prediction/Codes/ENV_mise_en_prod/lib/python3.11/site-packages/xgboost/core.py:160: UserWarning: [15:59:44] WARNING: /workspace/src/learner.cc:742: \n",
      "Parameters: { \"silent\" } are not used.\n",
      "\n",
      "  warnings.warn(smsg, UserWarning)\n",
      "/home/onyxia/work/TMDb-Box-Office-Prediction/Codes/ENV_mise_en_prod/lib/python3.11/site-packages/xgboost/core.py:160: UserWarning: [15:59:44] WARNING: /workspace/src/learner.cc:742: \n",
      "Parameters: { \"silent\" } are not used.\n",
      "\n",
      "  warnings.warn(smsg, UserWarning)\n",
      "/home/onyxia/work/TMDb-Box-Office-Prediction/Codes/ENV_mise_en_prod/lib/python3.11/site-packages/xgboost/core.py:160: UserWarning: [15:59:44] WARNING: /workspace/src/learner.cc:742: \n",
      "Parameters: { \"silent\" } are not used.\n",
      "\n",
      "  warnings.warn(smsg, UserWarning)\n",
      "/home/onyxia/work/TMDb-Box-Office-Prediction/Codes/ENV_mise_en_prod/lib/python3.11/site-packages/xgboost/core.py:160: UserWarning: [15:59:44] WARNING: /workspace/src/learner.cc:742: \n",
      "Parameters: { \"silent\" } are not used.\n",
      "\n",
      "  warnings.warn(smsg, UserWarning)\n",
      "/home/onyxia/work/TMDb-Box-Office-Prediction/Codes/ENV_mise_en_prod/lib/python3.11/site-packages/xgboost/core.py:160: UserWarning: [15:59:44] WARNING: /workspace/src/learner.cc:742: \n",
      "Parameters: { \"silent\" } are not used.\n",
      "\n",
      "  warnings.warn(smsg, UserWarning)\n",
      "/home/onyxia/work/TMDb-Box-Office-Prediction/Codes/ENV_mise_en_prod/lib/python3.11/site-packages/xgboost/core.py:160: UserWarning: [15:59:44] WARNING: /workspace/src/learner.cc:742: \n",
      "Parameters: { \"silent\" } are not used.\n",
      "\n",
      "  warnings.warn(smsg, UserWarning)\n",
      "/home/onyxia/work/TMDb-Box-Office-Prediction/Codes/ENV_mise_en_prod/lib/python3.11/site-packages/xgboost/core.py:160: UserWarning: [15:59:44] WARNING: /workspace/src/learner.cc:742: \n",
      "Parameters: { \"silent\" } are not used.\n",
      "\n",
      "  warnings.warn(smsg, UserWarning)\n",
      "/home/onyxia/work/TMDb-Box-Office-Prediction/Codes/ENV_mise_en_prod/lib/python3.11/site-packages/xgboost/core.py:160: UserWarning: [15:59:44] WARNING: /workspace/src/learner.cc:742: \n",
      "Parameters: { \"silent\" } are not used.\n",
      "\n",
      "  warnings.warn(smsg, UserWarning)\n",
      "/home/onyxia/work/TMDb-Box-Office-Prediction/Codes/ENV_mise_en_prod/lib/python3.11/site-packages/xgboost/core.py:160: UserWarning: [15:59:44] WARNING: /workspace/src/learner.cc:742: \n",
      "Parameters: { \"silent\" } are not used.\n",
      "\n",
      "  warnings.warn(smsg, UserWarning)\n",
      "/home/onyxia/work/TMDb-Box-Office-Prediction/Codes/ENV_mise_en_prod/lib/python3.11/site-packages/xgboost/core.py:160: UserWarning: [15:59:44] WARNING: /workspace/src/learner.cc:742: \n",
      "Parameters: { \"silent\" } are not used.\n",
      "\n",
      "  warnings.warn(smsg, UserWarning)\n",
      "/home/onyxia/work/TMDb-Box-Office-Prediction/Codes/ENV_mise_en_prod/lib/python3.11/site-packages/xgboost/core.py:160: UserWarning: [15:59:44] WARNING: /workspace/src/learner.cc:742: \n",
      "Parameters: { \"silent\" } are not used.\n",
      "\n",
      "  warnings.warn(smsg, UserWarning)\n",
      "/home/onyxia/work/TMDb-Box-Office-Prediction/Codes/ENV_mise_en_prod/lib/python3.11/site-packages/xgboost/core.py:160: UserWarning: [15:59:44] WARNING: /workspace/src/learner.cc:742: \n",
      "Parameters: { \"silent\" } are not used.\n",
      "\n",
      "  warnings.warn(smsg, UserWarning)\n",
      "/home/onyxia/work/TMDb-Box-Office-Prediction/Codes/ENV_mise_en_prod/lib/python3.11/site-packages/xgboost/core.py:160: UserWarning: [15:59:44] WARNING: /workspace/src/learner.cc:742: \n",
      "Parameters: { \"silent\" } are not used.\n",
      "\n",
      "  warnings.warn(smsg, UserWarning)\n",
      "/home/onyxia/work/TMDb-Box-Office-Prediction/Codes/ENV_mise_en_prod/lib/python3.11/site-packages/xgboost/core.py:160: UserWarning: [15:59:44] WARNING: /workspace/src/learner.cc:742: \n",
      "Parameters: { \"silent\" } are not used.\n",
      "\n",
      "  warnings.warn(smsg, UserWarning)\n",
      "/home/onyxia/work/TMDb-Box-Office-Prediction/Codes/ENV_mise_en_prod/lib/python3.11/site-packages/xgboost/core.py:160: UserWarning: [15:59:44] WARNING: /workspace/src/learner.cc:742: \n",
      "Parameters: { \"silent\" } are not used.\n",
      "\n",
      "  warnings.warn(smsg, UserWarning)\n",
      "/home/onyxia/work/TMDb-Box-Office-Prediction/Codes/ENV_mise_en_prod/lib/python3.11/site-packages/xgboost/core.py:160: UserWarning: [15:59:44] WARNING: /workspace/src/learner.cc:742: \n",
      "Parameters: { \"silent\" } are not used.\n",
      "\n",
      "  warnings.warn(smsg, UserWarning)\n",
      "/home/onyxia/work/TMDb-Box-Office-Prediction/Codes/ENV_mise_en_prod/lib/python3.11/site-packages/xgboost/core.py:160: UserWarning: [15:59:45] WARNING: /workspace/src/learner.cc:742: \n",
      "Parameters: { \"silent\" } are not used.\n",
      "\n",
      "  warnings.warn(smsg, UserWarning)\n",
      "/home/onyxia/work/TMDb-Box-Office-Prediction/Codes/ENV_mise_en_prod/lib/python3.11/site-packages/xgboost/core.py:160: UserWarning: [15:59:45] WARNING: /workspace/src/learner.cc:742: \n",
      "Parameters: { \"silent\" } are not used.\n",
      "\n",
      "  warnings.warn(smsg, UserWarning)\n",
      "/home/onyxia/work/TMDb-Box-Office-Prediction/Codes/ENV_mise_en_prod/lib/python3.11/site-packages/xgboost/core.py:160: UserWarning: [15:59:45] WARNING: /workspace/src/learner.cc:742: \n",
      "Parameters: { \"silent\" } are not used.\n",
      "\n",
      "  warnings.warn(smsg, UserWarning)\n",
      "/home/onyxia/work/TMDb-Box-Office-Prediction/Codes/ENV_mise_en_prod/lib/python3.11/site-packages/xgboost/core.py:160: UserWarning: [15:59:45] WARNING: /workspace/src/learner.cc:742: \n",
      "Parameters: { \"silent\" } are not used.\n",
      "\n",
      "  warnings.warn(smsg, UserWarning)\n",
      "/home/onyxia/work/TMDb-Box-Office-Prediction/Codes/ENV_mise_en_prod/lib/python3.11/site-packages/xgboost/core.py:160: UserWarning: [15:59:45] WARNING: /workspace/src/learner.cc:742: \n",
      "Parameters: { \"silent\" } are not used.\n",
      "\n",
      "  warnings.warn(smsg, UserWarning)\n",
      "/home/onyxia/work/TMDb-Box-Office-Prediction/Codes/ENV_mise_en_prod/lib/python3.11/site-packages/xgboost/core.py:160: UserWarning: [15:59:45] WARNING: /workspace/src/learner.cc:742: \n",
      "Parameters: { \"silent\" } are not used.\n",
      "\n",
      "  warnings.warn(smsg, UserWarning)\n",
      "/home/onyxia/work/TMDb-Box-Office-Prediction/Codes/ENV_mise_en_prod/lib/python3.11/site-packages/xgboost/core.py:160: UserWarning: [15:59:45] WARNING: /workspace/src/learner.cc:742: \n",
      "Parameters: { \"silent\" } are not used.\n",
      "\n",
      "  warnings.warn(smsg, UserWarning)\n",
      "/home/onyxia/work/TMDb-Box-Office-Prediction/Codes/ENV_mise_en_prod/lib/python3.11/site-packages/xgboost/core.py:160: UserWarning: [15:59:45] WARNING: /workspace/src/learner.cc:742: \n",
      "Parameters: { \"silent\" } are not used.\n",
      "\n",
      "  warnings.warn(smsg, UserWarning)\n",
      "/home/onyxia/work/TMDb-Box-Office-Prediction/Codes/ENV_mise_en_prod/lib/python3.11/site-packages/xgboost/core.py:160: UserWarning: [15:59:45] WARNING: /workspace/src/learner.cc:742: \n",
      "Parameters: { \"silent\" } are not used.\n",
      "\n",
      "  warnings.warn(smsg, UserWarning)\n",
      "/home/onyxia/work/TMDb-Box-Office-Prediction/Codes/ENV_mise_en_prod/lib/python3.11/site-packages/xgboost/core.py:160: UserWarning: [15:59:45] WARNING: /workspace/src/learner.cc:742: \n",
      "Parameters: { \"silent\" } are not used.\n",
      "\n",
      "  warnings.warn(smsg, UserWarning)\n",
      "/home/onyxia/work/TMDb-Box-Office-Prediction/Codes/ENV_mise_en_prod/lib/python3.11/site-packages/xgboost/core.py:160: UserWarning: [15:59:45] WARNING: /workspace/src/learner.cc:742: \n",
      "Parameters: { \"silent\" } are not used.\n",
      "\n",
      "  warnings.warn(smsg, UserWarning)\n",
      "/home/onyxia/work/TMDb-Box-Office-Prediction/Codes/ENV_mise_en_prod/lib/python3.11/site-packages/xgboost/core.py:160: UserWarning: [15:59:45] WARNING: /workspace/src/learner.cc:742: \n",
      "Parameters: { \"silent\" } are not used.\n",
      "\n",
      "  warnings.warn(smsg, UserWarning)\n",
      "/home/onyxia/work/TMDb-Box-Office-Prediction/Codes/ENV_mise_en_prod/lib/python3.11/site-packages/xgboost/core.py:160: UserWarning: [15:59:45] WARNING: /workspace/src/learner.cc:742: \n",
      "Parameters: { \"silent\" } are not used.\n",
      "\n",
      "  warnings.warn(smsg, UserWarning)\n",
      "/home/onyxia/work/TMDb-Box-Office-Prediction/Codes/ENV_mise_en_prod/lib/python3.11/site-packages/xgboost/core.py:160: UserWarning: [15:59:45] WARNING: /workspace/src/learner.cc:742: \n",
      "Parameters: { \"silent\" } are not used.\n",
      "\n",
      "  warnings.warn(smsg, UserWarning)\n",
      "/home/onyxia/work/TMDb-Box-Office-Prediction/Codes/ENV_mise_en_prod/lib/python3.11/site-packages/xgboost/core.py:160: UserWarning: [15:59:45] WARNING: /workspace/src/learner.cc:742: \n",
      "Parameters: { \"silent\" } are not used.\n",
      "\n",
      "  warnings.warn(smsg, UserWarning)\n",
      "/home/onyxia/work/TMDb-Box-Office-Prediction/Codes/ENV_mise_en_prod/lib/python3.11/site-packages/xgboost/core.py:160: UserWarning: [15:59:45] WARNING: /workspace/src/learner.cc:742: \n",
      "Parameters: { \"silent\" } are not used.\n",
      "\n",
      "  warnings.warn(smsg, UserWarning)\n",
      "/home/onyxia/work/TMDb-Box-Office-Prediction/Codes/ENV_mise_en_prod/lib/python3.11/site-packages/xgboost/core.py:160: UserWarning: [15:59:45] WARNING: /workspace/src/learner.cc:742: \n",
      "Parameters: { \"silent\" } are not used.\n",
      "\n",
      "  warnings.warn(smsg, UserWarning)\n",
      "/home/onyxia/work/TMDb-Box-Office-Prediction/Codes/ENV_mise_en_prod/lib/python3.11/site-packages/xgboost/core.py:160: UserWarning: [15:59:45] WARNING: /workspace/src/learner.cc:742: \n",
      "Parameters: { \"silent\" } are not used.\n",
      "\n",
      "  warnings.warn(smsg, UserWarning)\n",
      "/home/onyxia/work/TMDb-Box-Office-Prediction/Codes/ENV_mise_en_prod/lib/python3.11/site-packages/xgboost/core.py:160: UserWarning: [15:59:45] WARNING: /workspace/src/learner.cc:742: \n",
      "Parameters: { \"silent\" } are not used.\n",
      "\n",
      "  warnings.warn(smsg, UserWarning)\n",
      "/home/onyxia/work/TMDb-Box-Office-Prediction/Codes/ENV_mise_en_prod/lib/python3.11/site-packages/xgboost/core.py:160: UserWarning: [15:59:45] WARNING: /workspace/src/learner.cc:742: \n",
      "Parameters: { \"silent\" } are not used.\n",
      "\n",
      "  warnings.warn(smsg, UserWarning)\n",
      "/home/onyxia/work/TMDb-Box-Office-Prediction/Codes/ENV_mise_en_prod/lib/python3.11/site-packages/xgboost/core.py:160: UserWarning: [15:59:45] WARNING: /workspace/src/learner.cc:742: \n",
      "Parameters: { \"silent\" } are not used.\n",
      "\n",
      "  warnings.warn(smsg, UserWarning)\n",
      "/home/onyxia/work/TMDb-Box-Office-Prediction/Codes/ENV_mise_en_prod/lib/python3.11/site-packages/xgboost/core.py:160: UserWarning: [15:59:45] WARNING: /workspace/src/learner.cc:742: \n",
      "Parameters: { \"silent\" } are not used.\n",
      "\n",
      "  warnings.warn(smsg, UserWarning)\n",
      "/home/onyxia/work/TMDb-Box-Office-Prediction/Codes/ENV_mise_en_prod/lib/python3.11/site-packages/xgboost/core.py:160: UserWarning: [15:59:46] WARNING: /workspace/src/learner.cc:742: \n",
      "Parameters: { \"silent\" } are not used.\n",
      "\n",
      "  warnings.warn(smsg, UserWarning)\n",
      "/home/onyxia/work/TMDb-Box-Office-Prediction/Codes/ENV_mise_en_prod/lib/python3.11/site-packages/xgboost/core.py:160: UserWarning: [15:59:46] WARNING: /workspace/src/learner.cc:742: \n",
      "Parameters: { \"silent\" } are not used.\n",
      "\n",
      "  warnings.warn(smsg, UserWarning)\n",
      "/home/onyxia/work/TMDb-Box-Office-Prediction/Codes/ENV_mise_en_prod/lib/python3.11/site-packages/xgboost/core.py:160: UserWarning: [15:59:46] WARNING: /workspace/src/learner.cc:742: \n",
      "Parameters: { \"silent\" } are not used.\n",
      "\n",
      "  warnings.warn(smsg, UserWarning)\n",
      "/home/onyxia/work/TMDb-Box-Office-Prediction/Codes/ENV_mise_en_prod/lib/python3.11/site-packages/xgboost/core.py:160: UserWarning: [15:59:46] WARNING: /workspace/src/learner.cc:742: \n",
      "Parameters: { \"silent\" } are not used.\n",
      "\n",
      "  warnings.warn(smsg, UserWarning)\n",
      "/home/onyxia/work/TMDb-Box-Office-Prediction/Codes/ENV_mise_en_prod/lib/python3.11/site-packages/xgboost/core.py:160: UserWarning: [15:59:46] WARNING: /workspace/src/learner.cc:742: \n",
      "Parameters: { \"silent\" } are not used.\n",
      "\n",
      "  warnings.warn(smsg, UserWarning)\n",
      "/home/onyxia/work/TMDb-Box-Office-Prediction/Codes/ENV_mise_en_prod/lib/python3.11/site-packages/xgboost/core.py:160: UserWarning: [15:59:46] WARNING: /workspace/src/learner.cc:742: \n",
      "Parameters: { \"silent\" } are not used.\n",
      "\n",
      "  warnings.warn(smsg, UserWarning)\n",
      "/home/onyxia/work/TMDb-Box-Office-Prediction/Codes/ENV_mise_en_prod/lib/python3.11/site-packages/xgboost/core.py:160: UserWarning: [15:59:46] WARNING: /workspace/src/learner.cc:742: \n",
      "Parameters: { \"silent\" } are not used.\n",
      "\n",
      "  warnings.warn(smsg, UserWarning)\n",
      "/home/onyxia/work/TMDb-Box-Office-Prediction/Codes/ENV_mise_en_prod/lib/python3.11/site-packages/xgboost/core.py:160: UserWarning: [15:59:46] WARNING: /workspace/src/learner.cc:742: \n",
      "Parameters: { \"silent\" } are not used.\n",
      "\n",
      "  warnings.warn(smsg, UserWarning)\n",
      "/home/onyxia/work/TMDb-Box-Office-Prediction/Codes/ENV_mise_en_prod/lib/python3.11/site-packages/xgboost/core.py:160: UserWarning: [15:59:46] WARNING: /workspace/src/learner.cc:742: \n",
      "Parameters: { \"silent\" } are not used.\n",
      "\n",
      "  warnings.warn(smsg, UserWarning)\n",
      "/home/onyxia/work/TMDb-Box-Office-Prediction/Codes/ENV_mise_en_prod/lib/python3.11/site-packages/xgboost/core.py:160: UserWarning: [15:59:46] WARNING: /workspace/src/learner.cc:742: \n",
      "Parameters: { \"silent\" } are not used.\n",
      "\n",
      "  warnings.warn(smsg, UserWarning)\n",
      "/home/onyxia/work/TMDb-Box-Office-Prediction/Codes/ENV_mise_en_prod/lib/python3.11/site-packages/xgboost/core.py:160: UserWarning: [15:59:46] WARNING: /workspace/src/learner.cc:742: \n",
      "Parameters: { \"silent\" } are not used.\n",
      "\n",
      "  warnings.warn(smsg, UserWarning)\n",
      "/home/onyxia/work/TMDb-Box-Office-Prediction/Codes/ENV_mise_en_prod/lib/python3.11/site-packages/xgboost/core.py:160: UserWarning: [15:59:46] WARNING: /workspace/src/learner.cc:742: \n",
      "Parameters: { \"silent\" } are not used.\n",
      "\n",
      "  warnings.warn(smsg, UserWarning)\n",
      "/home/onyxia/work/TMDb-Box-Office-Prediction/Codes/ENV_mise_en_prod/lib/python3.11/site-packages/xgboost/core.py:160: UserWarning: [15:59:46] WARNING: /workspace/src/learner.cc:742: \n",
      "Parameters: { \"silent\" } are not used.\n",
      "\n",
      "  warnings.warn(smsg, UserWarning)\n",
      "/home/onyxia/work/TMDb-Box-Office-Prediction/Codes/ENV_mise_en_prod/lib/python3.11/site-packages/xgboost/core.py:160: UserWarning: [15:59:46] WARNING: /workspace/src/learner.cc:742: \n",
      "Parameters: { \"silent\" } are not used.\n",
      "\n",
      "  warnings.warn(smsg, UserWarning)\n",
      "/home/onyxia/work/TMDb-Box-Office-Prediction/Codes/ENV_mise_en_prod/lib/python3.11/site-packages/xgboost/core.py:160: UserWarning: [15:59:46] WARNING: /workspace/src/learner.cc:742: \n",
      "Parameters: { \"silent\" } are not used.\n",
      "\n",
      "  warnings.warn(smsg, UserWarning)\n",
      "/home/onyxia/work/TMDb-Box-Office-Prediction/Codes/ENV_mise_en_prod/lib/python3.11/site-packages/xgboost/core.py:160: UserWarning: [15:59:46] WARNING: /workspace/src/learner.cc:742: \n",
      "Parameters: { \"silent\" } are not used.\n",
      "\n",
      "  warnings.warn(smsg, UserWarning)\n",
      "/home/onyxia/work/TMDb-Box-Office-Prediction/Codes/ENV_mise_en_prod/lib/python3.11/site-packages/xgboost/core.py:160: UserWarning: [15:59:46] WARNING: /workspace/src/learner.cc:742: \n",
      "Parameters: { \"silent\" } are not used.\n",
      "\n",
      "  warnings.warn(smsg, UserWarning)\n",
      "/home/onyxia/work/TMDb-Box-Office-Prediction/Codes/ENV_mise_en_prod/lib/python3.11/site-packages/xgboost/core.py:160: UserWarning: [15:59:46] WARNING: /workspace/src/learner.cc:742: \n",
      "Parameters: { \"silent\" } are not used.\n",
      "\n",
      "  warnings.warn(smsg, UserWarning)\n",
      "/home/onyxia/work/TMDb-Box-Office-Prediction/Codes/ENV_mise_en_prod/lib/python3.11/site-packages/xgboost/core.py:160: UserWarning: [15:59:46] WARNING: /workspace/src/learner.cc:742: \n",
      "Parameters: { \"silent\" } are not used.\n",
      "\n",
      "  warnings.warn(smsg, UserWarning)\n",
      "/home/onyxia/work/TMDb-Box-Office-Prediction/Codes/ENV_mise_en_prod/lib/python3.11/site-packages/xgboost/core.py:160: UserWarning: [15:59:46] WARNING: /workspace/src/learner.cc:742: \n",
      "Parameters: { \"silent\" } are not used.\n",
      "\n",
      "  warnings.warn(smsg, UserWarning)\n",
      "/home/onyxia/work/TMDb-Box-Office-Prediction/Codes/ENV_mise_en_prod/lib/python3.11/site-packages/xgboost/core.py:160: UserWarning: [15:59:46] WARNING: /workspace/src/learner.cc:742: \n",
      "Parameters: { \"silent\" } are not used.\n",
      "\n",
      "  warnings.warn(smsg, UserWarning)\n",
      "/home/onyxia/work/TMDb-Box-Office-Prediction/Codes/ENV_mise_en_prod/lib/python3.11/site-packages/xgboost/core.py:160: UserWarning: [15:59:46] WARNING: /workspace/src/learner.cc:742: \n",
      "Parameters: { \"silent\" } are not used.\n",
      "\n",
      "  warnings.warn(smsg, UserWarning)\n",
      "/home/onyxia/work/TMDb-Box-Office-Prediction/Codes/ENV_mise_en_prod/lib/python3.11/site-packages/xgboost/core.py:160: UserWarning: [15:59:46] WARNING: /workspace/src/learner.cc:742: \n",
      "Parameters: { \"silent\" } are not used.\n",
      "\n",
      "  warnings.warn(smsg, UserWarning)\n",
      "/home/onyxia/work/TMDb-Box-Office-Prediction/Codes/ENV_mise_en_prod/lib/python3.11/site-packages/xgboost/core.py:160: UserWarning: [15:59:46] WARNING: /workspace/src/learner.cc:742: \n",
      "Parameters: { \"silent\" } are not used.\n",
      "\n",
      "  warnings.warn(smsg, UserWarning)\n",
      "/home/onyxia/work/TMDb-Box-Office-Prediction/Codes/ENV_mise_en_prod/lib/python3.11/site-packages/xgboost/core.py:160: UserWarning: [15:59:46] WARNING: /workspace/src/learner.cc:742: \n",
      "Parameters: { \"silent\" } are not used.\n",
      "\n",
      "  warnings.warn(smsg, UserWarning)\n",
      "/home/onyxia/work/TMDb-Box-Office-Prediction/Codes/ENV_mise_en_prod/lib/python3.11/site-packages/xgboost/core.py:160: UserWarning: [15:59:46] WARNING: /workspace/src/learner.cc:742: \n",
      "Parameters: { \"silent\" } are not used.\n",
      "\n",
      "  warnings.warn(smsg, UserWarning)\n",
      "/home/onyxia/work/TMDb-Box-Office-Prediction/Codes/ENV_mise_en_prod/lib/python3.11/site-packages/xgboost/core.py:160: UserWarning: [15:59:46] WARNING: /workspace/src/learner.cc:742: \n",
      "Parameters: { \"silent\" } are not used.\n",
      "\n",
      "  warnings.warn(smsg, UserWarning)\n",
      "/home/onyxia/work/TMDb-Box-Office-Prediction/Codes/ENV_mise_en_prod/lib/python3.11/site-packages/xgboost/core.py:160: UserWarning: [15:59:46] WARNING: /workspace/src/learner.cc:742: \n",
      "Parameters: { \"silent\" } are not used.\n",
      "\n",
      "  warnings.warn(smsg, UserWarning)\n",
      "/home/onyxia/work/TMDb-Box-Office-Prediction/Codes/ENV_mise_en_prod/lib/python3.11/site-packages/xgboost/core.py:160: UserWarning: [15:59:46] WARNING: /workspace/src/learner.cc:742: \n",
      "Parameters: { \"silent\" } are not used.\n",
      "\n",
      "  warnings.warn(smsg, UserWarning)\n",
      "/home/onyxia/work/TMDb-Box-Office-Prediction/Codes/ENV_mise_en_prod/lib/python3.11/site-packages/xgboost/core.py:160: UserWarning: [15:59:46] WARNING: /workspace/src/learner.cc:742: \n",
      "Parameters: { \"silent\" } are not used.\n",
      "\n",
      "  warnings.warn(smsg, UserWarning)\n",
      "/home/onyxia/work/TMDb-Box-Office-Prediction/Codes/ENV_mise_en_prod/lib/python3.11/site-packages/xgboost/core.py:160: UserWarning: [15:59:46] WARNING: /workspace/src/learner.cc:742: \n",
      "Parameters: { \"silent\" } are not used.\n",
      "\n",
      "  warnings.warn(smsg, UserWarning)\n",
      "/home/onyxia/work/TMDb-Box-Office-Prediction/Codes/ENV_mise_en_prod/lib/python3.11/site-packages/xgboost/core.py:160: UserWarning: [15:59:46] WARNING: /workspace/src/learner.cc:742: \n",
      "Parameters: { \"silent\" } are not used.\n",
      "\n",
      "  warnings.warn(smsg, UserWarning)\n",
      "/home/onyxia/work/TMDb-Box-Office-Prediction/Codes/ENV_mise_en_prod/lib/python3.11/site-packages/xgboost/core.py:160: UserWarning: [15:59:46] WARNING: /workspace/src/learner.cc:742: \n",
      "Parameters: { \"silent\" } are not used.\n",
      "\n",
      "  warnings.warn(smsg, UserWarning)\n",
      "/home/onyxia/work/TMDb-Box-Office-Prediction/Codes/ENV_mise_en_prod/lib/python3.11/site-packages/xgboost/core.py:160: UserWarning: [15:59:46] WARNING: /workspace/src/learner.cc:742: \n",
      "Parameters: { \"silent\" } are not used.\n",
      "\n",
      "  warnings.warn(smsg, UserWarning)\n",
      "/home/onyxia/work/TMDb-Box-Office-Prediction/Codes/ENV_mise_en_prod/lib/python3.11/site-packages/xgboost/core.py:160: UserWarning: [15:59:46] WARNING: /workspace/src/learner.cc:742: \n",
      "Parameters: { \"silent\" } are not used.\n",
      "\n",
      "  warnings.warn(smsg, UserWarning)\n",
      "/home/onyxia/work/TMDb-Box-Office-Prediction/Codes/ENV_mise_en_prod/lib/python3.11/site-packages/xgboost/core.py:160: UserWarning: [15:59:47] WARNING: /workspace/src/learner.cc:742: \n",
      "Parameters: { \"silent\" } are not used.\n",
      "\n",
      "  warnings.warn(smsg, UserWarning)\n",
      "/home/onyxia/work/TMDb-Box-Office-Prediction/Codes/ENV_mise_en_prod/lib/python3.11/site-packages/xgboost/core.py:160: UserWarning: [15:59:47] WARNING: /workspace/src/learner.cc:742: \n",
      "Parameters: { \"silent\" } are not used.\n",
      "\n",
      "  warnings.warn(smsg, UserWarning)\n",
      "/home/onyxia/work/TMDb-Box-Office-Prediction/Codes/ENV_mise_en_prod/lib/python3.11/site-packages/xgboost/core.py:160: UserWarning: [15:59:47] WARNING: /workspace/src/learner.cc:742: \n",
      "Parameters: { \"silent\" } are not used.\n",
      "\n",
      "  warnings.warn(smsg, UserWarning)\n",
      "/home/onyxia/work/TMDb-Box-Office-Prediction/Codes/ENV_mise_en_prod/lib/python3.11/site-packages/xgboost/core.py:160: UserWarning: [15:59:47] WARNING: /workspace/src/learner.cc:742: \n",
      "Parameters: { \"silent\" } are not used.\n",
      "\n",
      "  warnings.warn(smsg, UserWarning)\n",
      "/home/onyxia/work/TMDb-Box-Office-Prediction/Codes/ENV_mise_en_prod/lib/python3.11/site-packages/xgboost/core.py:160: UserWarning: [15:59:47] WARNING: /workspace/src/learner.cc:742: \n",
      "Parameters: { \"silent\" } are not used.\n",
      "\n",
      "  warnings.warn(smsg, UserWarning)\n",
      "/home/onyxia/work/TMDb-Box-Office-Prediction/Codes/ENV_mise_en_prod/lib/python3.11/site-packages/xgboost/core.py:160: UserWarning: [15:59:47] WARNING: /workspace/src/learner.cc:742: \n",
      "Parameters: { \"silent\" } are not used.\n",
      "\n",
      "  warnings.warn(smsg, UserWarning)\n",
      "/home/onyxia/work/TMDb-Box-Office-Prediction/Codes/ENV_mise_en_prod/lib/python3.11/site-packages/xgboost/core.py:160: UserWarning: [15:59:47] WARNING: /workspace/src/learner.cc:742: \n",
      "Parameters: { \"silent\" } are not used.\n",
      "\n",
      "  warnings.warn(smsg, UserWarning)\n",
      "/home/onyxia/work/TMDb-Box-Office-Prediction/Codes/ENV_mise_en_prod/lib/python3.11/site-packages/xgboost/core.py:160: UserWarning: [15:59:47] WARNING: /workspace/src/learner.cc:742: \n",
      "Parameters: { \"silent\" } are not used.\n",
      "\n",
      "  warnings.warn(smsg, UserWarning)\n",
      "/home/onyxia/work/TMDb-Box-Office-Prediction/Codes/ENV_mise_en_prod/lib/python3.11/site-packages/xgboost/core.py:160: UserWarning: [15:59:47] WARNING: /workspace/src/learner.cc:742: \n",
      "Parameters: { \"silent\" } are not used.\n",
      "\n",
      "  warnings.warn(smsg, UserWarning)\n",
      "/home/onyxia/work/TMDb-Box-Office-Prediction/Codes/ENV_mise_en_prod/lib/python3.11/site-packages/xgboost/core.py:160: UserWarning: [15:59:47] WARNING: /workspace/src/learner.cc:742: \n",
      "Parameters: { \"silent\" } are not used.\n",
      "\n",
      "  warnings.warn(smsg, UserWarning)\n",
      "/home/onyxia/work/TMDb-Box-Office-Prediction/Codes/ENV_mise_en_prod/lib/python3.11/site-packages/xgboost/core.py:160: UserWarning: [15:59:47] WARNING: /workspace/src/learner.cc:742: \n",
      "Parameters: { \"silent\" } are not used.\n",
      "\n",
      "  warnings.warn(smsg, UserWarning)\n",
      "/home/onyxia/work/TMDb-Box-Office-Prediction/Codes/ENV_mise_en_prod/lib/python3.11/site-packages/xgboost/core.py:160: UserWarning: [15:59:47] WARNING: /workspace/src/learner.cc:742: \n",
      "Parameters: { \"silent\" } are not used.\n",
      "\n",
      "  warnings.warn(smsg, UserWarning)\n",
      "/home/onyxia/work/TMDb-Box-Office-Prediction/Codes/ENV_mise_en_prod/lib/python3.11/site-packages/xgboost/core.py:160: UserWarning: [15:59:47] WARNING: /workspace/src/learner.cc:742: \n",
      "Parameters: { \"silent\" } are not used.\n",
      "\n",
      "  warnings.warn(smsg, UserWarning)\n",
      "/home/onyxia/work/TMDb-Box-Office-Prediction/Codes/ENV_mise_en_prod/lib/python3.11/site-packages/xgboost/core.py:160: UserWarning: [15:59:47] WARNING: /workspace/src/learner.cc:742: \n",
      "Parameters: { \"silent\" } are not used.\n",
      "\n",
      "  warnings.warn(smsg, UserWarning)\n",
      "/home/onyxia/work/TMDb-Box-Office-Prediction/Codes/ENV_mise_en_prod/lib/python3.11/site-packages/xgboost/core.py:160: UserWarning: [15:59:47] WARNING: /workspace/src/learner.cc:742: \n",
      "Parameters: { \"silent\" } are not used.\n",
      "\n",
      "  warnings.warn(smsg, UserWarning)\n",
      "/home/onyxia/work/TMDb-Box-Office-Prediction/Codes/ENV_mise_en_prod/lib/python3.11/site-packages/xgboost/core.py:160: UserWarning: [15:59:47] WARNING: /workspace/src/learner.cc:742: \n",
      "Parameters: { \"silent\" } are not used.\n",
      "\n",
      "  warnings.warn(smsg, UserWarning)\n",
      "/home/onyxia/work/TMDb-Box-Office-Prediction/Codes/ENV_mise_en_prod/lib/python3.11/site-packages/xgboost/core.py:160: UserWarning: [15:59:47] WARNING: /workspace/src/learner.cc:742: \n",
      "Parameters: { \"silent\" } are not used.\n",
      "\n",
      "  warnings.warn(smsg, UserWarning)\n",
      "/home/onyxia/work/TMDb-Box-Office-Prediction/Codes/ENV_mise_en_prod/lib/python3.11/site-packages/xgboost/core.py:160: UserWarning: [15:59:47] WARNING: /workspace/src/learner.cc:742: \n",
      "Parameters: { \"silent\" } are not used.\n",
      "\n",
      "  warnings.warn(smsg, UserWarning)\n",
      "/home/onyxia/work/TMDb-Box-Office-Prediction/Codes/ENV_mise_en_prod/lib/python3.11/site-packages/xgboost/core.py:160: UserWarning: [15:59:47] WARNING: /workspace/src/learner.cc:742: \n",
      "Parameters: { \"silent\" } are not used.\n",
      "\n",
      "  warnings.warn(smsg, UserWarning)\n",
      "/home/onyxia/work/TMDb-Box-Office-Prediction/Codes/ENV_mise_en_prod/lib/python3.11/site-packages/xgboost/core.py:160: UserWarning: [15:59:47] WARNING: /workspace/src/learner.cc:742: \n",
      "Parameters: { \"silent\" } are not used.\n",
      "\n",
      "  warnings.warn(smsg, UserWarning)\n",
      "/home/onyxia/work/TMDb-Box-Office-Prediction/Codes/ENV_mise_en_prod/lib/python3.11/site-packages/xgboost/core.py:160: UserWarning: [15:59:47] WARNING: /workspace/src/learner.cc:742: \n",
      "Parameters: { \"silent\" } are not used.\n",
      "\n",
      "  warnings.warn(smsg, UserWarning)\n",
      "/home/onyxia/work/TMDb-Box-Office-Prediction/Codes/ENV_mise_en_prod/lib/python3.11/site-packages/xgboost/core.py:160: UserWarning: [15:59:47] WARNING: /workspace/src/learner.cc:742: \n",
      "Parameters: { \"silent\" } are not used.\n",
      "\n",
      "  warnings.warn(smsg, UserWarning)\n",
      "/home/onyxia/work/TMDb-Box-Office-Prediction/Codes/ENV_mise_en_prod/lib/python3.11/site-packages/xgboost/core.py:160: UserWarning: [15:59:48] WARNING: /workspace/src/learner.cc:742: \n",
      "Parameters: { \"silent\" } are not used.\n",
      "\n",
      "  warnings.warn(smsg, UserWarning)\n",
      "/home/onyxia/work/TMDb-Box-Office-Prediction/Codes/ENV_mise_en_prod/lib/python3.11/site-packages/xgboost/core.py:160: UserWarning: [15:59:48] WARNING: /workspace/src/learner.cc:742: \n",
      "Parameters: { \"silent\" } are not used.\n",
      "\n",
      "  warnings.warn(smsg, UserWarning)\n",
      "/home/onyxia/work/TMDb-Box-Office-Prediction/Codes/ENV_mise_en_prod/lib/python3.11/site-packages/xgboost/core.py:160: UserWarning: [15:59:48] WARNING: /workspace/src/learner.cc:742: \n",
      "Parameters: { \"silent\" } are not used.\n",
      "\n",
      "  warnings.warn(smsg, UserWarning)\n",
      "/home/onyxia/work/TMDb-Box-Office-Prediction/Codes/ENV_mise_en_prod/lib/python3.11/site-packages/xgboost/core.py:160: UserWarning: [15:59:48] WARNING: /workspace/src/learner.cc:742: \n",
      "Parameters: { \"silent\" } are not used.\n",
      "\n",
      "  warnings.warn(smsg, UserWarning)\n",
      "/home/onyxia/work/TMDb-Box-Office-Prediction/Codes/ENV_mise_en_prod/lib/python3.11/site-packages/xgboost/core.py:160: UserWarning: [15:59:48] WARNING: /workspace/src/learner.cc:742: \n",
      "Parameters: { \"silent\" } are not used.\n",
      "\n",
      "  warnings.warn(smsg, UserWarning)\n",
      "/home/onyxia/work/TMDb-Box-Office-Prediction/Codes/ENV_mise_en_prod/lib/python3.11/site-packages/xgboost/core.py:160: UserWarning: [15:59:48] WARNING: /workspace/src/learner.cc:742: \n",
      "Parameters: { \"silent\" } are not used.\n",
      "\n",
      "  warnings.warn(smsg, UserWarning)\n",
      "/home/onyxia/work/TMDb-Box-Office-Prediction/Codes/ENV_mise_en_prod/lib/python3.11/site-packages/xgboost/core.py:160: UserWarning: [15:59:48] WARNING: /workspace/src/learner.cc:742: \n",
      "Parameters: { \"silent\" } are not used.\n",
      "\n",
      "  warnings.warn(smsg, UserWarning)\n",
      "/home/onyxia/work/TMDb-Box-Office-Prediction/Codes/ENV_mise_en_prod/lib/python3.11/site-packages/xgboost/core.py:160: UserWarning: [15:59:48] WARNING: /workspace/src/learner.cc:742: \n",
      "Parameters: { \"silent\" } are not used.\n",
      "\n",
      "  warnings.warn(smsg, UserWarning)\n",
      "/home/onyxia/work/TMDb-Box-Office-Prediction/Codes/ENV_mise_en_prod/lib/python3.11/site-packages/xgboost/core.py:160: UserWarning: [15:59:48] WARNING: /workspace/src/learner.cc:742: \n",
      "Parameters: { \"silent\" } are not used.\n",
      "\n",
      "  warnings.warn(smsg, UserWarning)\n",
      "/home/onyxia/work/TMDb-Box-Office-Prediction/Codes/ENV_mise_en_prod/lib/python3.11/site-packages/xgboost/core.py:160: UserWarning: [15:59:48] WARNING: /workspace/src/learner.cc:742: \n",
      "Parameters: { \"silent\" } are not used.\n",
      "\n",
      "  warnings.warn(smsg, UserWarning)\n",
      "/home/onyxia/work/TMDb-Box-Office-Prediction/Codes/ENV_mise_en_prod/lib/python3.11/site-packages/xgboost/core.py:160: UserWarning: [15:59:48] WARNING: /workspace/src/learner.cc:742: \n",
      "Parameters: { \"silent\" } are not used.\n",
      "\n",
      "  warnings.warn(smsg, UserWarning)\n",
      "/home/onyxia/work/TMDb-Box-Office-Prediction/Codes/ENV_mise_en_prod/lib/python3.11/site-packages/xgboost/core.py:160: UserWarning: [15:59:48] WARNING: /workspace/src/learner.cc:742: \n",
      "Parameters: { \"silent\" } are not used.\n",
      "\n",
      "  warnings.warn(smsg, UserWarning)\n",
      "/home/onyxia/work/TMDb-Box-Office-Prediction/Codes/ENV_mise_en_prod/lib/python3.11/site-packages/xgboost/core.py:160: UserWarning: [15:59:48] WARNING: /workspace/src/learner.cc:742: \n",
      "Parameters: { \"silent\" } are not used.\n",
      "\n",
      "  warnings.warn(smsg, UserWarning)\n",
      "/home/onyxia/work/TMDb-Box-Office-Prediction/Codes/ENV_mise_en_prod/lib/python3.11/site-packages/xgboost/core.py:160: UserWarning: [15:59:48] WARNING: /workspace/src/learner.cc:742: \n",
      "Parameters: { \"silent\" } are not used.\n",
      "\n",
      "  warnings.warn(smsg, UserWarning)\n",
      "/home/onyxia/work/TMDb-Box-Office-Prediction/Codes/ENV_mise_en_prod/lib/python3.11/site-packages/xgboost/core.py:160: UserWarning: [15:59:48] WARNING: /workspace/src/learner.cc:742: \n",
      "Parameters: { \"silent\" } are not used.\n",
      "\n",
      "  warnings.warn(smsg, UserWarning)\n",
      "/home/onyxia/work/TMDb-Box-Office-Prediction/Codes/ENV_mise_en_prod/lib/python3.11/site-packages/xgboost/core.py:160: UserWarning: [15:59:48] WARNING: /workspace/src/learner.cc:742: \n",
      "Parameters: { \"silent\" } are not used.\n",
      "\n",
      "  warnings.warn(smsg, UserWarning)\n",
      "/home/onyxia/work/TMDb-Box-Office-Prediction/Codes/ENV_mise_en_prod/lib/python3.11/site-packages/xgboost/core.py:160: UserWarning: [15:59:48] WARNING: /workspace/src/learner.cc:742: \n",
      "Parameters: { \"silent\" } are not used.\n",
      "\n",
      "  warnings.warn(smsg, UserWarning)\n",
      "/home/onyxia/work/TMDb-Box-Office-Prediction/Codes/ENV_mise_en_prod/lib/python3.11/site-packages/xgboost/core.py:160: UserWarning: [15:59:48] WARNING: /workspace/src/learner.cc:742: \n",
      "Parameters: { \"silent\" } are not used.\n",
      "\n",
      "  warnings.warn(smsg, UserWarning)\n",
      "/home/onyxia/work/TMDb-Box-Office-Prediction/Codes/ENV_mise_en_prod/lib/python3.11/site-packages/xgboost/core.py:160: UserWarning: [15:59:48] WARNING: /workspace/src/learner.cc:742: \n",
      "Parameters: { \"silent\" } are not used.\n",
      "\n",
      "  warnings.warn(smsg, UserWarning)\n",
      "/home/onyxia/work/TMDb-Box-Office-Prediction/Codes/ENV_mise_en_prod/lib/python3.11/site-packages/xgboost/core.py:160: UserWarning: [15:59:48] WARNING: /workspace/src/learner.cc:742: \n",
      "Parameters: { \"silent\" } are not used.\n",
      "\n",
      "  warnings.warn(smsg, UserWarning)\n",
      "/home/onyxia/work/TMDb-Box-Office-Prediction/Codes/ENV_mise_en_prod/lib/python3.11/site-packages/xgboost/core.py:160: UserWarning: [15:59:48] WARNING: /workspace/src/learner.cc:742: \n",
      "Parameters: { \"silent\" } are not used.\n",
      "\n",
      "  warnings.warn(smsg, UserWarning)\n",
      "/home/onyxia/work/TMDb-Box-Office-Prediction/Codes/ENV_mise_en_prod/lib/python3.11/site-packages/xgboost/core.py:160: UserWarning: [15:59:48] WARNING: /workspace/src/learner.cc:742: \n",
      "Parameters: { \"silent\" } are not used.\n",
      "\n",
      "  warnings.warn(smsg, UserWarning)\n",
      "/home/onyxia/work/TMDb-Box-Office-Prediction/Codes/ENV_mise_en_prod/lib/python3.11/site-packages/xgboost/core.py:160: UserWarning: [15:59:48] WARNING: /workspace/src/learner.cc:742: \n",
      "Parameters: { \"silent\" } are not used.\n",
      "\n",
      "  warnings.warn(smsg, UserWarning)\n",
      "/home/onyxia/work/TMDb-Box-Office-Prediction/Codes/ENV_mise_en_prod/lib/python3.11/site-packages/xgboost/core.py:160: UserWarning: [15:59:48] WARNING: /workspace/src/learner.cc:742: \n",
      "Parameters: { \"silent\" } are not used.\n",
      "\n",
      "  warnings.warn(smsg, UserWarning)\n",
      "/home/onyxia/work/TMDb-Box-Office-Prediction/Codes/ENV_mise_en_prod/lib/python3.11/site-packages/xgboost/core.py:160: UserWarning: [15:59:48] WARNING: /workspace/src/learner.cc:742: \n",
      "Parameters: { \"silent\" } are not used.\n",
      "\n",
      "  warnings.warn(smsg, UserWarning)\n",
      "/home/onyxia/work/TMDb-Box-Office-Prediction/Codes/ENV_mise_en_prod/lib/python3.11/site-packages/xgboost/core.py:160: UserWarning: [15:59:48] WARNING: /workspace/src/learner.cc:742: \n",
      "Parameters: { \"silent\" } are not used.\n",
      "\n",
      "  warnings.warn(smsg, UserWarning)\n",
      "/home/onyxia/work/TMDb-Box-Office-Prediction/Codes/ENV_mise_en_prod/lib/python3.11/site-packages/xgboost/core.py:160: UserWarning: [15:59:48] WARNING: /workspace/src/learner.cc:742: \n",
      "Parameters: { \"silent\" } are not used.\n",
      "\n",
      "  warnings.warn(smsg, UserWarning)\n",
      "/home/onyxia/work/TMDb-Box-Office-Prediction/Codes/ENV_mise_en_prod/lib/python3.11/site-packages/xgboost/core.py:160: UserWarning: [15:59:48] WARNING: /workspace/src/learner.cc:742: \n",
      "Parameters: { \"silent\" } are not used.\n",
      "\n",
      "  warnings.warn(smsg, UserWarning)\n",
      "/home/onyxia/work/TMDb-Box-Office-Prediction/Codes/ENV_mise_en_prod/lib/python3.11/site-packages/xgboost/core.py:160: UserWarning: [15:59:48] WARNING: /workspace/src/learner.cc:742: \n",
      "Parameters: { \"silent\" } are not used.\n",
      "\n",
      "  warnings.warn(smsg, UserWarning)\n",
      "/home/onyxia/work/TMDb-Box-Office-Prediction/Codes/ENV_mise_en_prod/lib/python3.11/site-packages/xgboost/core.py:160: UserWarning: [15:59:49] WARNING: /workspace/src/learner.cc:742: \n",
      "Parameters: { \"silent\" } are not used.\n",
      "\n",
      "  warnings.warn(smsg, UserWarning)\n",
      "/home/onyxia/work/TMDb-Box-Office-Prediction/Codes/ENV_mise_en_prod/lib/python3.11/site-packages/xgboost/core.py:160: UserWarning: [15:59:49] WARNING: /workspace/src/learner.cc:742: \n",
      "Parameters: { \"silent\" } are not used.\n",
      "\n",
      "  warnings.warn(smsg, UserWarning)\n",
      "/home/onyxia/work/TMDb-Box-Office-Prediction/Codes/ENV_mise_en_prod/lib/python3.11/site-packages/xgboost/core.py:160: UserWarning: [15:59:49] WARNING: /workspace/src/learner.cc:742: \n",
      "Parameters: { \"silent\" } are not used.\n",
      "\n",
      "  warnings.warn(smsg, UserWarning)\n",
      "/home/onyxia/work/TMDb-Box-Office-Prediction/Codes/ENV_mise_en_prod/lib/python3.11/site-packages/xgboost/core.py:160: UserWarning: [15:59:49] WARNING: /workspace/src/learner.cc:742: \n",
      "Parameters: { \"silent\" } are not used.\n",
      "\n",
      "  warnings.warn(smsg, UserWarning)\n",
      "/home/onyxia/work/TMDb-Box-Office-Prediction/Codes/ENV_mise_en_prod/lib/python3.11/site-packages/xgboost/core.py:160: UserWarning: [15:59:49] WARNING: /workspace/src/learner.cc:742: \n",
      "Parameters: { \"silent\" } are not used.\n",
      "\n",
      "  warnings.warn(smsg, UserWarning)\n",
      "/home/onyxia/work/TMDb-Box-Office-Prediction/Codes/ENV_mise_en_prod/lib/python3.11/site-packages/xgboost/core.py:160: UserWarning: [15:59:49] WARNING: /workspace/src/learner.cc:742: \n",
      "Parameters: { \"silent\" } are not used.\n",
      "\n",
      "  warnings.warn(smsg, UserWarning)\n",
      "/home/onyxia/work/TMDb-Box-Office-Prediction/Codes/ENV_mise_en_prod/lib/python3.11/site-packages/xgboost/core.py:160: UserWarning: [15:59:49] WARNING: /workspace/src/learner.cc:742: \n",
      "Parameters: { \"silent\" } are not used.\n",
      "\n",
      "  warnings.warn(smsg, UserWarning)\n",
      "/home/onyxia/work/TMDb-Box-Office-Prediction/Codes/ENV_mise_en_prod/lib/python3.11/site-packages/xgboost/core.py:160: UserWarning: [15:59:49] WARNING: /workspace/src/learner.cc:742: \n",
      "Parameters: { \"silent\" } are not used.\n",
      "\n",
      "  warnings.warn(smsg, UserWarning)\n",
      "/home/onyxia/work/TMDb-Box-Office-Prediction/Codes/ENV_mise_en_prod/lib/python3.11/site-packages/xgboost/core.py:160: UserWarning: [15:59:49] WARNING: /workspace/src/learner.cc:742: \n",
      "Parameters: { \"silent\" } are not used.\n",
      "\n",
      "  warnings.warn(smsg, UserWarning)\n",
      "/home/onyxia/work/TMDb-Box-Office-Prediction/Codes/ENV_mise_en_prod/lib/python3.11/site-packages/xgboost/core.py:160: UserWarning: [15:59:49] WARNING: /workspace/src/learner.cc:742: \n",
      "Parameters: { \"silent\" } are not used.\n",
      "\n",
      "  warnings.warn(smsg, UserWarning)\n",
      "/home/onyxia/work/TMDb-Box-Office-Prediction/Codes/ENV_mise_en_prod/lib/python3.11/site-packages/xgboost/core.py:160: UserWarning: [15:59:49] WARNING: /workspace/src/learner.cc:742: \n",
      "Parameters: { \"silent\" } are not used.\n",
      "\n",
      "  warnings.warn(smsg, UserWarning)\n",
      "/home/onyxia/work/TMDb-Box-Office-Prediction/Codes/ENV_mise_en_prod/lib/python3.11/site-packages/xgboost/core.py:160: UserWarning: [15:59:49] WARNING: /workspace/src/learner.cc:742: \n",
      "Parameters: { \"silent\" } are not used.\n",
      "\n",
      "  warnings.warn(smsg, UserWarning)\n",
      "/home/onyxia/work/TMDb-Box-Office-Prediction/Codes/ENV_mise_en_prod/lib/python3.11/site-packages/xgboost/core.py:160: UserWarning: [15:59:49] WARNING: /workspace/src/learner.cc:742: \n",
      "Parameters: { \"silent\" } are not used.\n",
      "\n",
      "  warnings.warn(smsg, UserWarning)\n",
      "/home/onyxia/work/TMDb-Box-Office-Prediction/Codes/ENV_mise_en_prod/lib/python3.11/site-packages/xgboost/core.py:160: UserWarning: [15:59:49] WARNING: /workspace/src/learner.cc:742: \n",
      "Parameters: { \"silent\" } are not used.\n",
      "\n",
      "  warnings.warn(smsg, UserWarning)\n",
      "/home/onyxia/work/TMDb-Box-Office-Prediction/Codes/ENV_mise_en_prod/lib/python3.11/site-packages/xgboost/core.py:160: UserWarning: [15:59:49] WARNING: /workspace/src/learner.cc:742: \n",
      "Parameters: { \"silent\" } are not used.\n",
      "\n",
      "  warnings.warn(smsg, UserWarning)\n",
      "/home/onyxia/work/TMDb-Box-Office-Prediction/Codes/ENV_mise_en_prod/lib/python3.11/site-packages/xgboost/core.py:160: UserWarning: [15:59:49] WARNING: /workspace/src/learner.cc:742: \n",
      "Parameters: { \"silent\" } are not used.\n",
      "\n",
      "  warnings.warn(smsg, UserWarning)\n",
      "/home/onyxia/work/TMDb-Box-Office-Prediction/Codes/ENV_mise_en_prod/lib/python3.11/site-packages/xgboost/core.py:160: UserWarning: [15:59:49] WARNING: /workspace/src/learner.cc:742: \n",
      "Parameters: { \"silent\" } are not used.\n",
      "\n",
      "  warnings.warn(smsg, UserWarning)\n",
      "/home/onyxia/work/TMDb-Box-Office-Prediction/Codes/ENV_mise_en_prod/lib/python3.11/site-packages/xgboost/core.py:160: UserWarning: [15:59:49] WARNING: /workspace/src/learner.cc:742: \n",
      "Parameters: { \"silent\" } are not used.\n",
      "\n",
      "  warnings.warn(smsg, UserWarning)\n",
      "/home/onyxia/work/TMDb-Box-Office-Prediction/Codes/ENV_mise_en_prod/lib/python3.11/site-packages/xgboost/core.py:160: UserWarning: [15:59:49] WARNING: /workspace/src/learner.cc:742: \n",
      "Parameters: { \"silent\" } are not used.\n",
      "\n",
      "  warnings.warn(smsg, UserWarning)\n",
      "/home/onyxia/work/TMDb-Box-Office-Prediction/Codes/ENV_mise_en_prod/lib/python3.11/site-packages/xgboost/core.py:160: UserWarning: [15:59:49] WARNING: /workspace/src/learner.cc:742: \n",
      "Parameters: { \"silent\" } are not used.\n",
      "\n",
      "  warnings.warn(smsg, UserWarning)\n",
      "/home/onyxia/work/TMDb-Box-Office-Prediction/Codes/ENV_mise_en_prod/lib/python3.11/site-packages/xgboost/core.py:160: UserWarning: [15:59:49] WARNING: /workspace/src/learner.cc:742: \n",
      "Parameters: { \"silent\" } are not used.\n",
      "\n",
      "  warnings.warn(smsg, UserWarning)\n",
      "/home/onyxia/work/TMDb-Box-Office-Prediction/Codes/ENV_mise_en_prod/lib/python3.11/site-packages/xgboost/core.py:160: UserWarning: [15:59:49] WARNING: /workspace/src/learner.cc:742: \n",
      "Parameters: { \"silent\" } are not used.\n",
      "\n",
      "  warnings.warn(smsg, UserWarning)\n",
      "/home/onyxia/work/TMDb-Box-Office-Prediction/Codes/ENV_mise_en_prod/lib/python3.11/site-packages/xgboost/core.py:160: UserWarning: [15:59:49] WARNING: /workspace/src/learner.cc:742: \n",
      "Parameters: { \"silent\" } are not used.\n",
      "\n",
      "  warnings.warn(smsg, UserWarning)\n",
      "/home/onyxia/work/TMDb-Box-Office-Prediction/Codes/ENV_mise_en_prod/lib/python3.11/site-packages/xgboost/core.py:160: UserWarning: [15:59:49] WARNING: /workspace/src/learner.cc:742: \n",
      "Parameters: { \"silent\" } are not used.\n",
      "\n",
      "  warnings.warn(smsg, UserWarning)\n",
      "/home/onyxia/work/TMDb-Box-Office-Prediction/Codes/ENV_mise_en_prod/lib/python3.11/site-packages/xgboost/core.py:160: UserWarning: [15:59:49] WARNING: /workspace/src/learner.cc:742: \n",
      "Parameters: { \"silent\" } are not used.\n",
      "\n",
      "  warnings.warn(smsg, UserWarning)\n",
      "/home/onyxia/work/TMDb-Box-Office-Prediction/Codes/ENV_mise_en_prod/lib/python3.11/site-packages/xgboost/core.py:160: UserWarning: [15:59:50] WARNING: /workspace/src/learner.cc:742: \n",
      "Parameters: { \"silent\" } are not used.\n",
      "\n",
      "  warnings.warn(smsg, UserWarning)\n",
      "/home/onyxia/work/TMDb-Box-Office-Prediction/Codes/ENV_mise_en_prod/lib/python3.11/site-packages/xgboost/core.py:160: UserWarning: [15:59:50] WARNING: /workspace/src/learner.cc:742: \n",
      "Parameters: { \"silent\" } are not used.\n",
      "\n",
      "  warnings.warn(smsg, UserWarning)\n",
      "/home/onyxia/work/TMDb-Box-Office-Prediction/Codes/ENV_mise_en_prod/lib/python3.11/site-packages/xgboost/core.py:160: UserWarning: [15:59:50] WARNING: /workspace/src/learner.cc:742: \n",
      "Parameters: { \"silent\" } are not used.\n",
      "\n",
      "  warnings.warn(smsg, UserWarning)\n",
      "/home/onyxia/work/TMDb-Box-Office-Prediction/Codes/ENV_mise_en_prod/lib/python3.11/site-packages/xgboost/core.py:160: UserWarning: [15:59:50] WARNING: /workspace/src/learner.cc:742: \n",
      "Parameters: { \"silent\" } are not used.\n",
      "\n",
      "  warnings.warn(smsg, UserWarning)\n",
      "/home/onyxia/work/TMDb-Box-Office-Prediction/Codes/ENV_mise_en_prod/lib/python3.11/site-packages/xgboost/core.py:160: UserWarning: [15:59:50] WARNING: /workspace/src/learner.cc:742: \n",
      "Parameters: { \"silent\" } are not used.\n",
      "\n",
      "  warnings.warn(smsg, UserWarning)\n",
      "/home/onyxia/work/TMDb-Box-Office-Prediction/Codes/ENV_mise_en_prod/lib/python3.11/site-packages/xgboost/core.py:160: UserWarning: [15:59:50] WARNING: /workspace/src/learner.cc:742: \n",
      "Parameters: { \"silent\" } are not used.\n",
      "\n",
      "  warnings.warn(smsg, UserWarning)\n",
      "/home/onyxia/work/TMDb-Box-Office-Prediction/Codes/ENV_mise_en_prod/lib/python3.11/site-packages/xgboost/core.py:160: UserWarning: [15:59:50] WARNING: /workspace/src/learner.cc:742: \n",
      "Parameters: { \"silent\" } are not used.\n",
      "\n",
      "  warnings.warn(smsg, UserWarning)\n",
      "/home/onyxia/work/TMDb-Box-Office-Prediction/Codes/ENV_mise_en_prod/lib/python3.11/site-packages/xgboost/core.py:160: UserWarning: [15:59:50] WARNING: /workspace/src/learner.cc:742: \n",
      "Parameters: { \"silent\" } are not used.\n",
      "\n",
      "  warnings.warn(smsg, UserWarning)\n",
      "/home/onyxia/work/TMDb-Box-Office-Prediction/Codes/ENV_mise_en_prod/lib/python3.11/site-packages/xgboost/core.py:160: UserWarning: [15:59:50] WARNING: /workspace/src/learner.cc:742: \n",
      "Parameters: { \"silent\" } are not used.\n",
      "\n",
      "  warnings.warn(smsg, UserWarning)\n",
      "/home/onyxia/work/TMDb-Box-Office-Prediction/Codes/ENV_mise_en_prod/lib/python3.11/site-packages/xgboost/core.py:160: UserWarning: [15:59:50] WARNING: /workspace/src/learner.cc:742: \n",
      "Parameters: { \"silent\" } are not used.\n",
      "\n",
      "  warnings.warn(smsg, UserWarning)\n",
      "/home/onyxia/work/TMDb-Box-Office-Prediction/Codes/ENV_mise_en_prod/lib/python3.11/site-packages/xgboost/core.py:160: UserWarning: [15:59:50] WARNING: /workspace/src/learner.cc:742: \n",
      "Parameters: { \"silent\" } are not used.\n",
      "\n",
      "  warnings.warn(smsg, UserWarning)\n",
      "/home/onyxia/work/TMDb-Box-Office-Prediction/Codes/ENV_mise_en_prod/lib/python3.11/site-packages/xgboost/core.py:160: UserWarning: [15:59:50] WARNING: /workspace/src/learner.cc:742: \n",
      "Parameters: { \"silent\" } are not used.\n",
      "\n",
      "  warnings.warn(smsg, UserWarning)\n",
      "/home/onyxia/work/TMDb-Box-Office-Prediction/Codes/ENV_mise_en_prod/lib/python3.11/site-packages/xgboost/core.py:160: UserWarning: [15:59:50] WARNING: /workspace/src/learner.cc:742: \n",
      "Parameters: { \"silent\" } are not used.\n",
      "\n",
      "  warnings.warn(smsg, UserWarning)\n",
      "/home/onyxia/work/TMDb-Box-Office-Prediction/Codes/ENV_mise_en_prod/lib/python3.11/site-packages/xgboost/core.py:160: UserWarning: [15:59:50] WARNING: /workspace/src/learner.cc:742: \n",
      "Parameters: { \"silent\" } are not used.\n",
      "\n",
      "  warnings.warn(smsg, UserWarning)\n",
      "/home/onyxia/work/TMDb-Box-Office-Prediction/Codes/ENV_mise_en_prod/lib/python3.11/site-packages/xgboost/core.py:160: UserWarning: [15:59:50] WARNING: /workspace/src/learner.cc:742: \n",
      "Parameters: { \"silent\" } are not used.\n",
      "\n",
      "  warnings.warn(smsg, UserWarning)\n",
      "/home/onyxia/work/TMDb-Box-Office-Prediction/Codes/ENV_mise_en_prod/lib/python3.11/site-packages/xgboost/core.py:160: UserWarning: [15:59:50] WARNING: /workspace/src/learner.cc:742: \n",
      "Parameters: { \"silent\" } are not used.\n",
      "\n",
      "  warnings.warn(smsg, UserWarning)\n",
      "/home/onyxia/work/TMDb-Box-Office-Prediction/Codes/ENV_mise_en_prod/lib/python3.11/site-packages/xgboost/core.py:160: UserWarning: [15:59:50] WARNING: /workspace/src/learner.cc:742: \n",
      "Parameters: { \"silent\" } are not used.\n",
      "\n",
      "  warnings.warn(smsg, UserWarning)\n",
      "/home/onyxia/work/TMDb-Box-Office-Prediction/Codes/ENV_mise_en_prod/lib/python3.11/site-packages/xgboost/core.py:160: UserWarning: [15:59:50] WARNING: /workspace/src/learner.cc:742: \n",
      "Parameters: { \"silent\" } are not used.\n",
      "\n",
      "  warnings.warn(smsg, UserWarning)\n",
      "/home/onyxia/work/TMDb-Box-Office-Prediction/Codes/ENV_mise_en_prod/lib/python3.11/site-packages/xgboost/core.py:160: UserWarning: [15:59:50] WARNING: /workspace/src/learner.cc:742: \n",
      "Parameters: { \"silent\" } are not used.\n",
      "\n",
      "  warnings.warn(smsg, UserWarning)\n",
      "/home/onyxia/work/TMDb-Box-Office-Prediction/Codes/ENV_mise_en_prod/lib/python3.11/site-packages/xgboost/core.py:160: UserWarning: [15:59:50] WARNING: /workspace/src/learner.cc:742: \n",
      "Parameters: { \"silent\" } are not used.\n",
      "\n",
      "  warnings.warn(smsg, UserWarning)\n",
      "/home/onyxia/work/TMDb-Box-Office-Prediction/Codes/ENV_mise_en_prod/lib/python3.11/site-packages/xgboost/core.py:160: UserWarning: [15:59:50] WARNING: /workspace/src/learner.cc:742: \n",
      "Parameters: { \"silent\" } are not used.\n",
      "\n",
      "  warnings.warn(smsg, UserWarning)\n",
      "/home/onyxia/work/TMDb-Box-Office-Prediction/Codes/ENV_mise_en_prod/lib/python3.11/site-packages/xgboost/core.py:160: UserWarning: [15:59:50] WARNING: /workspace/src/learner.cc:742: \n",
      "Parameters: { \"silent\" } are not used.\n",
      "\n",
      "  warnings.warn(smsg, UserWarning)\n",
      "/home/onyxia/work/TMDb-Box-Office-Prediction/Codes/ENV_mise_en_prod/lib/python3.11/site-packages/xgboost/core.py:160: UserWarning: [15:59:50] WARNING: /workspace/src/learner.cc:742: \n",
      "Parameters: { \"silent\" } are not used.\n",
      "\n",
      "  warnings.warn(smsg, UserWarning)\n",
      "/home/onyxia/work/TMDb-Box-Office-Prediction/Codes/ENV_mise_en_prod/lib/python3.11/site-packages/xgboost/core.py:160: UserWarning: [15:59:50] WARNING: /workspace/src/learner.cc:742: \n",
      "Parameters: { \"silent\" } are not used.\n",
      "\n",
      "  warnings.warn(smsg, UserWarning)\n",
      "/home/onyxia/work/TMDb-Box-Office-Prediction/Codes/ENV_mise_en_prod/lib/python3.11/site-packages/xgboost/core.py:160: UserWarning: [15:59:50] WARNING: /workspace/src/learner.cc:742: \n",
      "Parameters: { \"silent\" } are not used.\n",
      "\n",
      "  warnings.warn(smsg, UserWarning)\n",
      "/home/onyxia/work/TMDb-Box-Office-Prediction/Codes/ENV_mise_en_prod/lib/python3.11/site-packages/xgboost/core.py:160: UserWarning: [15:59:50] WARNING: /workspace/src/learner.cc:742: \n",
      "Parameters: { \"silent\" } are not used.\n",
      "\n",
      "  warnings.warn(smsg, UserWarning)\n",
      "/home/onyxia/work/TMDb-Box-Office-Prediction/Codes/ENV_mise_en_prod/lib/python3.11/site-packages/xgboost/core.py:160: UserWarning: [15:59:50] WARNING: /workspace/src/learner.cc:742: \n",
      "Parameters: { \"silent\" } are not used.\n",
      "\n",
      "  warnings.warn(smsg, UserWarning)\n",
      "/home/onyxia/work/TMDb-Box-Office-Prediction/Codes/ENV_mise_en_prod/lib/python3.11/site-packages/xgboost/core.py:160: UserWarning: [15:59:50] WARNING: /workspace/src/learner.cc:742: \n",
      "Parameters: { \"silent\" } are not used.\n",
      "\n",
      "  warnings.warn(smsg, UserWarning)\n",
      "/home/onyxia/work/TMDb-Box-Office-Prediction/Codes/ENV_mise_en_prod/lib/python3.11/site-packages/xgboost/core.py:160: UserWarning: [15:59:50] WARNING: /workspace/src/learner.cc:742: \n",
      "Parameters: { \"silent\" } are not used.\n",
      "\n",
      "  warnings.warn(smsg, UserWarning)\n",
      "/home/onyxia/work/TMDb-Box-Office-Prediction/Codes/ENV_mise_en_prod/lib/python3.11/site-packages/xgboost/core.py:160: UserWarning: [15:59:50] WARNING: /workspace/src/learner.cc:742: \n",
      "Parameters: { \"silent\" } are not used.\n",
      "\n",
      "  warnings.warn(smsg, UserWarning)\n",
      "/home/onyxia/work/TMDb-Box-Office-Prediction/Codes/ENV_mise_en_prod/lib/python3.11/site-packages/xgboost/core.py:160: UserWarning: [15:59:50] WARNING: /workspace/src/learner.cc:742: \n",
      "Parameters: { \"silent\" } are not used.\n",
      "\n",
      "  warnings.warn(smsg, UserWarning)\n",
      "/home/onyxia/work/TMDb-Box-Office-Prediction/Codes/ENV_mise_en_prod/lib/python3.11/site-packages/xgboost/core.py:160: UserWarning: [15:59:51] WARNING: /workspace/src/learner.cc:742: \n",
      "Parameters: { \"silent\" } are not used.\n",
      "\n",
      "  warnings.warn(smsg, UserWarning)\n",
      "/home/onyxia/work/TMDb-Box-Office-Prediction/Codes/ENV_mise_en_prod/lib/python3.11/site-packages/xgboost/core.py:160: UserWarning: [15:59:51] WARNING: /workspace/src/learner.cc:742: \n",
      "Parameters: { \"silent\" } are not used.\n",
      "\n",
      "  warnings.warn(smsg, UserWarning)\n",
      "/home/onyxia/work/TMDb-Box-Office-Prediction/Codes/ENV_mise_en_prod/lib/python3.11/site-packages/xgboost/core.py:160: UserWarning: [15:59:51] WARNING: /workspace/src/learner.cc:742: \n",
      "Parameters: { \"silent\" } are not used.\n",
      "\n",
      "  warnings.warn(smsg, UserWarning)\n",
      "/home/onyxia/work/TMDb-Box-Office-Prediction/Codes/ENV_mise_en_prod/lib/python3.11/site-packages/xgboost/core.py:160: UserWarning: [15:59:51] WARNING: /workspace/src/learner.cc:742: \n",
      "Parameters: { \"silent\" } are not used.\n",
      "\n",
      "  warnings.warn(smsg, UserWarning)\n",
      "/home/onyxia/work/TMDb-Box-Office-Prediction/Codes/ENV_mise_en_prod/lib/python3.11/site-packages/xgboost/core.py:160: UserWarning: [15:59:51] WARNING: /workspace/src/learner.cc:742: \n",
      "Parameters: { \"silent\" } are not used.\n",
      "\n",
      "  warnings.warn(smsg, UserWarning)\n",
      "/home/onyxia/work/TMDb-Box-Office-Prediction/Codes/ENV_mise_en_prod/lib/python3.11/site-packages/xgboost/core.py:160: UserWarning: [15:59:51] WARNING: /workspace/src/learner.cc:742: \n",
      "Parameters: { \"silent\" } are not used.\n",
      "\n",
      "  warnings.warn(smsg, UserWarning)\n",
      "/home/onyxia/work/TMDb-Box-Office-Prediction/Codes/ENV_mise_en_prod/lib/python3.11/site-packages/xgboost/core.py:160: UserWarning: [15:59:51] WARNING: /workspace/src/learner.cc:742: \n",
      "Parameters: { \"silent\" } are not used.\n",
      "\n",
      "  warnings.warn(smsg, UserWarning)\n",
      "/home/onyxia/work/TMDb-Box-Office-Prediction/Codes/ENV_mise_en_prod/lib/python3.11/site-packages/xgboost/core.py:160: UserWarning: [15:59:51] WARNING: /workspace/src/learner.cc:742: \n",
      "Parameters: { \"silent\" } are not used.\n",
      "\n",
      "  warnings.warn(smsg, UserWarning)\n",
      "/home/onyxia/work/TMDb-Box-Office-Prediction/Codes/ENV_mise_en_prod/lib/python3.11/site-packages/xgboost/core.py:160: UserWarning: [15:59:51] WARNING: /workspace/src/learner.cc:742: \n",
      "Parameters: { \"silent\" } are not used.\n",
      "\n",
      "  warnings.warn(smsg, UserWarning)\n",
      "/home/onyxia/work/TMDb-Box-Office-Prediction/Codes/ENV_mise_en_prod/lib/python3.11/site-packages/xgboost/core.py:160: UserWarning: [15:59:51] WARNING: /workspace/src/learner.cc:742: \n",
      "Parameters: { \"silent\" } are not used.\n",
      "\n",
      "  warnings.warn(smsg, UserWarning)\n",
      "/home/onyxia/work/TMDb-Box-Office-Prediction/Codes/ENV_mise_en_prod/lib/python3.11/site-packages/xgboost/core.py:160: UserWarning: [15:59:51] WARNING: /workspace/src/learner.cc:742: \n",
      "Parameters: { \"silent\" } are not used.\n",
      "\n",
      "  warnings.warn(smsg, UserWarning)\n",
      "/home/onyxia/work/TMDb-Box-Office-Prediction/Codes/ENV_mise_en_prod/lib/python3.11/site-packages/xgboost/core.py:160: UserWarning: [15:59:51] WARNING: /workspace/src/learner.cc:742: \n",
      "Parameters: { \"silent\" } are not used.\n",
      "\n",
      "  warnings.warn(smsg, UserWarning)\n",
      "/home/onyxia/work/TMDb-Box-Office-Prediction/Codes/ENV_mise_en_prod/lib/python3.11/site-packages/xgboost/core.py:160: UserWarning: [15:59:51] WARNING: /workspace/src/learner.cc:742: \n",
      "Parameters: { \"silent\" } are not used.\n",
      "\n",
      "  warnings.warn(smsg, UserWarning)\n",
      "/home/onyxia/work/TMDb-Box-Office-Prediction/Codes/ENV_mise_en_prod/lib/python3.11/site-packages/xgboost/core.py:160: UserWarning: [15:59:54] WARNING: /workspace/src/learner.cc:742: \n",
      "Parameters: { \"silent\" } are not used.\n",
      "\n",
      "  warnings.warn(smsg, UserWarning)\n"
     ]
    },
    {
     "name": "stdout",
     "output_type": "stream",
     "text": [
      "Best parameters: {'colsample_bytree': 0.7, 'learning_rate': 0.03, 'max_depth': 5, 'min_child_weight': 4, 'n_estimators': 500, 'objective': 'reg:squarederror', 'silent': 1, 'subsample': 0.7}\n"
     ]
    },
    {
     "data": {
      "text/html": [
       "<div>\n",
       "<style scoped>\n",
       "    .dataframe tbody tr th:only-of-type {\n",
       "        vertical-align: middle;\n",
       "    }\n",
       "\n",
       "    .dataframe tbody tr th {\n",
       "        vertical-align: top;\n",
       "    }\n",
       "\n",
       "    .dataframe thead th {\n",
       "        text-align: right;\n",
       "    }\n",
       "</style>\n",
       "<table border=\"1\" class=\"dataframe\">\n",
       "  <thead>\n",
       "    <tr style=\"text-align: right;\">\n",
       "      <th></th>\n",
       "      <th>ExpID</th>\n",
       "      <th>Train RMSLE</th>\n",
       "      <th>Test RMSLE</th>\n",
       "      <th>Dollars Over</th>\n",
       "      <th>Train Time(s)</th>\n",
       "      <th>Experiment description</th>\n",
       "    </tr>\n",
       "  </thead>\n",
       "  <tbody>\n",
       "    <tr>\n",
       "      <th>1</th>\n",
       "      <td>Initial Search</td>\n",
       "      <td>0.49</td>\n",
       "      <td>0.48</td>\n",
       "      <td>481863168.0</td>\n",
       "      <td>0.0729</td>\n",
       "      <td>Untuned linear</td>\n",
       "    </tr>\n",
       "    <tr>\n",
       "      <th>2</th>\n",
       "      <td>Initial Search</td>\n",
       "      <td>0.50</td>\n",
       "      <td>0.60</td>\n",
       "      <td>601628256.0</td>\n",
       "      <td>0.2289</td>\n",
       "      <td>Untuned kn</td>\n",
       "    </tr>\n",
       "    <tr>\n",
       "      <th>3</th>\n",
       "      <td>Initial Search</td>\n",
       "      <td>0.49</td>\n",
       "      <td>0.48</td>\n",
       "      <td>481863168.0</td>\n",
       "      <td>0.0202</td>\n",
       "      <td>Untuned linear</td>\n",
       "    </tr>\n",
       "    <tr>\n",
       "      <th>4</th>\n",
       "      <td>Initial Search</td>\n",
       "      <td>0.50</td>\n",
       "      <td>0.60</td>\n",
       "      <td>601628256.0</td>\n",
       "      <td>0.2473</td>\n",
       "      <td>Untuned kn</td>\n",
       "    </tr>\n",
       "    <tr>\n",
       "      <th>5</th>\n",
       "      <td>Best Model: XGB Regressor</td>\n",
       "      <td>0.79</td>\n",
       "      <td>72.94</td>\n",
       "      <td>73.0</td>\n",
       "      <td>15.1483</td>\n",
       "      <td>XGB Regressor</td>\n",
       "    </tr>\n",
       "  </tbody>\n",
       "</table>\n",
       "</div>"
      ],
      "text/plain": [
       "                       ExpID  Train RMSLE  Test RMSLE  Dollars Over  \\\n",
       "1             Initial Search         0.49        0.48   481863168.0   \n",
       "2             Initial Search         0.50        0.60   601628256.0   \n",
       "3             Initial Search         0.49        0.48   481863168.0   \n",
       "4             Initial Search         0.50        0.60   601628256.0   \n",
       "5  Best Model: XGB Regressor         0.79       72.94          73.0   \n",
       "\n",
       "   Train Time(s) Experiment description  \n",
       "1         0.0729         Untuned linear  \n",
       "2         0.2289             Untuned kn  \n",
       "3         0.0202         Untuned linear  \n",
       "4         0.2473             Untuned kn  \n",
       "5        15.1483          XGB Regressor  "
      ]
     },
     "metadata": {},
     "output_type": "display_data"
    }
   ],
   "source": [
    "from sklearn.model_selection import GridSearchCV\n",
    "from xgboost.sklearn import XGBRegressor\n",
    "start = time()\n",
    "xgb1 = XGBRegressor()\n",
    "parameters = {'objective':['reg:squarederror'],\n",
    "              'learning_rate': [.03, 0.05, .07], #so called `eta` value\n",
    "              'max_depth': [5, 6, 7],\n",
    "              'min_child_weight': [3,4],\n",
    "              'silent': [1],\n",
    "              'subsample': [0.7,0.8,0.9],\n",
    "              'colsample_bytree': [0.7],\n",
    "              'n_estimators': [500,1000,2800]}\n",
    "\n",
    "grid = GridSearchCV(xgb1,\n",
    "                    parameters,\n",
    "                    cv = 2,\n",
    "                    n_jobs = -1,\n",
    "                    verbose=True)\n",
    "\n",
    "\n",
    "grid.fit(df_train_processed, y_train_processed)\n",
    "print(\"Best parameters: {}\".format(grid.best_params_))\n",
    "train_time = np.round(time() - start, 4)\n",
    "train_rmsle = grid.best_score_\n",
    "y_pred = grid.predict(df_test_processed)\n",
    "test_rmsle = rmsle(df_test_processed, y_test_processed)\n",
    "test_mape = mean_absolute_percentage_error(y_test_processed, y_pred)\n",
    "dollarsover= test_rmsle#*1000000000\n",
    "results.loc[results.shape[0]+1] = ['Best Model: XGB Regressor', np.round(train_rmsle,2), np.round(test_rmsle,2),np.round(dollarsover),\n",
    "                                   train_time, \"XGB Regressor\"]\n",
    "display(results)"
   ]
  },
  {
   "cell_type": "markdown",
   "metadata": {},
   "source": [
    "## Kaggle Submission"
   ]
  },
  {
   "cell_type": "markdown",
   "metadata": {},
   "source": [
    "# Conclusion"
   ]
  },
  {
   "cell_type": "markdown",
   "metadata": {},
   "source": [
    "With this project, our focus was to be able to predict box office revenue for any movie. In order to do this, we created machine learning pipelines with custom features to predict the revenue from the box office. As we continue to improve our pipeline from the previous phase, features like 'production_companies_count', 'spoken_languages_count', 'keyword_count', 'cast_count', and 'crew_count' have been added and have allowed our pipelines to produce better accuracy scores which allowed our test dataset to be 64.06% accurate. We also used a different prediction model in XGBRegressor, which gave us more accurate scores. When submitting the scores to Kaggle, our score of 2.13772 shows that we are quite close to a model that can accurately predict these revenues. "
   ]
  }
 ],
 "metadata": {
  "kernelspec": {
   "display_name": "ENV_mise_en_prod",
   "language": "python",
   "name": "env_mise_en_prod"
  },
  "language_info": {
   "codemirror_mode": {
    "name": "ipython",
    "version": 3
   },
   "file_extension": ".py",
   "mimetype": "text/x-python",
   "name": "python",
   "nbconvert_exporter": "python",
   "pygments_lexer": "ipython3",
   "version": "3.11.6"
  },
  "toc": {
   "base_numbering": 1,
   "nav_menu": {},
   "number_sections": true,
   "sideBar": true,
   "skip_h1_title": false,
   "title_cell": "Table of Contents",
   "title_sidebar": "Contents",
   "toc_cell": true,
   "toc_position": {
    "height": "calc(100% - 180px)",
    "left": "10px",
    "top": "150px",
    "width": "287.969px"
   },
   "toc_section_display": "block",
   "toc_window_display": false
  },
  "toc-showcode": false,
  "toc-showtags": false,
  "varInspector": {
   "cols": {
    "lenName": 16,
    "lenType": 16,
    "lenVar": 40
   },
   "kernels_config": {
    "python": {
     "delete_cmd_postfix": "",
     "delete_cmd_prefix": "del ",
     "library": "var_list.py",
     "varRefreshCmd": "print(var_dic_list())"
    },
    "r": {
     "delete_cmd_postfix": ") ",
     "delete_cmd_prefix": "rm(",
     "library": "var_list.r",
     "varRefreshCmd": "cat(var_dic_list()) "
    }
   },
   "types_to_exclude": [
    "module",
    "function",
    "builtin_function_or_method",
    "instance",
    "_Feature"
   ],
   "window_display": false
  }
 },
 "nbformat": 4,
 "nbformat_minor": 4
}
