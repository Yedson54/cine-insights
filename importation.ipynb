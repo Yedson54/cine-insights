{
 "cells": [
  {
   "cell_type": "markdown",
   "id": "93957f03-3ba7-4d04-9624-221cd8493a69",
   "metadata": {},
   "source": [
    "<font size=\"+3\"><strong>Analyzing Movie Data and Predicting Box Office Performance with the TMDb API</strong></font>"
   ]
  },
  {
   "cell_type": "markdown",
   "id": "05a39846-dba2-4ec7-8a94-02edcb6e0081",
   "metadata": {},
   "source": [
    "### On présente ici l'API TMDb utilisée pour extraire nos données. Nous décrivons comment nous avons collecté des données sur les films."
   ]
  },
  {
   "cell_type": "markdown",
   "id": "32893489-f080-47d6-bcd7-731ae310b633",
   "metadata": {},
   "source": [
    "##### L'API TMDb (The Movie Database) est une API gratuite et ouverte permettant d'accéder aux données des films, des émissions de télévision et des personnes. Il donne accès à une mine d'informations sur les films, y compris les budgets, les revenus, les acteurs, l'équipe, les genres... En utilisant l'API TMDb, nous pouvons récupérer des données sur un grand nombre de films et les utiliser pour construire un modèle capable de prédire les recettes au box-office."
   ]
  },
  {
   "cell_type": "code",
   "execution_count": 1,
   "id": "ec8c5833-f522-4ca4-a15b-05fec4ae18ba",
   "metadata": {},
   "outputs": [],
   "source": [
    "# Import libraries.\n",
    "import time\n",
    "import requests\n",
    "import pandas as pd"
   ]
  },
  {
   "cell_type": "markdown",
   "id": "db8e8bd6-5823-4435-aeb3-fc39de2c9304",
   "metadata": {},
   "source": [
    "## Importation"
   ]
  },
  {
   "cell_type": "markdown",
   "id": "02960cda-c85c-4f1a-80e1-14ac5775398e",
   "metadata": {},
   "source": [
    "##### Pour pouvoir récupérer les informations d'un film, il faut connaitre l'identifiant de ce film dans la base. Le problème est que nous ne connaissons pas les identifiants présents dans la base. Nous avons donc d'abord essayé de récupérer les identifiants au hasard, ce qui a pris beaucoup trop de temps à charger. Il nous fallait donc une méthode alternative  nécessitant moins de requête.\n",
    "##### Nous avons donc décidé de procéder page par page, en passant par le point d'accès discover. Discover renvoie diverses pages de films. Nous avons ensuite défini une plage de dates : nous nous sommes restreints aux films sortis entre 1900 et 2015 après avoir remarqué que plus un film est récent, moins on a d’informations sur ce dernier. Nous avons également trié les résultats par ordre décroissant de popularité, pour maximiser les chances de ne pas avoir de valeurs manquantes. Plus un film est populaire, plus on a d'informations sur celiu-ci.\n",
    "##### Finalement, on parcourt toutes les pages à travers le point d'accès discover, et pour chacun des films qui apparaissent sur cette page, on effectue la requête pour obtenir les détails sur ce film."
   ]
  },
  {
   "cell_type": "code",
   "execution_count": 2,
   "id": "152e1942-4bf0-46bb-b906-d9bddf9501aa",
   "metadata": {},
   "outputs": [],
   "source": [
    "def get_movies(api_key, base_url, params):\n",
    "    \"\"\"Request data from TMDb API.\n",
    "    \n",
    "    Parameters\n",
    "    ----------\n",
    "    api_key: string, \n",
    "        API key.\n",
    "    \n",
    "    base_url: string, \n",
    "        base URL for API request.\n",
    "    \n",
    "    params: dictionary, \n",
    "        list of tuples or bytes to send in the query string.\n",
    "    \n",
    "    Return\n",
    "    ------\n",
    "    movies: json, \n",
    "        lists of movies imported\n",
    "    \"\"\"\n",
    "    \n",
    "    # Initialize an empty list to store the movie data\n",
    "    movies = []\n",
    "    \n",
    "    # Set a flag to indicate whether there are more pages to request\n",
    "    more_pages = True\n",
    "    \n",
    "    # Start time and iteration index\n",
    "    start_time = time.time()\n",
    "\n",
    "    while more_pages:        \n",
    "        # Make the API request\n",
    "        response = requests.get(f'{base_url}discover/movie', params=params)\n",
    "\n",
    "        # Check the status code to make sure the request was successful\n",
    "        if response.status_code == 200:\n",
    "            # Loop through the results and make a separate API request for each movie\n",
    "            for movie in response.json()['results']:\n",
    "                # Set the movie ID for the API request\n",
    "                movie_id = movie['id']\n",
    "\n",
    "                # Make the API request for the movie details\n",
    "                movie_response = requests.get(f'{base_url}movie/{movie_id}', params={'api_key': api_key})\n",
    "\n",
    "                # Check the status code to make sure the request was successful\n",
    "                if movie_response.status_code == 200:\n",
    "                    # Add the movie data to the list\n",
    "                    movies.append(movie_response.json())\n",
    "\n",
    "            # Update the page number for the next request\n",
    "            params['page'] += 1\n",
    "\n",
    "            # Check if there are more pages to request\n",
    "            if params['page'] > response.json()['total_pages']:\n",
    "                more_pages = False\n",
    "        else:\n",
    "            print(f'Request failed with status code {response.status_code}')\n",
    "            break\n",
    "\n",
    "        # Verbose printing\n",
    "        if params['page'] % 25 == 0:\n",
    "            print(f\"Page {params['page']}. Load {len(movies)} movies. Elapsed time {time.time() - start_time} seconds.\")\n",
    "\n",
    "    return movies"
   ]
  },
  {
   "cell_type": "code",
   "execution_count": 3,
   "id": "d0e907f3-1176-49e7-b695-82946a0d3b07",
   "metadata": {
    "tags": []
   },
   "outputs": [
    {
     "name": "stdout",
     "output_type": "stream",
     "text": [
      "Page 25. Load 480 movies. Elapsed time 93.0046534538269 seconds.\n",
      "Page 50. Load 980 movies. Elapsed time 189.97506618499756 seconds.\n",
      "Page 75. Load 1480 movies. Elapsed time 286.50015687942505 seconds.\n",
      "Page 100. Load 1980 movies. Elapsed time 381.6607096195221 seconds.\n",
      "Page 125. Load 2480 movies. Elapsed time 476.96944546699524 seconds.\n",
      "Page 150. Load 2980 movies. Elapsed time 573.2153375148773 seconds.\n",
      "Page 175. Load 3480 movies. Elapsed time 668.552496433258 seconds.\n",
      "Page 200. Load 3980 movies. Elapsed time 763.9174160957336 seconds.\n",
      "Page 225. Load 4480 movies. Elapsed time 860.8392179012299 seconds.\n",
      "Page 250. Load 4980 movies. Elapsed time 960.2945592403412 seconds.\n",
      "Page 275. Load 5479 movies. Elapsed time 1057.0364940166473 seconds.\n",
      "Page 300. Load 5979 movies. Elapsed time 1153.9656944274902 seconds.\n",
      "Page 325. Load 6479 movies. Elapsed time 1251.696575641632 seconds.\n",
      "Page 350. Load 6979 movies. Elapsed time 1349.213386297226 seconds.\n",
      "Page 375. Load 7479 movies. Elapsed time 1448.040400981903 seconds.\n",
      "Page 400. Load 7979 movies. Elapsed time 1575.5993196964264 seconds.\n",
      "Page 425. Load 8479 movies. Elapsed time 1678.8866739273071 seconds.\n",
      "Page 450. Load 8979 movies. Elapsed time 1780.0988523960114 seconds.\n",
      "Page 475. Load 9479 movies. Elapsed time 1881.2250583171844 seconds.\n",
      "Page 500. Load 9979 movies. Elapsed time 1983.171189546585 seconds.\n",
      "Request failed with status code 422\n"
     ]
    }
   ],
   "source": [
    "# API key\n",
    "api_key = \"06af3e1b654bb9481c777bde394b620b\"\n",
    "# Set the base URL for the TMDB API\n",
    "base_url = 'https://api.themoviedb.org/3/'\n",
    "# Set the parameters for the API request\n",
    "params = {\n",
    "    'api_key': api_key,\n",
    "    'language': 'en-US',\n",
    "    'include_adult': 'false',\n",
    "    'sort_by': 'popularity.desc',  # most popular movies\n",
    "    'primary_release_date.gte': '1900-01-01',  # start date\n",
    "    'primary_release_date.lte': '2015-12-31',  # end date\n",
    "    'page': 1\n",
    "}\n",
    "\n",
    "movies = get_movies(api_key, base_url, params)"
   ]
  },
  {
   "cell_type": "code",
   "execution_count": 4,
   "id": "b65a11ce-4e91-4f33-b01d-d607f8c6e23a",
   "metadata": {},
   "outputs": [],
   "source": [
    "# Turn into DataFrame and save as pickle for further use.\n",
    "# To avoid having to run again all the API requests.\n",
    "movies_df = pd.DataFrame(movies)\n",
    "movies_df.to_pickle(\"./data/movies_tmdb.pkl\")"
   ]
  },
  {
   "cell_type": "code",
   "execution_count": 5,
   "id": "e2f8b8df-d8f0-4ac1-bcbd-9f9b700a4b03",
   "metadata": {},
   "outputs": [
    {
     "name": "stdout",
     "output_type": "stream",
     "text": [
      "(4974, 25)\n"
     ]
    },
    {
     "data": {
      "text/html": [
       "<div>\n",
       "<style scoped>\n",
       "    .dataframe tbody tr th:only-of-type {\n",
       "        vertical-align: middle;\n",
       "    }\n",
       "\n",
       "    .dataframe tbody tr th {\n",
       "        vertical-align: top;\n",
       "    }\n",
       "\n",
       "    .dataframe thead th {\n",
       "        text-align: right;\n",
       "    }\n",
       "</style>\n",
       "<table border=\"1\" class=\"dataframe\">\n",
       "  <thead>\n",
       "    <tr style=\"text-align: right;\">\n",
       "      <th></th>\n",
       "      <th>adult</th>\n",
       "      <th>backdrop_path</th>\n",
       "      <th>belongs_to_collection</th>\n",
       "      <th>budget</th>\n",
       "      <th>genres</th>\n",
       "      <th>homepage</th>\n",
       "      <th>id</th>\n",
       "      <th>imdb_id</th>\n",
       "      <th>original_language</th>\n",
       "      <th>original_title</th>\n",
       "      <th>...</th>\n",
       "      <th>release_date</th>\n",
       "      <th>revenue</th>\n",
       "      <th>runtime</th>\n",
       "      <th>spoken_languages</th>\n",
       "      <th>status</th>\n",
       "      <th>tagline</th>\n",
       "      <th>title</th>\n",
       "      <th>video</th>\n",
       "      <th>vote_average</th>\n",
       "      <th>vote_count</th>\n",
       "    </tr>\n",
       "  </thead>\n",
       "  <tbody>\n",
       "    <tr>\n",
       "      <th>0</th>\n",
       "      <td>False</td>\n",
       "      <td>/Yc9q6QuWrMp9nuDm5R8ExNqbEq.jpg</td>\n",
       "      <td>{'id': 87096, 'name': 'Avatar Collection', 'po...</td>\n",
       "      <td>237000000</td>\n",
       "      <td>[{'id': 28, 'name': 'Action'}, {'id': 12, 'nam...</td>\n",
       "      <td>https://www.avatar.com/movies/avatar</td>\n",
       "      <td>19995</td>\n",
       "      <td>tt0499549</td>\n",
       "      <td>en</td>\n",
       "      <td>Avatar</td>\n",
       "      <td>...</td>\n",
       "      <td>2009-12-15</td>\n",
       "      <td>2920357254</td>\n",
       "      <td>162</td>\n",
       "      <td>[{'english_name': 'English', 'iso_639_1': 'en'...</td>\n",
       "      <td>Released</td>\n",
       "      <td>Enter the world of Pandora.</td>\n",
       "      <td>Avatar</td>\n",
       "      <td>False</td>\n",
       "      <td>7.543</td>\n",
       "      <td>27045</td>\n",
       "    </tr>\n",
       "    <tr>\n",
       "      <th>3</th>\n",
       "      <td>False</td>\n",
       "      <td>/tuDhEdza074bA497bO9WFEPs6O6.jpg</td>\n",
       "      <td>{'id': 420, 'name': 'The Chronicles of Narnia ...</td>\n",
       "      <td>180000000</td>\n",
       "      <td>[{'id': 12, 'name': 'Adventure'}, {'id': 10751...</td>\n",
       "      <td></td>\n",
       "      <td>411</td>\n",
       "      <td>tt0363771</td>\n",
       "      <td>en</td>\n",
       "      <td>The Chronicles of Narnia: The Lion, the Witch ...</td>\n",
       "      <td>...</td>\n",
       "      <td>2005-12-07</td>\n",
       "      <td>745013115</td>\n",
       "      <td>143</td>\n",
       "      <td>[{'english_name': 'English', 'iso_639_1': 'en'...</td>\n",
       "      <td>Released</td>\n",
       "      <td>Evil Has Reigned For 100 Years...</td>\n",
       "      <td>The Chronicles of Narnia: The Lion, the Witch ...</td>\n",
       "      <td>False</td>\n",
       "      <td>7.102</td>\n",
       "      <td>8982</td>\n",
       "    </tr>\n",
       "  </tbody>\n",
       "</table>\n",
       "<p>2 rows × 25 columns</p>\n",
       "</div>"
      ],
      "text/plain": [
       "   adult                     backdrop_path  \\\n",
       "0  False   /Yc9q6QuWrMp9nuDm5R8ExNqbEq.jpg   \n",
       "3  False  /tuDhEdza074bA497bO9WFEPs6O6.jpg   \n",
       "\n",
       "                               belongs_to_collection     budget  \\\n",
       "0  {'id': 87096, 'name': 'Avatar Collection', 'po...  237000000   \n",
       "3  {'id': 420, 'name': 'The Chronicles of Narnia ...  180000000   \n",
       "\n",
       "                                              genres  \\\n",
       "0  [{'id': 28, 'name': 'Action'}, {'id': 12, 'nam...   \n",
       "3  [{'id': 12, 'name': 'Adventure'}, {'id': 10751...   \n",
       "\n",
       "                               homepage     id    imdb_id original_language  \\\n",
       "0  https://www.avatar.com/movies/avatar  19995  tt0499549                en   \n",
       "3                                          411  tt0363771                en   \n",
       "\n",
       "                                      original_title  ... release_date  \\\n",
       "0                                             Avatar  ...   2009-12-15   \n",
       "3  The Chronicles of Narnia: The Lion, the Witch ...  ...   2005-12-07   \n",
       "\n",
       "      revenue runtime                                   spoken_languages  \\\n",
       "0  2920357254     162  [{'english_name': 'English', 'iso_639_1': 'en'...   \n",
       "3   745013115     143  [{'english_name': 'English', 'iso_639_1': 'en'...   \n",
       "\n",
       "     status                            tagline  \\\n",
       "0  Released        Enter the world of Pandora.   \n",
       "3  Released  Evil Has Reigned For 100 Years...   \n",
       "\n",
       "                                               title  video vote_average  \\\n",
       "0                                             Avatar  False        7.543   \n",
       "3  The Chronicles of Narnia: The Lion, the Witch ...  False        7.102   \n",
       "\n",
       "  vote_count  \n",
       "0      27045  \n",
       "3       8982  \n",
       "\n",
       "[2 rows x 25 columns]"
      ]
     },
     "execution_count": 5,
     "metadata": {},
     "output_type": "execute_result"
    }
   ],
   "source": [
    "# Keep only non-zero budget and revenue rows.\n",
    "movies_df = movies_df.query('budget > 0 and revenue > 0')\n",
    "print(movies_df.shape)\n",
    "movies_df.head(2)"
   ]
  },
  {
   "cell_type": "markdown",
   "id": "9b71a857-550f-41f6-8128-dfc1aaa84fde",
   "metadata": {
    "tags": []
   },
   "source": []
  }
 ],
 "metadata": {
  "kernelspec": {
   "display_name": "Python 3 (ipykernel)",
   "language": "python",
   "name": "python3"
  },
  "language_info": {
   "codemirror_mode": {
    "name": "ipython",
    "version": 3
   },
   "file_extension": ".py",
   "mimetype": "text/x-python",
   "name": "python",
   "nbconvert_exporter": "python",
   "pygments_lexer": "ipython3",
   "version": "3.10.4"
  },
  "toc-autonumbering": true
 },
 "nbformat": 4,
 "nbformat_minor": 5
}
