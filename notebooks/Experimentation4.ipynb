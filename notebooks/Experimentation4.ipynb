{
 "cells": [
  {
   "cell_type": "code",
   "execution_count": 191,
   "metadata": {},
   "outputs": [],
   "source": [
    "import warnings\n",
    "\n",
    "# Ignorer tous les avertissements\n",
    "warnings.filterwarnings(\"ignore\")"
   ]
  },
  {
   "cell_type": "code",
   "execution_count": 192,
   "metadata": {},
   "outputs": [],
   "source": [
    "import sys\n",
    "sys.path.append('/home/onyxia/work/cine-insights/src/models')\n",
    "sys.path.append('/home/onyxia/work/cine-insights/src/data')\n",
    "sys.path.append('/home/onyxia/work/cine-insights/src/features')\n",
    "sys.path.append('/home/onyxia/work/cine-insights/models')\n"
   ]
  },
  {
   "cell_type": "code",
   "execution_count": 4,
   "metadata": {},
   "outputs": [],
   "source": [
    "import pandas as pd\n",
    "import joblib\n",
    "import numpy as np\n",
    "python_interpretor=\"/home/onyxia/work/TMDb-Box-Office-Prediction/Codes/BOF_ENv/bin/python\""
   ]
  },
  {
   "cell_type": "markdown",
   "metadata": {},
   "source": [
    "# import_data.py"
   ]
  },
  {
   "cell_type": "code",
   "execution_count": 231,
   "metadata": {},
   "outputs": [],
   "source": [
    "import Import_data\n",
    "from  Import_data import *"
   ]
  },
  {
   "cell_type": "code",
   "execution_count": 232,
   "metadata": {},
   "outputs": [],
   "source": [
    "filename=\"Raw_df_50_ligne.csv\"\n",
    "path_dir=\"/home/onyxia/work/cine-insights/src/data/\""
   ]
  },
  {
   "cell_type": "code",
   "execution_count": 233,
   "metadata": {},
   "outputs": [
    {
     "name": "stdout",
     "output_type": "stream",
     "text": [
      "Raw_Data: shape is (50, 25)\n"
     ]
    }
   ],
   "source": [
    "df=Import_data.load_data(path_dir+filename,\"Raw_Data\")"
   ]
  },
  {
   "cell_type": "code",
   "execution_count": 196,
   "metadata": {},
   "outputs": [
    {
     "data": {
      "text/html": [
       "<div>\n",
       "<style scoped>\n",
       "    .dataframe tbody tr th:only-of-type {\n",
       "        vertical-align: middle;\n",
       "    }\n",
       "\n",
       "    .dataframe tbody tr th {\n",
       "        vertical-align: top;\n",
       "    }\n",
       "\n",
       "    .dataframe thead th {\n",
       "        text-align: right;\n",
       "    }\n",
       "</style>\n",
       "<table border=\"1\" class=\"dataframe\">\n",
       "  <thead>\n",
       "    <tr style=\"text-align: right;\">\n",
       "      <th></th>\n",
       "      <th>Unnamed: 0</th>\n",
       "      <th>id</th>\n",
       "      <th>title</th>\n",
       "      <th>vote_average</th>\n",
       "      <th>vote_count</th>\n",
       "      <th>status</th>\n",
       "      <th>release_date</th>\n",
       "      <th>revenue</th>\n",
       "      <th>runtime</th>\n",
       "      <th>adult</th>\n",
       "      <th>...</th>\n",
       "      <th>original_title</th>\n",
       "      <th>overview</th>\n",
       "      <th>popularity</th>\n",
       "      <th>poster_path</th>\n",
       "      <th>tagline</th>\n",
       "      <th>genres</th>\n",
       "      <th>production_companies</th>\n",
       "      <th>production_countries</th>\n",
       "      <th>spoken_languages</th>\n",
       "      <th>Keywords</th>\n",
       "    </tr>\n",
       "  </thead>\n",
       "  <tbody>\n",
       "    <tr>\n",
       "      <th>0</th>\n",
       "      <td>0</td>\n",
       "      <td>27205</td>\n",
       "      <td>Inception</td>\n",
       "      <td>8.364</td>\n",
       "      <td>34495</td>\n",
       "      <td>Released</td>\n",
       "      <td>2010-07-15</td>\n",
       "      <td>825532764</td>\n",
       "      <td>148</td>\n",
       "      <td>False</td>\n",
       "      <td>...</td>\n",
       "      <td>Inception</td>\n",
       "      <td>Cobb, a skilled thief who commits corporate es...</td>\n",
       "      <td>83.952</td>\n",
       "      <td>/oYuLEt3zVCKq57qu2F8dT7NIa6f.jpg</td>\n",
       "      <td>Your mind is the scene of the crime.</td>\n",
       "      <td>Action, Science Fiction, Adventure</td>\n",
       "      <td>Legendary Pictures, Syncopy, Warner Bros. Pict...</td>\n",
       "      <td>United Kingdom, United States of America</td>\n",
       "      <td>English, French, Japanese, Swahili</td>\n",
       "      <td>rescue, mission, dream, airplane, paris, franc...</td>\n",
       "    </tr>\n",
       "    <tr>\n",
       "      <th>1</th>\n",
       "      <td>1</td>\n",
       "      <td>157336</td>\n",
       "      <td>Interstellar</td>\n",
       "      <td>8.417</td>\n",
       "      <td>32571</td>\n",
       "      <td>Released</td>\n",
       "      <td>2014-11-05</td>\n",
       "      <td>701729206</td>\n",
       "      <td>169</td>\n",
       "      <td>False</td>\n",
       "      <td>...</td>\n",
       "      <td>Interstellar</td>\n",
       "      <td>The adventures of a group of explorers who mak...</td>\n",
       "      <td>140.241</td>\n",
       "      <td>/gEU2QniE6E77NI6lCU6MxlNBvIx.jpg</td>\n",
       "      <td>Mankind was born on Earth. It was never meant ...</td>\n",
       "      <td>Adventure, Drama, Science Fiction</td>\n",
       "      <td>Legendary Pictures, Syncopy, Lynda Obst Produc...</td>\n",
       "      <td>United Kingdom, United States of America</td>\n",
       "      <td>English</td>\n",
       "      <td>rescue, future, spacecraft, race against time,...</td>\n",
       "    </tr>\n",
       "  </tbody>\n",
       "</table>\n",
       "<p>2 rows × 25 columns</p>\n",
       "</div>"
      ],
      "text/plain": [
       "   Unnamed: 0      id         title  vote_average  vote_count    status  \\\n",
       "0           0   27205     Inception         8.364       34495  Released   \n",
       "1           1  157336  Interstellar         8.417       32571  Released   \n",
       "\n",
       "  release_date    revenue  runtime  adult  ... original_title  \\\n",
       "0   2010-07-15  825532764      148  False  ...      Inception   \n",
       "1   2014-11-05  701729206      169  False  ...   Interstellar   \n",
       "\n",
       "                                            overview popularity  \\\n",
       "0  Cobb, a skilled thief who commits corporate es...     83.952   \n",
       "1  The adventures of a group of explorers who mak...    140.241   \n",
       "\n",
       "                        poster_path  \\\n",
       "0  /oYuLEt3zVCKq57qu2F8dT7NIa6f.jpg   \n",
       "1  /gEU2QniE6E77NI6lCU6MxlNBvIx.jpg   \n",
       "\n",
       "                                             tagline  \\\n",
       "0               Your mind is the scene of the crime.   \n",
       "1  Mankind was born on Earth. It was never meant ...   \n",
       "\n",
       "                               genres  \\\n",
       "0  Action, Science Fiction, Adventure   \n",
       "1   Adventure, Drama, Science Fiction   \n",
       "\n",
       "                                production_companies  \\\n",
       "0  Legendary Pictures, Syncopy, Warner Bros. Pict...   \n",
       "1  Legendary Pictures, Syncopy, Lynda Obst Produc...   \n",
       "\n",
       "                       production_countries  \\\n",
       "0  United Kingdom, United States of America   \n",
       "1  United Kingdom, United States of America   \n",
       "\n",
       "                     spoken_languages  \\\n",
       "0  English, French, Japanese, Swahili   \n",
       "1                             English   \n",
       "\n",
       "                                            Keywords  \n",
       "0  rescue, mission, dream, airplane, paris, franc...  \n",
       "1  rescue, future, spacecraft, race against time,...  \n",
       "\n",
       "[2 rows x 25 columns]"
      ]
     },
     "execution_count": 196,
     "metadata": {},
     "output_type": "execute_result"
    }
   ],
   "source": [
    "df.head(2)"
   ]
  },
  {
   "cell_type": "markdown",
   "metadata": {},
   "source": [
    "# Preporcess_TrainData.py"
   ]
  },
  {
   "cell_type": "code",
   "execution_count": 234,
   "metadata": {},
   "outputs": [],
   "source": [
    "import Preprocess_trainData\n",
    "from  Preprocess_trainData import *"
   ]
  },
  {
   "cell_type": "markdown",
   "metadata": {},
   "source": [
    "# sans la colonne duraion"
   ]
  },
  {
   "cell_type": "code",
   "execution_count": 235,
   "metadata": {},
   "outputs": [
    {
     "name": "stdout",
     "output_type": "stream",
     "text": [
      "(x.shape, y.shape ) \n",
      "\n",
      " Pour le train : (37, 24) (37,) \n",
      "\n",
      " Pour le test : (11, 24) (11,) \n",
      "\n",
      " Pour la validation : (2, 24) (2,) \n",
      "\n"
     ]
    }
   ],
   "source": [
    "(x_train,y_train),(x_test,y_test),(x_val,y_val),ct=Preprocess_trainData.preprocessing_data(df)"
   ]
  },
  {
   "cell_type": "markdown",
   "metadata": {},
   "source": [
    "# Avec la colonne duration"
   ]
  },
  {
   "cell_type": "code",
   "execution_count": 203,
   "metadata": {},
   "outputs": [
    {
     "name": "stdout",
     "output_type": "stream",
     "text": [
      "(x.shape, y.shape ) \n",
      "\n",
      " Pour le train : (37, 25) (37,) \n",
      "\n",
      " Pour le test : (11, 25) (11,) \n",
      "\n",
      " Pour la validation : (2, 25) (2,) \n",
      "\n"
     ]
    }
   ],
   "source": [
    "(x_train2,y_train2),(x_test2,y_test2),(x_val2,y_val2),ct2=Preprocess_TrainData123.preprocessing_data(df,with_duration=True)"
   ]
  },
  {
   "cell_type": "code",
   "execution_count": 204,
   "metadata": {},
   "outputs": [
    {
     "data": {
      "text/plain": [
       "(0, 0, 0)"
      ]
     },
     "execution_count": 204,
     "metadata": {},
     "output_type": "execute_result"
    }
   ],
   "source": [
    "x_train2.isna().sum().sum(),x_test2.isna().sum().sum(),x_val2.isna().sum().sum()"
   ]
  },
  {
   "cell_type": "markdown",
   "metadata": {},
   "source": [
    "# Preprocessing_PredictedDta.py"
   ]
  },
  {
   "cell_type": "code",
   "execution_count": 236,
   "metadata": {},
   "outputs": [],
   "source": [
    "import Preprocessing_PredictedData\n",
    "from Preprocessing_PredictedData import *"
   ]
  },
  {
   "cell_type": "code",
   "execution_count": 237,
   "metadata": {},
   "outputs": [
    {
     "data": {
      "text/plain": [
       "Index(['Unnamed: 0', 'id', 'title', 'vote_average', 'vote_count', 'status',\n",
       "       'release_date', 'runtime', 'adult', 'backdrop_path', 'budget',\n",
       "       'homepage', 'imdb_id', 'original_language', 'original_title',\n",
       "       'overview', 'popularity', 'poster_path', 'tagline', 'genres',\n",
       "       'production_companies', 'production_countries', 'spoken_languages',\n",
       "       'Keywords'],\n",
       "      dtype='object')"
      ]
     },
     "execution_count": 237,
     "metadata": {},
     "output_type": "execute_result"
    }
   ],
   "source": [
    "X=df.drop([\"revenue\"],axis=1)\n",
    "X.columns"
   ]
  },
  {
   "cell_type": "markdown",
   "metadata": {},
   "source": [
    "### SANS LA COLONNE Duration\n"
   ]
  },
  {
   "cell_type": "code",
   "execution_count": 238,
   "metadata": {},
   "outputs": [],
   "source": [
    "X_transf=Preprocessing_PredictedData.preprocessing_pipeline(X,ct)"
   ]
  },
  {
   "cell_type": "code",
   "execution_count": 239,
   "metadata": {},
   "outputs": [
    {
     "data": {
      "text/plain": [
       "Index(['budget', 'popularity', 'has_homepage', 'release_month', 'release_year',\n",
       "       'genre_Action', 'genre_Adventure', 'genre_Animation', 'genre_Comedy',\n",
       "       'genre_Crime', 'genre_Drama', 'genre_Family', 'genre_Fantasy',\n",
       "       'genre_Mystery', 'genre_Romance', 'genre_Science_Fiction',\n",
       "       'genre_Thriller', 'genre_War', 'genre_Western',\n",
       "       'spoken_languages_count', 'production_countries_count',\n",
       "       'production_companies_count', 'Keywords_count', 'released'],\n",
       "      dtype='object')"
      ]
     },
     "execution_count": 239,
     "metadata": {},
     "output_type": "execute_result"
    }
   ],
   "source": [
    "X_transf.columns"
   ]
  },
  {
   "cell_type": "code",
   "execution_count": 209,
   "metadata": {},
   "outputs": [
    {
     "data": {
      "text/plain": [
       "set()"
      ]
     },
     "execution_count": 209,
     "metadata": {},
     "output_type": "execute_result"
    }
   ],
   "source": [
    "set(x_test.columns).difference(set(X_transf.columns))"
   ]
  },
  {
   "cell_type": "code",
   "execution_count": 60,
   "metadata": {},
   "outputs": [
    {
     "data": {
      "text/plain": [
       "(50, 24)"
      ]
     },
     "execution_count": 60,
     "metadata": {},
     "output_type": "execute_result"
    }
   ],
   "source": [
    "X_transf.shape"
   ]
  },
  {
   "cell_type": "code",
   "execution_count": 61,
   "metadata": {},
   "outputs": [
    {
     "data": {
      "text/plain": [
       "0"
      ]
     },
     "execution_count": 61,
     "metadata": {},
     "output_type": "execute_result"
    }
   ],
   "source": [
    "X_transf.isna().sum().sum()"
   ]
  },
  {
   "cell_type": "markdown",
   "metadata": {},
   "source": [
    "## Avec LA COLONNE Duration\n"
   ]
  },
  {
   "cell_type": "code",
   "execution_count": 210,
   "metadata": {},
   "outputs": [],
   "source": [
    "X_transf_with_duration=Preprocessing_PredictedData.preprocessing_pipeline(X,ct2,with_duration=True)"
   ]
  },
  {
   "cell_type": "code",
   "execution_count": 211,
   "metadata": {},
   "outputs": [
    {
     "data": {
      "text/plain": [
       "(50, 25)"
      ]
     },
     "execution_count": 211,
     "metadata": {},
     "output_type": "execute_result"
    }
   ],
   "source": [
    "X_transf_with_duration.shape"
   ]
  },
  {
   "cell_type": "code",
   "execution_count": 215,
   "metadata": {},
   "outputs": [
    {
     "data": {
      "text/plain": [
       "set()"
      ]
     },
     "execution_count": 215,
     "metadata": {},
     "output_type": "execute_result"
    }
   ],
   "source": [
    "set(X_transf_with_duration.columns).difference(set(x_test2.columns)) #"
   ]
  },
  {
   "cell_type": "code",
   "execution_count": 216,
   "metadata": {},
   "outputs": [
    {
     "data": {
      "text/plain": [
       "{'Duration'}"
      ]
     },
     "execution_count": 216,
     "metadata": {},
     "output_type": "execute_result"
    }
   ],
   "source": [
    "set(X_transf_with_duration.columns).difference(set(x_test.columns))"
   ]
  },
  {
   "cell_type": "code",
   "execution_count": 212,
   "metadata": {},
   "outputs": [
    {
     "data": {
      "text/plain": [
       "0"
      ]
     },
     "execution_count": 212,
     "metadata": {},
     "output_type": "execute_result"
    }
   ],
   "source": [
    "X_transf_with_duration.isna().sum().sum()"
   ]
  },
  {
   "cell_type": "markdown",
   "metadata": {},
   "source": [
    "# TRaining"
   ]
  },
  {
   "cell_type": "code",
   "execution_count": 240,
   "metadata": {},
   "outputs": [],
   "source": [
    "import Trainers\n",
    "from Trainers import *"
   ]
  },
  {
   "cell_type": "markdown",
   "metadata": {},
   "source": [
    "# SANS DURATIOn"
   ]
  },
  {
   "cell_type": "code",
   "execution_count": 241,
   "metadata": {},
   "outputs": [
    {
     "name": "stdout",
     "output_type": "stream",
     "text": [
      "(x.shape, y.shape ) \n",
      "\n",
      " Pour le train : (37, 24) (37,) \n",
      "\n",
      " Pour le test : (11, 24) (11,) \n",
      "\n",
      " Pour la validation : (2, 24) (2,) \n",
      "\n",
      "Fitting 2 folds for each of 162 candidates, totalling 324 fits\n"
     ]
    }
   ],
   "source": [
    "model1=Trainers.XGBRegressorWrapper(df,with_duration=False)\n",
    " \n"
   ]
  },
  {
   "cell_type": "code",
   "execution_count": 242,
   "metadata": {},
   "outputs": [
    {
     "data": {
      "text/html": [
       "<div>\n",
       "<style scoped>\n",
       "    .dataframe tbody tr th:only-of-type {\n",
       "        vertical-align: middle;\n",
       "    }\n",
       "\n",
       "    .dataframe tbody tr th {\n",
       "        vertical-align: top;\n",
       "    }\n",
       "\n",
       "    .dataframe thead th {\n",
       "        text-align: right;\n",
       "    }\n",
       "</style>\n",
       "<table border=\"1\" class=\"dataframe\">\n",
       "  <thead>\n",
       "    <tr style=\"text-align: right;\">\n",
       "      <th></th>\n",
       "      <th>Best parameters</th>\n",
       "      <th>Training RMSLE</th>\n",
       "      <th>Test RMSLE</th>\n",
       "      <th>Test MAPE</th>\n",
       "      <th>Training time</th>\n",
       "    </tr>\n",
       "  </thead>\n",
       "  <tbody>\n",
       "    <tr>\n",
       "      <th>0</th>\n",
       "      <td>{'colsample_bytree': 0.7, 'learning_rate': 0.0...</td>\n",
       "      <td>-0.135773</td>\n",
       "      <td>0.797797</td>\n",
       "      <td>63.959912</td>\n",
       "      <td>6.3036</td>\n",
       "    </tr>\n",
       "  </tbody>\n",
       "</table>\n",
       "</div>"
      ],
      "text/plain": [
       "                                     Best parameters  Training RMSLE  \\\n",
       "0  {'colsample_bytree': 0.7, 'learning_rate': 0.0...       -0.135773   \n",
       "\n",
       "   Test RMSLE  Test MAPE  Training time  \n",
       "0    0.797797  63.959912         6.3036  "
      ]
     },
     "execution_count": 242,
     "metadata": {},
     "output_type": "execute_result"
    }
   ],
   "source": [
    "model1.display_results()"
   ]
  },
  {
   "cell_type": "code",
   "execution_count": 243,
   "metadata": {},
   "outputs": [
    {
     "data": {
      "text/plain": [
       "Index(['Unnamed: 0', 'id', 'title', 'vote_average', 'vote_count', 'status',\n",
       "       'release_date', 'runtime', 'adult', 'backdrop_path', 'budget',\n",
       "       'homepage', 'imdb_id', 'original_language', 'original_title',\n",
       "       'overview', 'popularity', 'poster_path', 'tagline', 'genres',\n",
       "       'production_companies', 'production_countries', 'spoken_languages',\n",
       "       'Keywords'],\n",
       "      dtype='object')"
      ]
     },
     "execution_count": 243,
     "metadata": {},
     "output_type": "execute_result"
    }
   ],
   "source": [
    "X=df.drop([\"revenue\"],axis=1)\n",
    "X.columns"
   ]
  },
  {
   "cell_type": "code",
   "execution_count": 244,
   "metadata": {},
   "outputs": [
    {
     "data": {
      "text/plain": [
       "(50,)"
      ]
     },
     "execution_count": 244,
     "metadata": {},
     "output_type": "execute_result"
    }
   ],
   "source": [
    "model1.predict_(X).shape"
   ]
  },
  {
   "cell_type": "markdown",
   "metadata": {},
   "source": [
    "# Avec Duration"
   ]
  },
  {
   "cell_type": "code",
   "execution_count": 225,
   "metadata": {},
   "outputs": [
    {
     "name": "stdout",
     "output_type": "stream",
     "text": [
      "(x.shape, y.shape ) \n",
      "\n",
      " Pour le train : (37, 25) (37,) \n",
      "\n",
      " Pour le test : (11, 25) (11,) \n",
      "\n",
      " Pour la validation : (2, 25) (2,) \n",
      "\n",
      "Fitting 2 folds for each of 162 candidates, totalling 324 fits\n"
     ]
    }
   ],
   "source": [
    "model2=train5.XGBRegressorWrapper(df,with_duration=True)\n"
   ]
  },
  {
   "cell_type": "code",
   "execution_count": 230,
   "metadata": {},
   "outputs": [
    {
     "ename": "KeyError",
     "evalue": "'spoken_languages'",
     "output_type": "error",
     "traceback": [
      "\u001b[0;31m---------------------------------------------------------------------------\u001b[0m",
      "\u001b[0;31mKeyError\u001b[0m                                  Traceback (most recent call last)",
      "File \u001b[0;32m~/work/BOX_28_04_env/lib/python3.11/site-packages/pandas/core/indexes/base.py:3805\u001b[0m, in \u001b[0;36mIndex.get_loc\u001b[0;34m(self, key)\u001b[0m\n\u001b[1;32m   3804\u001b[0m \u001b[39mtry\u001b[39;00m:\n\u001b[0;32m-> 3805\u001b[0m     \u001b[39mreturn\u001b[39;00m \u001b[39mself\u001b[39;49m\u001b[39m.\u001b[39;49m_engine\u001b[39m.\u001b[39;49mget_loc(casted_key)\n\u001b[1;32m   3806\u001b[0m \u001b[39mexcept\u001b[39;00m \u001b[39mKeyError\u001b[39;00m \u001b[39mas\u001b[39;00m err:\n",
      "File \u001b[0;32mindex.pyx:167\u001b[0m, in \u001b[0;36mpandas._libs.index.IndexEngine.get_loc\u001b[0;34m()\u001b[0m\n",
      "File \u001b[0;32mindex.pyx:196\u001b[0m, in \u001b[0;36mpandas._libs.index.IndexEngine.get_loc\u001b[0;34m()\u001b[0m\n",
      "File \u001b[0;32mpandas/_libs/hashtable_class_helper.pxi:7081\u001b[0m, in \u001b[0;36mpandas._libs.hashtable.PyObjectHashTable.get_item\u001b[0;34m()\u001b[0m\n",
      "File \u001b[0;32mpandas/_libs/hashtable_class_helper.pxi:7089\u001b[0m, in \u001b[0;36mpandas._libs.hashtable.PyObjectHashTable.get_item\u001b[0;34m()\u001b[0m\n",
      "\u001b[0;31mKeyError\u001b[0m: 'spoken_languages'",
      "\nThe above exception was the direct cause of the following exception:\n",
      "\u001b[0;31mKeyError\u001b[0m                                  Traceback (most recent call last)",
      "\u001b[1;32m/home/onyxia/work/cine-insights/notebooks/Experimentation4.ipynb Cell 40\u001b[0m line \u001b[0;36m1\n\u001b[0;32m----> <a href='vscode-notebook-cell://user-odione-952209-0.user.lab.sspcloud.fr/home/onyxia/work/cine-insights/notebooks/Experimentation4.ipynb#Y111sdnNjb2RlLXJlbW90ZQ%3D%3D?line=0'>1</a>\u001b[0m model2\u001b[39m.\u001b[39;49mpredict_(X2_t)\n",
      "File \u001b[0;32m~/work/cine-insights/src/models/train5.py:107\u001b[0m, in \u001b[0;36mXGBRegressorWrapper.predict_\u001b[0;34m(self, X)\u001b[0m\n\u001b[1;32m    106\u001b[0m \u001b[39mdef\u001b[39;00m \u001b[39mpredict_\u001b[39m(\u001b[39mself\u001b[39m, X):\n\u001b[0;32m--> 107\u001b[0m     X_transform\u001b[39m=\u001b[39mPreprocessing_PredictedData\u001b[39m.\u001b[39;49mpreprocessing_pipeline(X,\u001b[39mself\u001b[39;49m\u001b[39m.\u001b[39;49mct_data_transformer,with_duration)\n\u001b[1;32m    109\u001b[0m     \u001b[39mreturn\u001b[39;00m \u001b[39mself\u001b[39m\u001b[39m.\u001b[39mmodel\u001b[39m.\u001b[39mpredict(X_transform)\n",
      "File \u001b[0;32m~/work/cine-insights/src/features/Preprocessing_PredictedData.py:162\u001b[0m, in \u001b[0;36mpreprocessing_pipeline\u001b[0;34m(df, ct, with_duration)\u001b[0m\n\u001b[1;32m    160\u001b[0m big_df \u001b[39m=\u001b[39m set_cols(big_df)\n\u001b[1;32m    161\u001b[0m big_df \u001b[39m=\u001b[39m remove_negative_money(big_df)\n\u001b[0;32m--> 162\u001b[0m df_with_count_col \u001b[39m=\u001b[39m apply_count(big_df, cols_to_count_values\u001b[39m=\u001b[39;49mcols_to_count_values)\n\u001b[1;32m    163\u001b[0m big_df \u001b[39m=\u001b[39m Binarizer(df_with_count_col, cols_to_binarize)  \u001b[39m# Si Binarizer est une fonction définie ailleurs\u001b[39;00m\n\u001b[1;32m    164\u001b[0m big_df \u001b[39m=\u001b[39m add_gender_cols(big_df)\u001b[39m.\u001b[39mcopy()  \u001b[39m# Si add_gender_cols est une fonction définie ailleurs\u001b[39;00m\n",
      "File \u001b[0;32m~/work/cine-insights/src/features/Preprocessing_PredictedData.py:136\u001b[0m, in \u001b[0;36mapply_count\u001b[0;34m(df, cols_to_count_values)\u001b[0m\n\u001b[1;32m    134\u001b[0m \u001b[39mfor\u001b[39;00m col \u001b[39min\u001b[39;00m cols_to_count_values:\n\u001b[1;32m    135\u001b[0m     new_col_name \u001b[39m=\u001b[39m col \u001b[39m+\u001b[39m \u001b[39m\"\u001b[39m\u001b[39m_count\u001b[39m\u001b[39m\"\u001b[39m\n\u001b[0;32m--> 136\u001b[0m     df_copy[new_col_name] \u001b[39m=\u001b[39m df_copy[col]\u001b[39m.\u001b[39mapply(count_strings)\n\u001b[1;32m    137\u001b[0m df_final \u001b[39m=\u001b[39m df_copy\u001b[39m.\u001b[39mdrop(cols_to_count_values, axis\u001b[39m=\u001b[39m\u001b[39m1\u001b[39m)\n\u001b[1;32m    138\u001b[0m \u001b[39mreturn\u001b[39;00m df_final\n",
      "File \u001b[0;32m~/work/BOX_28_04_env/lib/python3.11/site-packages/pandas/core/frame.py:4102\u001b[0m, in \u001b[0;36mDataFrame.__getitem__\u001b[0;34m(self, key)\u001b[0m\n\u001b[1;32m   4100\u001b[0m \u001b[39mif\u001b[39;00m \u001b[39mself\u001b[39m\u001b[39m.\u001b[39mcolumns\u001b[39m.\u001b[39mnlevels \u001b[39m>\u001b[39m \u001b[39m1\u001b[39m:\n\u001b[1;32m   4101\u001b[0m     \u001b[39mreturn\u001b[39;00m \u001b[39mself\u001b[39m\u001b[39m.\u001b[39m_getitem_multilevel(key)\n\u001b[0;32m-> 4102\u001b[0m indexer \u001b[39m=\u001b[39m \u001b[39mself\u001b[39;49m\u001b[39m.\u001b[39;49mcolumns\u001b[39m.\u001b[39;49mget_loc(key)\n\u001b[1;32m   4103\u001b[0m \u001b[39mif\u001b[39;00m is_integer(indexer):\n\u001b[1;32m   4104\u001b[0m     indexer \u001b[39m=\u001b[39m [indexer]\n",
      "File \u001b[0;32m~/work/BOX_28_04_env/lib/python3.11/site-packages/pandas/core/indexes/base.py:3812\u001b[0m, in \u001b[0;36mIndex.get_loc\u001b[0;34m(self, key)\u001b[0m\n\u001b[1;32m   3807\u001b[0m     \u001b[39mif\u001b[39;00m \u001b[39misinstance\u001b[39m(casted_key, \u001b[39mslice\u001b[39m) \u001b[39mor\u001b[39;00m (\n\u001b[1;32m   3808\u001b[0m         \u001b[39misinstance\u001b[39m(casted_key, abc\u001b[39m.\u001b[39mIterable)\n\u001b[1;32m   3809\u001b[0m         \u001b[39mand\u001b[39;00m \u001b[39many\u001b[39m(\u001b[39misinstance\u001b[39m(x, \u001b[39mslice\u001b[39m) \u001b[39mfor\u001b[39;00m x \u001b[39min\u001b[39;00m casted_key)\n\u001b[1;32m   3810\u001b[0m     ):\n\u001b[1;32m   3811\u001b[0m         \u001b[39mraise\u001b[39;00m InvalidIndexError(key)\n\u001b[0;32m-> 3812\u001b[0m     \u001b[39mraise\u001b[39;00m \u001b[39mKeyError\u001b[39;00m(key) \u001b[39mfrom\u001b[39;00m \u001b[39merr\u001b[39;00m\n\u001b[1;32m   3813\u001b[0m \u001b[39mexcept\u001b[39;00m \u001b[39mTypeError\u001b[39;00m:\n\u001b[1;32m   3814\u001b[0m     \u001b[39m# If we have a listlike key, _check_indexing_error will raise\u001b[39;00m\n\u001b[1;32m   3815\u001b[0m     \u001b[39m#  InvalidIndexError. Otherwise we fall through and re-raise\u001b[39;00m\n\u001b[1;32m   3816\u001b[0m     \u001b[39m#  the TypeError.\u001b[39;00m\n\u001b[1;32m   3817\u001b[0m     \u001b[39mself\u001b[39m\u001b[39m.\u001b[39m_check_indexing_error(key)\n",
      "\u001b[0;31mKeyError\u001b[0m: 'spoken_languages'"
     ]
    }
   ],
   "source": [
    "model2.predict_(X2_t)"
   ]
  },
  {
   "cell_type": "code",
   "execution_count": 176,
   "metadata": {},
   "outputs": [
    {
     "data": {
      "text/html": [
       "<div>\n",
       "<style scoped>\n",
       "    .dataframe tbody tr th:only-of-type {\n",
       "        vertical-align: middle;\n",
       "    }\n",
       "\n",
       "    .dataframe tbody tr th {\n",
       "        vertical-align: top;\n",
       "    }\n",
       "\n",
       "    .dataframe thead th {\n",
       "        text-align: right;\n",
       "    }\n",
       "</style>\n",
       "<table border=\"1\" class=\"dataframe\">\n",
       "  <thead>\n",
       "    <tr style=\"text-align: right;\">\n",
       "      <th></th>\n",
       "      <th>Best parameters</th>\n",
       "      <th>Training RMSLE</th>\n",
       "      <th>Test RMSLE</th>\n",
       "      <th>Test MAPE</th>\n",
       "      <th>Training time</th>\n",
       "    </tr>\n",
       "  </thead>\n",
       "  <tbody>\n",
       "    <tr>\n",
       "      <th>0</th>\n",
       "      <td>{'colsample_bytree': 0.7, 'learning_rate': 0.0...</td>\n",
       "      <td>-0.141859</td>\n",
       "      <td>0.897502</td>\n",
       "      <td>57.725694</td>\n",
       "      <td>4.4785</td>\n",
       "    </tr>\n",
       "  </tbody>\n",
       "</table>\n",
       "</div>"
      ],
      "text/plain": [
       "                                     Best parameters  Training RMSLE  \\\n",
       "0  {'colsample_bytree': 0.7, 'learning_rate': 0.0...       -0.141859   \n",
       "\n",
       "   Test RMSLE  Test MAPE  Training time  \n",
       "0    0.897502  57.725694         4.4785  "
      ]
     },
     "execution_count": 176,
     "metadata": {},
     "output_type": "execute_result"
    }
   ],
   "source": [
    "model2.display_results()"
   ]
  },
  {
   "cell_type": "code",
   "execution_count": 177,
   "metadata": {},
   "outputs": [
    {
     "data": {
      "text/plain": [
       "{'colsample_bytree': 0.7,\n",
       " 'learning_rate': 0.03,\n",
       " 'max_depth': 5,\n",
       " 'min_child_weight': 3,\n",
       " 'n_estimators': 500,\n",
       " 'objective': 'reg:squarederror',\n",
       " 'subsample': 0.9}"
      ]
     },
     "execution_count": 177,
     "metadata": {},
     "output_type": "execute_result"
    }
   ],
   "source": [
    "best_param2=model2.best_params_\n",
    "best_param2"
   ]
  },
  {
   "cell_type": "code",
   "execution_count": 185,
   "metadata": {},
   "outputs": [],
   "source": [
    "X2_t=Preprocessing_PredictedData.preprocessing_pipeline(X,ct,with_duration=False)"
   ]
  },
  {
   "cell_type": "code",
   "execution_count": 186,
   "metadata": {},
   "outputs": [
    {
     "data": {
      "text/plain": [
       "(50, 24)"
      ]
     },
     "execution_count": 186,
     "metadata": {},
     "output_type": "execute_result"
    }
   ],
   "source": [
    "X2_t.shape"
   ]
  },
  {
   "cell_type": "code",
   "execution_count": 187,
   "metadata": {},
   "outputs": [
    {
     "data": {
      "text/plain": [
       "Index(['budget', 'popularity', 'has_homepage', 'release_month', 'release_year',\n",
       "       'genre_Action', 'genre_Adventure', 'genre_Animation', 'genre_Comedy',\n",
       "       'genre_Crime', 'genre_Drama', 'genre_Family', 'genre_Fantasy',\n",
       "       'genre_Mystery', 'genre_Romance', 'genre_Science_Fiction',\n",
       "       'genre_Thriller', 'genre_War', 'genre_Western',\n",
       "       'spoken_languages_count', 'production_countries_count',\n",
       "       'production_companies_count', 'Keywords_count', 'released'],\n",
       "      dtype='object')"
      ]
     },
     "execution_count": 187,
     "metadata": {},
     "output_type": "execute_result"
    }
   ],
   "source": [
    "X2_t.columns"
   ]
  },
  {
   "cell_type": "code",
   "execution_count": 190,
   "metadata": {},
   "outputs": [
    {
     "data": {
      "text/plain": [
       "(50,)"
      ]
     },
     "execution_count": 190,
     "metadata": {},
     "output_type": "execute_result"
    }
   ],
   "source": [
    "model1.predict_(X).shape"
   ]
  },
  {
   "cell_type": "code",
   "execution_count": 158,
   "metadata": {},
   "outputs": [
    {
     "data": {
      "text/plain": [
       "Index(['Unnamed: 0', 'id', 'title', 'vote_average', 'vote_count', 'status',\n",
       "       'release_date', 'runtime', 'adult', 'backdrop_path', 'budget',\n",
       "       'homepage', 'imdb_id', 'original_language', 'original_title',\n",
       "       'overview', 'popularity', 'poster_path', 'tagline', 'genres',\n",
       "       'production_companies', 'production_countries', 'spoken_languages',\n",
       "       'Keywords'],\n",
       "      dtype='object')"
      ]
     },
     "execution_count": 158,
     "metadata": {},
     "output_type": "execute_result"
    }
   ],
   "source": [
    "X2=df.drop([\"revenue\"],axis=1)\n",
    "X2.columns"
   ]
  },
  {
   "cell_type": "code",
   "execution_count": 159,
   "metadata": {},
   "outputs": [
    {
     "ename": "ValueError",
     "evalue": "feature_names mismatch: ['budget', 'popularity', 'has_homepage', 'release_month', 'release_year', 'genre_Action', 'genre_Adventure', 'genre_Animation', 'genre_Comedy', 'genre_Crime', 'genre_Drama', 'genre_Family', 'genre_Fantasy', 'genre_Mystery', 'genre_Romance', 'genre_Science_Fiction', 'genre_Thriller', 'genre_War', 'genre_Western', 'spoken_languages_count', 'production_countries_count', 'production_companies_count', 'Keywords_count', 'Duration', 'released'] ['budget', 'popularity', 'has_homepage', 'release_month', 'release_year', 'genre_Action', 'genre_Adventure', 'genre_Animation', 'genre_Comedy', 'genre_Crime', 'genre_Drama', 'genre_Family', 'genre_Fantasy', 'genre_Mystery', 'genre_Romance', 'genre_Science_Fiction', 'genre_Thriller', 'genre_War', 'genre_Western', 'spoken_languages_count', 'production_countries_count', 'production_companies_count', 'Keywords_count', 'released']\nexpected Duration in input data",
     "output_type": "error",
     "traceback": [
      "\u001b[0;31m---------------------------------------------------------------------------\u001b[0m",
      "\u001b[0;31mValueError\u001b[0m                                Traceback (most recent call last)",
      "\u001b[1;32m/home/onyxia/work/cine-insights/notebooks/Experimentation4.ipynb Cell 40\u001b[0m line \u001b[0;36m1\n\u001b[0;32m----> <a href='vscode-notebook-cell://user-odione-952209-0.user.lab.sspcloud.fr/home/onyxia/work/cine-insights/notebooks/Experimentation4.ipynb#X65sdnNjb2RlLXJlbW90ZQ%3D%3D?line=0'>1</a>\u001b[0m model2\u001b[39m.\u001b[39;49mpredict_(X)\n",
      "File \u001b[0;32m~/work/cine-insights/src/models/TRain123.py:110\u001b[0m, in \u001b[0;36mXGBRegressorWrapper.predict_\u001b[0;34m(self, X)\u001b[0m\n\u001b[1;32m    107\u001b[0m ct\u001b[39m=\u001b[39m\u001b[39mself\u001b[39m\u001b[39m.\u001b[39mct_data_transformer\n\u001b[1;32m    108\u001b[0m X_transform\u001b[39m=\u001b[39mPreprocessing_PredictedData\u001b[39m.\u001b[39mpreprocessing_pipeline(X,ct,with_duration\u001b[39m=\u001b[39mwith_duration)\n\u001b[0;32m--> 110\u001b[0m \u001b[39mreturn\u001b[39;00m \u001b[39mself\u001b[39;49m\u001b[39m.\u001b[39;49mmodel\u001b[39m.\u001b[39;49mpredict(X_transform)\n",
      "File \u001b[0;32m~/work/BOX_28_04_env/lib/python3.11/site-packages/xgboost/sklearn.py:1168\u001b[0m, in \u001b[0;36mXGBModel.predict\u001b[0;34m(self, X, output_margin, validate_features, base_margin, iteration_range)\u001b[0m\n\u001b[1;32m   1166\u001b[0m \u001b[39mif\u001b[39;00m \u001b[39mself\u001b[39m\u001b[39m.\u001b[39m_can_use_inplace_predict():\n\u001b[1;32m   1167\u001b[0m     \u001b[39mtry\u001b[39;00m:\n\u001b[0;32m-> 1168\u001b[0m         predts \u001b[39m=\u001b[39m \u001b[39mself\u001b[39;49m\u001b[39m.\u001b[39;49mget_booster()\u001b[39m.\u001b[39;49minplace_predict(\n\u001b[1;32m   1169\u001b[0m             data\u001b[39m=\u001b[39;49mX,\n\u001b[1;32m   1170\u001b[0m             iteration_range\u001b[39m=\u001b[39;49miteration_range,\n\u001b[1;32m   1171\u001b[0m             predict_type\u001b[39m=\u001b[39;49m\u001b[39m\"\u001b[39;49m\u001b[39mmargin\u001b[39;49m\u001b[39m\"\u001b[39;49m \u001b[39mif\u001b[39;49;00m output_margin \u001b[39melse\u001b[39;49;00m \u001b[39m\"\u001b[39;49m\u001b[39mvalue\u001b[39;49m\u001b[39m\"\u001b[39;49m,\n\u001b[1;32m   1172\u001b[0m             missing\u001b[39m=\u001b[39;49m\u001b[39mself\u001b[39;49m\u001b[39m.\u001b[39;49mmissing,\n\u001b[1;32m   1173\u001b[0m             base_margin\u001b[39m=\u001b[39;49mbase_margin,\n\u001b[1;32m   1174\u001b[0m             validate_features\u001b[39m=\u001b[39;49mvalidate_features,\n\u001b[1;32m   1175\u001b[0m         )\n\u001b[1;32m   1176\u001b[0m         \u001b[39mif\u001b[39;00m _is_cupy_array(predts):\n\u001b[1;32m   1177\u001b[0m             \u001b[39mimport\u001b[39;00m \u001b[39mcupy\u001b[39;00m  \u001b[39m# pylint: disable=import-error\u001b[39;00m\n",
      "File \u001b[0;32m~/work/BOX_28_04_env/lib/python3.11/site-packages/xgboost/core.py:2418\u001b[0m, in \u001b[0;36mBooster.inplace_predict\u001b[0;34m(self, data, iteration_range, predict_type, missing, validate_features, base_margin, strict_shape)\u001b[0m\n\u001b[1;32m   2416\u001b[0m     data, fns, _ \u001b[39m=\u001b[39m _transform_pandas_df(data, enable_categorical)\n\u001b[1;32m   2417\u001b[0m     \u001b[39mif\u001b[39;00m validate_features:\n\u001b[0;32m-> 2418\u001b[0m         \u001b[39mself\u001b[39;49m\u001b[39m.\u001b[39;49m_validate_features(fns)\n\u001b[1;32m   2419\u001b[0m \u001b[39mif\u001b[39;00m _is_list(data) \u001b[39mor\u001b[39;00m _is_tuple(data):\n\u001b[1;32m   2420\u001b[0m     data \u001b[39m=\u001b[39m np\u001b[39m.\u001b[39marray(data)\n",
      "File \u001b[0;32m~/work/BOX_28_04_env/lib/python3.11/site-packages/xgboost/core.py:2970\u001b[0m, in \u001b[0;36mBooster._validate_features\u001b[0;34m(self, feature_names)\u001b[0m\n\u001b[1;32m   2964\u001b[0m \u001b[39mif\u001b[39;00m my_missing:\n\u001b[1;32m   2965\u001b[0m     msg \u001b[39m+\u001b[39m\u001b[39m=\u001b[39m (\n\u001b[1;32m   2966\u001b[0m         \u001b[39m\"\u001b[39m\u001b[39m\\n\u001b[39;00m\u001b[39mtraining data did not have the following fields: \u001b[39m\u001b[39m\"\u001b[39m\n\u001b[1;32m   2967\u001b[0m         \u001b[39m+\u001b[39m \u001b[39m\"\u001b[39m\u001b[39m, \u001b[39m\u001b[39m\"\u001b[39m\u001b[39m.\u001b[39mjoin(\u001b[39mstr\u001b[39m(s) \u001b[39mfor\u001b[39;00m s \u001b[39min\u001b[39;00m my_missing)\n\u001b[1;32m   2968\u001b[0m     )\n\u001b[0;32m-> 2970\u001b[0m \u001b[39mraise\u001b[39;00m \u001b[39mValueError\u001b[39;00m(msg\u001b[39m.\u001b[39mformat(\u001b[39mself\u001b[39m\u001b[39m.\u001b[39mfeature_names, feature_names))\n",
      "\u001b[0;31mValueError\u001b[0m: feature_names mismatch: ['budget', 'popularity', 'has_homepage', 'release_month', 'release_year', 'genre_Action', 'genre_Adventure', 'genre_Animation', 'genre_Comedy', 'genre_Crime', 'genre_Drama', 'genre_Family', 'genre_Fantasy', 'genre_Mystery', 'genre_Romance', 'genre_Science_Fiction', 'genre_Thriller', 'genre_War', 'genre_Western', 'spoken_languages_count', 'production_countries_count', 'production_companies_count', 'Keywords_count', 'Duration', 'released'] ['budget', 'popularity', 'has_homepage', 'release_month', 'release_year', 'genre_Action', 'genre_Adventure', 'genre_Animation', 'genre_Comedy', 'genre_Crime', 'genre_Drama', 'genre_Family', 'genre_Fantasy', 'genre_Mystery', 'genre_Romance', 'genre_Science_Fiction', 'genre_Thriller', 'genre_War', 'genre_Western', 'spoken_languages_count', 'production_countries_count', 'production_companies_count', 'Keywords_count', 'released']\nexpected Duration in input data"
     ]
    }
   ],
   "source": [
    "model2.predict_(X)"
   ]
  },
  {
   "cell_type": "code",
   "execution_count": 114,
   "metadata": {},
   "outputs": [
    {
     "ename": "ValueError",
     "evalue": "feature_names mismatch: ['budget', 'popularity', 'has_homepage', 'release_month', 'release_year', 'genre_Action', 'genre_Adventure', 'genre_Animation', 'genre_Comedy', 'genre_Crime', 'genre_Drama', 'genre_Family', 'genre_Fantasy', 'genre_Mystery', 'genre_Romance', 'genre_Science_Fiction', 'genre_Thriller', 'genre_War', 'genre_Western', 'spoken_languages_count', 'production_countries_count', 'production_companies_count', 'Keywords_count', 'Duration', 'released'] ['budget', 'popularity', 'has_homepage', 'release_month', 'release_year', 'genre_Action', 'genre_Adventure', 'genre_Animation', 'genre_Comedy', 'genre_Crime', 'genre_Drama', 'genre_Family', 'genre_Fantasy', 'genre_Mystery', 'genre_Romance', 'genre_Science_Fiction', 'genre_Thriller', 'genre_War', 'genre_Western', 'spoken_languages_count', 'production_countries_count', 'production_companies_count', 'Keywords_count', 'released']\nexpected Duration in input data",
     "output_type": "error",
     "traceback": [
      "\u001b[0;31m---------------------------------------------------------------------------\u001b[0m",
      "\u001b[0;31mValueError\u001b[0m                                Traceback (most recent call last)",
      "\u001b[1;32m/home/onyxia/work/cine-insights/notebooks/Experimentation4.ipynb Cell 38\u001b[0m line \u001b[0;36m1\n\u001b[0;32m----> <a href='vscode-notebook-cell://user-odione-952209-0.user.lab.sspcloud.fr/home/onyxia/work/cine-insights/notebooks/Experimentation4.ipynb#X64sdnNjb2RlLXJlbW90ZQ%3D%3D?line=0'>1</a>\u001b[0m model2\u001b[39m.\u001b[39;49mpredict_(X)\n",
      "File \u001b[0;32m~/work/cine-insights/src/models/TRain11.py:110\u001b[0m, in \u001b[0;36mXGBRegressorWrapper.predict_\u001b[0;34m(self, X)\u001b[0m\n\u001b[1;32m    107\u001b[0m ct\u001b[39m=\u001b[39m\u001b[39mself\u001b[39m\u001b[39m.\u001b[39mct_data_transformer\n\u001b[1;32m    108\u001b[0m X_transform\u001b[39m=\u001b[39mPreprocessing_PredictedData\u001b[39m.\u001b[39mpreprocessing_pipeline(X,ct)\n\u001b[0;32m--> 110\u001b[0m \u001b[39mreturn\u001b[39;00m \u001b[39mself\u001b[39;49m\u001b[39m.\u001b[39;49mmodel\u001b[39m.\u001b[39;49mpredict(X_transform)\n",
      "File \u001b[0;32m~/work/BOX_28_04_env/lib/python3.11/site-packages/xgboost/sklearn.py:1168\u001b[0m, in \u001b[0;36mXGBModel.predict\u001b[0;34m(self, X, output_margin, validate_features, base_margin, iteration_range)\u001b[0m\n\u001b[1;32m   1166\u001b[0m \u001b[39mif\u001b[39;00m \u001b[39mself\u001b[39m\u001b[39m.\u001b[39m_can_use_inplace_predict():\n\u001b[1;32m   1167\u001b[0m     \u001b[39mtry\u001b[39;00m:\n\u001b[0;32m-> 1168\u001b[0m         predts \u001b[39m=\u001b[39m \u001b[39mself\u001b[39;49m\u001b[39m.\u001b[39;49mget_booster()\u001b[39m.\u001b[39;49minplace_predict(\n\u001b[1;32m   1169\u001b[0m             data\u001b[39m=\u001b[39;49mX,\n\u001b[1;32m   1170\u001b[0m             iteration_range\u001b[39m=\u001b[39;49miteration_range,\n\u001b[1;32m   1171\u001b[0m             predict_type\u001b[39m=\u001b[39;49m\u001b[39m\"\u001b[39;49m\u001b[39mmargin\u001b[39;49m\u001b[39m\"\u001b[39;49m \u001b[39mif\u001b[39;49;00m output_margin \u001b[39melse\u001b[39;49;00m \u001b[39m\"\u001b[39;49m\u001b[39mvalue\u001b[39;49m\u001b[39m\"\u001b[39;49m,\n\u001b[1;32m   1172\u001b[0m             missing\u001b[39m=\u001b[39;49m\u001b[39mself\u001b[39;49m\u001b[39m.\u001b[39;49mmissing,\n\u001b[1;32m   1173\u001b[0m             base_margin\u001b[39m=\u001b[39;49mbase_margin,\n\u001b[1;32m   1174\u001b[0m             validate_features\u001b[39m=\u001b[39;49mvalidate_features,\n\u001b[1;32m   1175\u001b[0m         )\n\u001b[1;32m   1176\u001b[0m         \u001b[39mif\u001b[39;00m _is_cupy_array(predts):\n\u001b[1;32m   1177\u001b[0m             \u001b[39mimport\u001b[39;00m \u001b[39mcupy\u001b[39;00m  \u001b[39m# pylint: disable=import-error\u001b[39;00m\n",
      "File \u001b[0;32m~/work/BOX_28_04_env/lib/python3.11/site-packages/xgboost/core.py:2418\u001b[0m, in \u001b[0;36mBooster.inplace_predict\u001b[0;34m(self, data, iteration_range, predict_type, missing, validate_features, base_margin, strict_shape)\u001b[0m\n\u001b[1;32m   2416\u001b[0m     data, fns, _ \u001b[39m=\u001b[39m _transform_pandas_df(data, enable_categorical)\n\u001b[1;32m   2417\u001b[0m     \u001b[39mif\u001b[39;00m validate_features:\n\u001b[0;32m-> 2418\u001b[0m         \u001b[39mself\u001b[39;49m\u001b[39m.\u001b[39;49m_validate_features(fns)\n\u001b[1;32m   2419\u001b[0m \u001b[39mif\u001b[39;00m _is_list(data) \u001b[39mor\u001b[39;00m _is_tuple(data):\n\u001b[1;32m   2420\u001b[0m     data \u001b[39m=\u001b[39m np\u001b[39m.\u001b[39marray(data)\n",
      "File \u001b[0;32m~/work/BOX_28_04_env/lib/python3.11/site-packages/xgboost/core.py:2970\u001b[0m, in \u001b[0;36mBooster._validate_features\u001b[0;34m(self, feature_names)\u001b[0m\n\u001b[1;32m   2964\u001b[0m \u001b[39mif\u001b[39;00m my_missing:\n\u001b[1;32m   2965\u001b[0m     msg \u001b[39m+\u001b[39m\u001b[39m=\u001b[39m (\n\u001b[1;32m   2966\u001b[0m         \u001b[39m\"\u001b[39m\u001b[39m\\n\u001b[39;00m\u001b[39mtraining data did not have the following fields: \u001b[39m\u001b[39m\"\u001b[39m\n\u001b[1;32m   2967\u001b[0m         \u001b[39m+\u001b[39m \u001b[39m\"\u001b[39m\u001b[39m, \u001b[39m\u001b[39m\"\u001b[39m\u001b[39m.\u001b[39mjoin(\u001b[39mstr\u001b[39m(s) \u001b[39mfor\u001b[39;00m s \u001b[39min\u001b[39;00m my_missing)\n\u001b[1;32m   2968\u001b[0m     )\n\u001b[0;32m-> 2970\u001b[0m \u001b[39mraise\u001b[39;00m \u001b[39mValueError\u001b[39;00m(msg\u001b[39m.\u001b[39mformat(\u001b[39mself\u001b[39m\u001b[39m.\u001b[39mfeature_names, feature_names))\n",
      "\u001b[0;31mValueError\u001b[0m: feature_names mismatch: ['budget', 'popularity', 'has_homepage', 'release_month', 'release_year', 'genre_Action', 'genre_Adventure', 'genre_Animation', 'genre_Comedy', 'genre_Crime', 'genre_Drama', 'genre_Family', 'genre_Fantasy', 'genre_Mystery', 'genre_Romance', 'genre_Science_Fiction', 'genre_Thriller', 'genre_War', 'genre_Western', 'spoken_languages_count', 'production_countries_count', 'production_companies_count', 'Keywords_count', 'Duration', 'released'] ['budget', 'popularity', 'has_homepage', 'release_month', 'release_year', 'genre_Action', 'genre_Adventure', 'genre_Animation', 'genre_Comedy', 'genre_Crime', 'genre_Drama', 'genre_Family', 'genre_Fantasy', 'genre_Mystery', 'genre_Romance', 'genre_Science_Fiction', 'genre_Thriller', 'genre_War', 'genre_Western', 'spoken_languages_count', 'production_countries_count', 'production_companies_count', 'Keywords_count', 'released']\nexpected Duration in input data"
     ]
    }
   ],
   "source": [
    "model2.predict_(X)"
   ]
  },
  {
   "cell_type": "code",
   "execution_count": null,
   "metadata": {},
   "outputs": [],
   "source": [
    "# MAIN.py"
   ]
  },
  {
   "cell_type": "code",
   "execution_count": 256,
   "metadata": {},
   "outputs": [],
   "source": [
    "import Main_no_dur_variable\n",
    "from Main_no_dur_variable import *"
   ]
  },
  {
   "cell_type": "code",
   "execution_count": 257,
   "metadata": {},
   "outputs": [
    {
     "name": "stdout",
     "output_type": "stream",
     "text": [
      "Raw_df: shape is (50, 25)\n",
      "(x.shape, y.shape ) \n",
      "\n",
      " Pour le train : (37, 24) (37,) \n",
      "\n",
      " Pour le test : (11, 24) (11,) \n",
      "\n",
      " Pour la validation : (2, 24) (2,) \n",
      "\n",
      "Fitting 2 folds for each of 162 candidates, totalling 324 fits\n"
     ]
    },
    {
     "data": {
      "text/html": [
       "<div>\n",
       "<style scoped>\n",
       "    .dataframe tbody tr th:only-of-type {\n",
       "        vertical-align: middle;\n",
       "    }\n",
       "\n",
       "    .dataframe tbody tr th {\n",
       "        vertical-align: top;\n",
       "    }\n",
       "\n",
       "    .dataframe thead th {\n",
       "        text-align: right;\n",
       "    }\n",
       "</style>\n",
       "<table border=\"1\" class=\"dataframe\">\n",
       "  <thead>\n",
       "    <tr style=\"text-align: right;\">\n",
       "      <th></th>\n",
       "      <th>Best parameters</th>\n",
       "      <th>Training RMSLE</th>\n",
       "      <th>Test RMSLE</th>\n",
       "      <th>Test MAPE</th>\n",
       "      <th>Training time</th>\n",
       "    </tr>\n",
       "  </thead>\n",
       "  <tbody>\n",
       "    <tr>\n",
       "      <th>0</th>\n",
       "      <td>{'colsample_bytree': 0.7, 'learning_rate': 0.0...</td>\n",
       "      <td>-0.135773</td>\n",
       "      <td>0.797797</td>\n",
       "      <td>63.959912</td>\n",
       "      <td>4.2658</td>\n",
       "    </tr>\n",
       "  </tbody>\n",
       "</table>\n",
       "</div>"
      ],
      "text/plain": [
       "                                     Best parameters  Training RMSLE  \\\n",
       "0  {'colsample_bytree': 0.7, 'learning_rate': 0.0...       -0.135773   \n",
       "\n",
       "   Test RMSLE  Test MAPE  Training time  \n",
       "0    0.797797  63.959912         4.2658  "
      ]
     },
     "execution_count": 257,
     "metadata": {},
     "output_type": "execute_result"
    }
   ],
   "source": [
    "Main_no_dur_variable.run_xgreg()"
   ]
  }
 ],
 "metadata": {
  "kernelspec": {
   "display_name": "nom_de_votre_environnement",
   "language": "python",
   "name": "nom_de_votre_environnement"
  },
  "language_info": {
   "codemirror_mode": {
    "name": "ipython",
    "version": 3
   },
   "file_extension": ".py",
   "mimetype": "text/x-python",
   "name": "python",
   "nbconvert_exporter": "python",
   "pygments_lexer": "ipython3",
   "version": "3.11.6"
  }
 },
 "nbformat": 4,
 "nbformat_minor": 2
}
