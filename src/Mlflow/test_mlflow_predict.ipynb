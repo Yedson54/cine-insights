{
 "cells": [
  {
   "cell_type": "code",
   "execution_count": 1,
   "metadata": {},
   "outputs": [
    {
     "ename": "MlflowException",
     "evalue": "The destination path for downloaded artifacts does not exist! Destination path: /home/onyxia/work/cine-insights/src/data/Download_Artefact",
     "output_type": "error",
     "traceback": [
      "\u001b[0;31m---------------------------------------------------------------------------\u001b[0m",
      "\u001b[0;31mMlflowException\u001b[0m                           Traceback (most recent call last)",
      "\u001b[1;32m/home/onyxia/work/cine-insights/src/Mlflow/test_mlflow_predict.ipynb Cell 1\u001b[0m line \u001b[0;36m1\n\u001b[0;32m----> <a href='vscode-notebook-cell://user-odione-952209-0.user.lab.sspcloud.fr/home/onyxia/work/cine-insights/src/Mlflow/test_mlflow_predict.ipynb#W0sdnNjb2RlLXJlbW90ZQ%3D%3D?line=0'>1</a>\u001b[0m \u001b[39mimport\u001b[39;00m \u001b[39mmlflow_predict\u001b[39;00m\n",
      "File \u001b[0;32m~/work/cine-insights/src/Mlflow/mlflow_predict.py:45\u001b[0m\n\u001b[1;32m     42\u001b[0m mlflow_server_uri \u001b[39m=\u001b[39m \u001b[39m\"\u001b[39m\u001b[39mhttps://user-odione-mlflow.user.lab.sspcloud.fr\u001b[39m\u001b[39m\"\u001b[39m\n\u001b[1;32m     44\u001b[0m mlflow_client \u001b[39m=\u001b[39m mlflow\u001b[39m.\u001b[39mtracking\u001b[39m.\u001b[39mMlflowClient()\n\u001b[0;32m---> 45\u001b[0m mlflow_client\u001b[39m.\u001b[39;49mdownload_artifacts(run_id\u001b[39m=\u001b[39;49mrun_id, path\u001b[39m=\u001b[39;49m\u001b[39m\"\u001b[39;49m\u001b[39mct_data_transformers\u001b[39;49m\u001b[39m\"\u001b[39;49m, dst_path\u001b[39m=\u001b[39;49mlocal_dir)\n\u001b[1;32m     47\u001b[0m \u001b[39m# Charger l'objet à partir du fichier téléchargé\u001b[39;00m\n\u001b[1;32m     48\u001b[0m artifact_path \u001b[39m=\u001b[39m os\u001b[39m.\u001b[39mpath\u001b[39m.\u001b[39mjoin(local_dir, \u001b[39m\"\u001b[39m\u001b[39mct_data_transformer.pkl\u001b[39m\u001b[39m\"\u001b[39m)\n",
      "File \u001b[0;32m~/work/BOX_28_04_env/lib/python3.11/site-packages/mlflow/tracking/client.py:2083\u001b[0m, in \u001b[0;36mMlflowClient.download_artifacts\u001b[0;34m(self, run_id, path, dst_path)\u001b[0m\n\u001b[1;32m   2036\u001b[0m \u001b[39mdef\u001b[39;00m \u001b[39mdownload_artifacts\u001b[39m(\u001b[39mself\u001b[39m, run_id: \u001b[39mstr\u001b[39m, path: \u001b[39mstr\u001b[39m, dst_path: Optional[\u001b[39mstr\u001b[39m] \u001b[39m=\u001b[39m \u001b[39mNone\u001b[39;00m) \u001b[39m-\u001b[39m\u001b[39m>\u001b[39m \u001b[39mstr\u001b[39m:\n\u001b[1;32m   2037\u001b[0m \u001b[39m    \u001b[39m\u001b[39m\"\"\"\u001b[39;00m\n\u001b[1;32m   2038\u001b[0m \u001b[39m    Download an artifact file or directory from a run to a local directory if applicable,\u001b[39;00m\n\u001b[1;32m   2039\u001b[0m \u001b[39m    and return a local path for it.\u001b[39;00m\n\u001b[0;32m   (...)\u001b[0m\n\u001b[1;32m   2081\u001b[0m \u001b[39m        Artifacts: ['features.txt']\u001b[39;00m\n\u001b[1;32m   2082\u001b[0m \u001b[39m    \"\"\"\u001b[39;00m\n\u001b[0;32m-> 2083\u001b[0m     \u001b[39mreturn\u001b[39;00m \u001b[39mself\u001b[39;49m\u001b[39m.\u001b[39;49m_tracking_client\u001b[39m.\u001b[39;49mdownload_artifacts(run_id, path, dst_path)\n",
      "File \u001b[0;32m~/work/BOX_28_04_env/lib/python3.11/site-packages/mlflow/tracking/_tracking_service/client.py:603\u001b[0m, in \u001b[0;36mTrackingServiceClient.download_artifacts\u001b[0;34m(self, run_id, path, dst_path)\u001b[0m\n\u001b[1;32m    586\u001b[0m \u001b[39mdef\u001b[39;00m \u001b[39mdownload_artifacts\u001b[39m(\u001b[39mself\u001b[39m, run_id, path, dst_path\u001b[39m=\u001b[39m\u001b[39mNone\u001b[39;00m):\n\u001b[1;32m    587\u001b[0m \u001b[39m    \u001b[39m\u001b[39m\"\"\"Download an artifact file or directory from a run to a local directory if applicable,\u001b[39;00m\n\u001b[1;32m    588\u001b[0m \u001b[39m    and return a local path for it.\u001b[39;00m\n\u001b[1;32m    589\u001b[0m \n\u001b[0;32m   (...)\u001b[0m\n\u001b[1;32m    601\u001b[0m \n\u001b[1;32m    602\u001b[0m \u001b[39m    \"\"\"\u001b[39;00m\n\u001b[0;32m--> 603\u001b[0m     \u001b[39mreturn\u001b[39;00m \u001b[39mself\u001b[39;49m\u001b[39m.\u001b[39;49m_get_artifact_repo(run_id)\u001b[39m.\u001b[39;49mdownload_artifacts(path, dst_path)\n",
      "File \u001b[0;32m~/work/BOX_28_04_env/lib/python3.11/site-packages/mlflow/store/artifact/artifact_repo.py:168\u001b[0m, in \u001b[0;36mArtifactRepository.download_artifacts\u001b[0;34m(self, artifact_path, dst_path)\u001b[0m\n\u001b[1;32m    166\u001b[0m dst_path \u001b[39m=\u001b[39m os\u001b[39m.\u001b[39mpath\u001b[39m.\u001b[39mabspath(dst_path)\n\u001b[1;32m    167\u001b[0m \u001b[39mif\u001b[39;00m \u001b[39mnot\u001b[39;00m os\u001b[39m.\u001b[39mpath\u001b[39m.\u001b[39mexists(dst_path):\n\u001b[0;32m--> 168\u001b[0m     \u001b[39mraise\u001b[39;00m MlflowException(\n\u001b[1;32m    169\u001b[0m         message\u001b[39m=\u001b[39m(\n\u001b[1;32m    170\u001b[0m             \u001b[39m\"\u001b[39m\u001b[39mThe destination path for downloaded artifacts does not\u001b[39m\u001b[39m\"\u001b[39m\n\u001b[1;32m    171\u001b[0m             \u001b[39mf\u001b[39m\u001b[39m\"\u001b[39m\u001b[39m exist! Destination path: \u001b[39m\u001b[39m{\u001b[39;00mdst_path\u001b[39m}\u001b[39;00m\u001b[39m\"\u001b[39m\n\u001b[1;32m    172\u001b[0m         ),\n\u001b[1;32m    173\u001b[0m         error_code\u001b[39m=\u001b[39mRESOURCE_DOES_NOT_EXIST,\n\u001b[1;32m    174\u001b[0m     )\n\u001b[1;32m    175\u001b[0m \u001b[39melif\u001b[39;00m \u001b[39mnot\u001b[39;00m os\u001b[39m.\u001b[39mpath\u001b[39m.\u001b[39misdir(dst_path):\n\u001b[1;32m    176\u001b[0m     \u001b[39mraise\u001b[39;00m MlflowException(\n\u001b[1;32m    177\u001b[0m         message\u001b[39m=\u001b[39m(\n\u001b[1;32m    178\u001b[0m             \u001b[39m\"\u001b[39m\u001b[39mThe destination path for downloaded artifacts must be a directory!\u001b[39m\u001b[39m\"\u001b[39m\n\u001b[0;32m   (...)\u001b[0m\n\u001b[1;32m    181\u001b[0m         error_code\u001b[39m=\u001b[39mINVALID_PARAMETER_VALUE,\n\u001b[1;32m    182\u001b[0m     )\n",
      "\u001b[0;31mMlflowException\u001b[0m: The destination path for downloaded artifacts does not exist! Destination path: /home/onyxia/work/cine-insights/src/data/Download_Artefact"
     ]
    }
   ],
   "source": [
    "import mlflow_predict"
   ]
  }
 ],
 "metadata": {
  "kernelspec": {
   "display_name": "nom_de_votre_environnement",
   "language": "python",
   "name": "nom_de_votre_environnement"
  },
  "language_info": {
   "codemirror_mode": {
    "name": "ipython",
    "version": 3
   },
   "file_extension": ".py",
   "mimetype": "text/x-python",
   "name": "python",
   "nbconvert_exporter": "python",
   "pygments_lexer": "ipython3",
   "version": "3.11.6"
  }
 },
 "nbformat": 4,
 "nbformat_minor": 2
}
