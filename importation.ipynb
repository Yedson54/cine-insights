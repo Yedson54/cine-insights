{
 "cells": [
  {
   "cell_type": "markdown",
   "id": "93957f03-3ba7-4d04-9624-221cd8493a69",
   "metadata": {},
   "source": [
    "<font size=\"+3\"><strong>Analyzing Movie Data and Predicting Box Office Performance with the TMDb API</strong></font>"
   ]
  },
  {
   "cell_type": "code",
   "execution_count": 1,
   "id": "ec8c5833-f522-4ca4-a15b-05fec4ae18ba",
   "metadata": {},
   "outputs": [],
   "source": [
    "# Import libraries.\n",
    "import time\n",
    "import requests\n",
    "import pandas as pd"
   ]
  },
  {
   "cell_type": "markdown",
   "id": "db8e8bd6-5823-4435-aeb3-fc39de2c9304",
   "metadata": {},
   "source": [
    "# 1 Importation"
   ]
  },
  {
   "cell_type": "code",
   "execution_count": 2,
   "id": "152e1942-4bf0-46bb-b906-d9bddf9501aa",
   "metadata": {},
   "outputs": [],
   "source": [
    "def get_movies(api_key, base_url, params):\n",
    "    \"\"\"Request data from TMDb API.\n",
    "    \n",
    "    Parameters\n",
    "    ----------\n",
    "    api_key: string, \n",
    "        API key.\n",
    "    \n",
    "    base_url: string, \n",
    "        base URL for API request.\n",
    "    \n",
    "    params: dictionary, \n",
    "        list of tuples or bytes to send in the query string.\n",
    "    \n",
    "    Return\n",
    "    ------\n",
    "    movies: json, \n",
    "        lists of movies imported\n",
    "    \"\"\"\n",
    "    \n",
    "    # Initialize an empty list to store the movie data\n",
    "    movies = []\n",
    "    \n",
    "    # Set a flag to indicate whether there are more pages to request\n",
    "    more_pages = True\n",
    "    \n",
    "    # Start time and iteration index\n",
    "    start_time = time.time()\n",
    "\n",
    "    while more_pages:        \n",
    "        # Make the API request\n",
    "        response = requests.get(f'{base_url}discover/movie', params=params)\n",
    "\n",
    "        # Check the status code to make sure the request was successful\n",
    "        if response.status_code == 200:\n",
    "            # Loop through the results and make a separate API request for each movie\n",
    "            for movie in response.json()['results']:\n",
    "                # Set the movie ID for the API request\n",
    "                movie_id = movie['id']\n",
    "\n",
    "                # Make the API request for the movie details\n",
    "                movie_response = requests.get(f'{base_url}movie/{movie_id}', params={'api_key': api_key})\n",
    "\n",
    "                # Check the status code to make sure the request was successful\n",
    "                if movie_response.status_code == 200:\n",
    "                    # Add the movie data to the list\n",
    "                    movies.append(movie_response.json())\n",
    "\n",
    "            # Update the page number for the next request\n",
    "            params['page'] += 1\n",
    "\n",
    "            # Check if there are more pages to request\n",
    "            if params['page'] > response.json()['total_pages']:\n",
    "                more_pages = False\n",
    "        else:\n",
    "            print(f'Request failed with status code {response.status_code}')\n",
    "            break\n",
    "\n",
    "        # Verbose printing\n",
    "        if params['page'] % 25 == 0:\n",
    "            print(f\"Page {params['page']}. Load {len(movies)} movies. Elapsed time {time.time() - start_time} seconds.\")\n",
    "\n",
    "    return movies"
   ]
  },
  {
   "cell_type": "code",
   "execution_count": 3,
   "id": "d0e907f3-1176-49e7-b695-82946a0d3b07",
   "metadata": {
    "tags": []
   },
   "outputs": [
    {
     "name": "stdout",
     "output_type": "stream",
     "text": [
      "Page 25. Load 480 movies. Elapsed time 93.0046534538269 seconds.\n",
      "Page 50. Load 980 movies. Elapsed time 189.97506618499756 seconds.\n",
      "Page 75. Load 1480 movies. Elapsed time 286.50015687942505 seconds.\n",
      "Page 100. Load 1980 movies. Elapsed time 381.6607096195221 seconds.\n",
      "Page 125. Load 2480 movies. Elapsed time 476.96944546699524 seconds.\n",
      "Page 150. Load 2980 movies. Elapsed time 573.2153375148773 seconds.\n",
      "Page 175. Load 3480 movies. Elapsed time 668.552496433258 seconds.\n",
      "Page 200. Load 3980 movies. Elapsed time 763.9174160957336 seconds.\n",
      "Page 225. Load 4480 movies. Elapsed time 860.8392179012299 seconds.\n",
      "Page 250. Load 4980 movies. Elapsed time 960.2945592403412 seconds.\n",
      "Page 275. Load 5479 movies. Elapsed time 1057.0364940166473 seconds.\n",
      "Page 300. Load 5979 movies. Elapsed time 1153.9656944274902 seconds.\n",
      "Page 325. Load 6479 movies. Elapsed time 1251.696575641632 seconds.\n",
      "Page 350. Load 6979 movies. Elapsed time 1349.213386297226 seconds.\n",
      "Page 375. Load 7479 movies. Elapsed time 1448.040400981903 seconds.\n",
      "Page 400. Load 7979 movies. Elapsed time 1575.5993196964264 seconds.\n",
      "Page 425. Load 8479 movies. Elapsed time 1678.8866739273071 seconds.\n",
      "Page 450. Load 8979 movies. Elapsed time 1780.0988523960114 seconds.\n",
      "Page 475. Load 9479 movies. Elapsed time 1881.2250583171844 seconds.\n",
      "Page 500. Load 9979 movies. Elapsed time 1983.171189546585 seconds.\n",
      "Request failed with status code 422\n"
     ]
    }
   ],
   "source": [
    "# API key\n",
    "api_key = \"06af3e1b654bb9481c777bde394b620b\"\n",
    "# Set the base URL for the TMDB API\n",
    "base_url = 'https://api.themoviedb.org/3/'\n",
    "# Set the parameters for the API request\n",
    "params = {\n",
    "    'api_key': api_key,\n",
    "    'language': 'en-US',\n",
    "    'include_adult': 'false',\n",
    "    'sort_by': 'popularity.desc',  # most popular movies\n",
    "    'primary_release_date.gte': '1900-01-01',  # start date\n",
    "    'primary_release_date.lte': '2015-12-31',  # end date\n",
    "    'page': 1\n",
    "}\n",
    "\n",
    "movies = get_movies(api_key, base_url, params)"
   ]
  },
  {
   "cell_type": "code",
   "execution_count": 4,
   "id": "b65a11ce-4e91-4f33-b01d-d607f8c6e23a",
   "metadata": {},
   "outputs": [],
   "source": [
    "# Turn into DataFrame and save as pickle for further use.\n",
    "# To avoid having to run again all the API requests.\n",
    "movies_df = pd.DataFrame(movies)\n",
    "movies_df.to_pickle(\"./data/movies_tmdb.pkl\")"
   ]
  }
 ],
 "metadata": {
  "kernelspec": {
   "display_name": "Python 3 (ipykernel)",
   "language": "python",
   "name": "python3"
  },
  "language_info": {
   "codemirror_mode": {
    "name": "ipython",
    "version": 3
   },
   "file_extension": ".py",
   "mimetype": "text/x-python",
   "name": "python",
   "nbconvert_exporter": "python",
   "pygments_lexer": "ipython3",
   "version": "3.10.4"
  },
  "toc-autonumbering": true
 },
 "nbformat": 4,
 "nbformat_minor": 5
}
