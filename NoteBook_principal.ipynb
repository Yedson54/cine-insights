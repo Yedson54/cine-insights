{
 "cells": [
  {
   "cell_type": "markdown",
   "id": "db8e8bd6-5823-4435-aeb3-fc39de2c9304",
   "metadata": {},
   "source": [
    "### 1  Importation"
   ]
  },
  {
   "cell_type": "code",
   "execution_count": null,
   "id": "d0e907f3-1176-49e7-b695-82946a0d3b07",
   "metadata": {
    "tags": []
   },
   "outputs": [],
   "source": []
  },
  {
   "cell_type": "code",
   "execution_count": null,
   "id": "a8cf49d8-64b2-4196-98ee-45d2a20455a5",
   "metadata": {},
   "outputs": [],
   "source": []
  },
  {
   "cell_type": "code",
   "execution_count": null,
   "id": "c8542669-a1c7-44f7-8aa6-9a21f1a55fbe",
   "metadata": {},
   "outputs": [],
   "source": []
  },
  {
   "cell_type": "code",
   "execution_count": null,
   "id": "067067ec-ed62-4868-80cd-b9ee9ec5b2db",
   "metadata": {},
   "outputs": [],
   "source": []
  },
  {
   "cell_type": "code",
   "execution_count": null,
   "id": "e2f8b8df-d8f0-4ac1-bcbd-9f9b700a4b03",
   "metadata": {},
   "outputs": [],
   "source": []
  },
  {
   "cell_type": "code",
   "execution_count": null,
   "id": "317c6129-b18d-4aee-8994-b2fa8d3712eb",
   "metadata": {},
   "outputs": [],
   "source": []
  },
  {
   "cell_type": "code",
   "execution_count": null,
   "id": "bf5c5a91-51fe-4194-8063-7300acdaf95c",
   "metadata": {},
   "outputs": [],
   "source": []
  },
  {
   "cell_type": "code",
   "execution_count": null,
   "id": "b80ce98d-2c69-41db-a173-a042519859fa",
   "metadata": {},
   "outputs": [],
   "source": []
  },
  {
   "cell_type": "markdown",
   "id": "4e9a22af-b096-4d4a-ba73-38a259a96463",
   "metadata": {},
   "source": [
    "### 2 Analyse descriptive"
   ]
  },
  {
   "cell_type": "code",
   "execution_count": null,
   "id": "41ce44cd-1c4b-4291-b72e-10ffdf10abf5",
   "metadata": {},
   "outputs": [],
   "source": []
  },
  {
   "cell_type": "code",
   "execution_count": null,
   "id": "bd943131-50aa-4bf3-bb65-cb3c2aa580c8",
   "metadata": {},
   "outputs": [],
   "source": []
  },
  {
   "cell_type": "code",
   "execution_count": null,
   "id": "f5ba6e21-2a77-45da-abac-c79957ecf07d",
   "metadata": {},
   "outputs": [],
   "source": []
  },
  {
   "cell_type": "code",
   "execution_count": null,
   "id": "90c29f6c-2d6b-4e38-afbe-54d5c2b30db1",
   "metadata": {},
   "outputs": [],
   "source": []
  },
  {
   "cell_type": "code",
   "execution_count": null,
   "id": "0c61f397-afeb-4626-a201-213ee87861c3",
   "metadata": {},
   "outputs": [],
   "source": []
  },
  {
   "cell_type": "code",
   "execution_count": null,
   "id": "31f4c77a-97e3-4bbb-b8d5-ff791f9b7aa4",
   "metadata": {},
   "outputs": [],
   "source": []
  },
  {
   "cell_type": "markdown",
   "id": "5e9327da-178d-4f8e-905b-3f844df4ed00",
   "metadata": {},
   "source": [
    "### 3 Modélisation"
   ]
  },
  {
   "cell_type": "code",
   "execution_count": null,
   "id": "0c024847-6994-4c6f-bdbf-83472bdeafa7",
   "metadata": {},
   "outputs": [],
   "source": []
  }
 ],
 "metadata": {
  "kernelspec": {
   "display_name": "Python 3 (ipykernel)",
   "language": "python",
   "name": "python3"
  },
  "language_info": {
   "codemirror_mode": {
    "name": "ipython",
    "version": 3
   },
   "file_extension": ".py",
   "mimetype": "text/x-python",
   "name": "python",
   "nbconvert_exporter": "python",
   "pygments_lexer": "ipython3",
   "version": "3.10.4"
  }
 },
 "nbformat": 4,
 "nbformat_minor": 5
}
